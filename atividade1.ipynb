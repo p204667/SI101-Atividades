{
  "nbformat": 4,
  "nbformat_minor": 0,
  "metadata": {
    "colab": {
      "name": "atividade1.ipynb",
      "provenance": [],
      "authorship_tag": "ABX9TyPyxOT6Ao3vKEd2PQYJrH0J",
      "include_colab_link": true
    },
    "kernelspec": {
      "name": "python3",
      "display_name": "Python 3"
    }
  },
  "cells": [
    {
      "cell_type": "markdown",
      "metadata": {
        "id": "view-in-github",
        "colab_type": "text"
      },
      "source": [
        "<a href=\"https://colab.research.google.com/github/p204667/SI101-Atividades/blob/master/atividade1.ipynb\" target=\"_parent\"><img src=\"https://colab.research.google.com/assets/colab-badge.svg\" alt=\"Open In Colab\"/></a>"
      ]
    },
    {
      "cell_type": "markdown",
      "metadata": {
        "id": "_VUqogAbD8YM",
        "colab_type": "text"
      },
      "source": [
        "**Pedro Igor Marques RA:204667**\n",
        "\n",
        "**Guilherme Bonadio de Lima RA:235877**"
      ]
    },
    {
      "cell_type": "code",
      "metadata": {
        "id": "jAlzJ91fH7tF",
        "colab_type": "code",
        "outputId": "b8287654-feda-4c7a-cb9c-f8df5401e643",
        "colab": {
          "base_uri": "https://localhost:8080/",
          "height": 77
        }
      },
      "source": [
        "%matplotlib inline\n",
        "import matplotlib.pyplot as plt\n",
        "import pandas as pd\n",
        "dados=pd.read_csv(\"Tabela_Clubes.csv\",decimal=',')\n",
        "dados.drop(['Unnamed: 13','Unnamed: 14','Unnamed: 15','Unnamed: 16'],axis=1,inplace=True)\n",
        "dados.Ano=dados.Ano.add(1)\n",
        "dados.rename(columns={'Derrotas':'Empates','Empates':'Derrotas'},inplace=True)\n",
        "dados.head(1)"
      ],
      "execution_count": 0,
      "outputs": [
        {
          "output_type": "execute_result",
          "data": {
            "text/html": [
              "<div>\n",
              "<style scoped>\n",
              "    .dataframe tbody tr th:only-of-type {\n",
              "        vertical-align: middle;\n",
              "    }\n",
              "\n",
              "    .dataframe tbody tr th {\n",
              "        vertical-align: top;\n",
              "    }\n",
              "\n",
              "    .dataframe thead th {\n",
              "        text-align: right;\n",
              "    }\n",
              "</style>\n",
              "<table border=\"1\" class=\"dataframe\">\n",
              "  <thead>\n",
              "    <tr style=\"text-align: right;\">\n",
              "      <th></th>\n",
              "      <th>Ano</th>\n",
              "      <th>Pos.</th>\n",
              "      <th>Clubes</th>\n",
              "      <th>Vitorias</th>\n",
              "      <th>Empates</th>\n",
              "      <th>Derrotas</th>\n",
              "      <th>GolsF/S</th>\n",
              "      <th>Saldo</th>\n",
              "      <th>Qtd_Jogadores</th>\n",
              "      <th>Idade_Media</th>\n",
              "      <th>Estrangeiros</th>\n",
              "      <th>Valor_total</th>\n",
              "      <th>Media_Valor</th>\n",
              "    </tr>\n",
              "  </thead>\n",
              "  <tbody>\n",
              "    <tr>\n",
              "      <th>0</th>\n",
              "      <td>2018</td>\n",
              "      <td>18</td>\n",
              "      <td>America-MG</td>\n",
              "      <td>10</td>\n",
              "      <td>10</td>\n",
              "      <td>18</td>\n",
              "      <td>30:47</td>\n",
              "      <td>-17</td>\n",
              "      <td>51</td>\n",
              "      <td>24.8</td>\n",
              "      <td>0</td>\n",
              "      <td>27350000</td>\n",
              "      <td>536000</td>\n",
              "    </tr>\n",
              "  </tbody>\n",
              "</table>\n",
              "</div>"
            ],
            "text/plain": [
              "    Ano  Pos.      Clubes  ...  Estrangeiros  Valor_total  Media_Valor\n",
              "0  2018    18  America-MG  ...             0     27350000       536000\n",
              "\n",
              "[1 rows x 13 columns]"
            ]
          },
          "metadata": {
            "tags": []
          },
          "execution_count": 3
        }
      ]
    },
    {
      "cell_type": "markdown",
      "metadata": {
        "id": "h8qn-3Yg4PHq",
        "colab_type": "text"
      },
      "source": [
        "Dados sobre o **Campeonato Brasileiro de 2009 a 2018**. Devido a erros na hora da montagem, teve quer ser feito correções nos dados."
      ]
    },
    {
      "cell_type": "code",
      "metadata": {
        "id": "gpbGC8_GmrA6",
        "colab_type": "code",
        "outputId": "d770963a-6839-4e3e-adfa-481ff7095947",
        "colab": {
          "base_uri": "https://localhost:8080/",
          "height": 84
        }
      },
      "source": [
        "dados.columns"
      ],
      "execution_count": 0,
      "outputs": [
        {
          "output_type": "execute_result",
          "data": {
            "text/plain": [
              "Index(['Ano', 'Pos.', 'Clubes', 'Vitorias', 'Empates', 'Derrotas', 'GolsF/S',\n",
              "       'Saldo', 'Qtd_Jogadores', 'Idade_Media', 'Estrangeiros', 'Valor_total',\n",
              "       'Media_Valor'],\n",
              "      dtype='object')"
            ]
          },
          "metadata": {
            "tags": []
          },
          "execution_count": 4
        }
      ]
    },
    {
      "cell_type": "code",
      "metadata": {
        "id": "7Yd3-kydVcE7",
        "colab_type": "code",
        "outputId": "7a15b93f-dd16-46ed-ddbc-84fc4ad54f36",
        "colab": {
          "base_uri": "https://localhost:8080/",
          "height": 639
        }
      },
      "source": [
        "dados[dados.Ano == 2018].sort_values('Pos.')"
      ],
      "execution_count": 0,
      "outputs": [
        {
          "output_type": "execute_result",
          "data": {
            "text/html": [
              "<div>\n",
              "<style scoped>\n",
              "    .dataframe tbody tr th:only-of-type {\n",
              "        vertical-align: middle;\n",
              "    }\n",
              "\n",
              "    .dataframe tbody tr th {\n",
              "        vertical-align: top;\n",
              "    }\n",
              "\n",
              "    .dataframe thead th {\n",
              "        text-align: right;\n",
              "    }\n",
              "</style>\n",
              "<table border=\"1\" class=\"dataframe\">\n",
              "  <thead>\n",
              "    <tr style=\"text-align: right;\">\n",
              "      <th></th>\n",
              "      <th>Ano</th>\n",
              "      <th>Pos.</th>\n",
              "      <th>Clubes</th>\n",
              "      <th>Vitorias</th>\n",
              "      <th>Empates</th>\n",
              "      <th>Derrotas</th>\n",
              "      <th>GolsF/S</th>\n",
              "      <th>Saldo</th>\n",
              "      <th>Qtd_Jogadores</th>\n",
              "      <th>Idade_Media</th>\n",
              "      <th>Estrangeiros</th>\n",
              "      <th>Valor_total</th>\n",
              "      <th>Media_Valor</th>\n",
              "    </tr>\n",
              "  </thead>\n",
              "  <tbody>\n",
              "    <tr>\n",
              "      <th>13</th>\n",
              "      <td>2018</td>\n",
              "      <td>1</td>\n",
              "      <td>Palmeiras</td>\n",
              "      <td>23</td>\n",
              "      <td>11</td>\n",
              "      <td>4</td>\n",
              "      <td>64:26</td>\n",
              "      <td>38</td>\n",
              "      <td>48</td>\n",
              "      <td>24.8</td>\n",
              "      <td>4</td>\n",
              "      <td>88330000</td>\n",
              "      <td>1840000</td>\n",
              "    </tr>\n",
              "    <tr>\n",
              "      <th>9</th>\n",
              "      <td>2018</td>\n",
              "      <td>2</td>\n",
              "      <td>Flamengo</td>\n",
              "      <td>21</td>\n",
              "      <td>9</td>\n",
              "      <td>8</td>\n",
              "      <td>59:29</td>\n",
              "      <td>30</td>\n",
              "      <td>48</td>\n",
              "      <td>23.8</td>\n",
              "      <td>7</td>\n",
              "      <td>67380000</td>\n",
              "      <td>1400000</td>\n",
              "    </tr>\n",
              "    <tr>\n",
              "      <th>12</th>\n",
              "      <td>2018</td>\n",
              "      <td>3</td>\n",
              "      <td>Internacional</td>\n",
              "      <td>19</td>\n",
              "      <td>12</td>\n",
              "      <td>7</td>\n",
              "      <td>51:29</td>\n",
              "      <td>22</td>\n",
              "      <td>46</td>\n",
              "      <td>24.2</td>\n",
              "      <td>7</td>\n",
              "      <td>55750000</td>\n",
              "      <td>1210000</td>\n",
              "    </tr>\n",
              "    <tr>\n",
              "      <th>11</th>\n",
              "      <td>2018</td>\n",
              "      <td>4</td>\n",
              "      <td>Gremio</td>\n",
              "      <td>18</td>\n",
              "      <td>12</td>\n",
              "      <td>8</td>\n",
              "      <td>48:27</td>\n",
              "      <td>21</td>\n",
              "      <td>59</td>\n",
              "      <td>24.5</td>\n",
              "      <td>2</td>\n",
              "      <td>67600000</td>\n",
              "      <td>1150000</td>\n",
              "    </tr>\n",
              "    <tr>\n",
              "      <th>16</th>\n",
              "      <td>2018</td>\n",
              "      <td>5</td>\n",
              "      <td>Sao Paulo</td>\n",
              "      <td>16</td>\n",
              "      <td>15</td>\n",
              "      <td>7</td>\n",
              "      <td>46:34</td>\n",
              "      <td>12</td>\n",
              "      <td>50</td>\n",
              "      <td>23.0</td>\n",
              "      <td>5</td>\n",
              "      <td>70880000</td>\n",
              "      <td>1420000</td>\n",
              "    </tr>\n",
              "    <tr>\n",
              "      <th>2</th>\n",
              "      <td>2018</td>\n",
              "      <td>6</td>\n",
              "      <td>Atletico-MG</td>\n",
              "      <td>17</td>\n",
              "      <td>8</td>\n",
              "      <td>13</td>\n",
              "      <td>56:43</td>\n",
              "      <td>13</td>\n",
              "      <td>50</td>\n",
              "      <td>23.4</td>\n",
              "      <td>6</td>\n",
              "      <td>61350000</td>\n",
              "      <td>1230000</td>\n",
              "    </tr>\n",
              "    <tr>\n",
              "      <th>1</th>\n",
              "      <td>2018</td>\n",
              "      <td>7</td>\n",
              "      <td>Athletico-PR</td>\n",
              "      <td>16</td>\n",
              "      <td>9</td>\n",
              "      <td>13</td>\n",
              "      <td>54:37</td>\n",
              "      <td>17</td>\n",
              "      <td>52</td>\n",
              "      <td>24.0</td>\n",
              "      <td>3</td>\n",
              "      <td>37650000</td>\n",
              "      <td>724000</td>\n",
              "    </tr>\n",
              "    <tr>\n",
              "      <th>8</th>\n",
              "      <td>2018</td>\n",
              "      <td>8</td>\n",
              "      <td>Cruzeiro</td>\n",
              "      <td>14</td>\n",
              "      <td>11</td>\n",
              "      <td>13</td>\n",
              "      <td>34:34</td>\n",
              "      <td>0</td>\n",
              "      <td>51</td>\n",
              "      <td>24.0</td>\n",
              "      <td>5</td>\n",
              "      <td>62250000</td>\n",
              "      <td>1220000</td>\n",
              "    </tr>\n",
              "    <tr>\n",
              "      <th>4</th>\n",
              "      <td>2018</td>\n",
              "      <td>9</td>\n",
              "      <td>Botafogo</td>\n",
              "      <td>13</td>\n",
              "      <td>12</td>\n",
              "      <td>13</td>\n",
              "      <td>38:46</td>\n",
              "      <td>-8</td>\n",
              "      <td>45</td>\n",
              "      <td>23.1</td>\n",
              "      <td>4</td>\n",
              "      <td>25550000</td>\n",
              "      <td>568000</td>\n",
              "    </tr>\n",
              "    <tr>\n",
              "      <th>15</th>\n",
              "      <td>2018</td>\n",
              "      <td>10</td>\n",
              "      <td>Santos</td>\n",
              "      <td>13</td>\n",
              "      <td>11</td>\n",
              "      <td>14</td>\n",
              "      <td>46:40</td>\n",
              "      <td>6</td>\n",
              "      <td>46</td>\n",
              "      <td>23.0</td>\n",
              "      <td>5</td>\n",
              "      <td>68000000</td>\n",
              "      <td>1480000</td>\n",
              "    </tr>\n",
              "    <tr>\n",
              "      <th>3</th>\n",
              "      <td>2018</td>\n",
              "      <td>11</td>\n",
              "      <td>Bahia</td>\n",
              "      <td>12</td>\n",
              "      <td>12</td>\n",
              "      <td>14</td>\n",
              "      <td>39:41</td>\n",
              "      <td>-2</td>\n",
              "      <td>48</td>\n",
              "      <td>23.2</td>\n",
              "      <td>2</td>\n",
              "      <td>34900000</td>\n",
              "      <td>727000</td>\n",
              "    </tr>\n",
              "    <tr>\n",
              "      <th>10</th>\n",
              "      <td>2018</td>\n",
              "      <td>12</td>\n",
              "      <td>Fluminense</td>\n",
              "      <td>12</td>\n",
              "      <td>9</td>\n",
              "      <td>17</td>\n",
              "      <td>32:46</td>\n",
              "      <td>-14</td>\n",
              "      <td>58</td>\n",
              "      <td>22.5</td>\n",
              "      <td>4</td>\n",
              "      <td>30800000</td>\n",
              "      <td>531000</td>\n",
              "    </tr>\n",
              "    <tr>\n",
              "      <th>7</th>\n",
              "      <td>2018</td>\n",
              "      <td>13</td>\n",
              "      <td>Corinthians</td>\n",
              "      <td>11</td>\n",
              "      <td>11</td>\n",
              "      <td>16</td>\n",
              "      <td>34:35</td>\n",
              "      <td>-1</td>\n",
              "      <td>54</td>\n",
              "      <td>24.3</td>\n",
              "      <td>6</td>\n",
              "      <td>61400000</td>\n",
              "      <td>1140000</td>\n",
              "    </tr>\n",
              "    <tr>\n",
              "      <th>6</th>\n",
              "      <td>2018</td>\n",
              "      <td>14</td>\n",
              "      <td>Chapecoense</td>\n",
              "      <td>11</td>\n",
              "      <td>11</td>\n",
              "      <td>16</td>\n",
              "      <td>34:50</td>\n",
              "      <td>-16</td>\n",
              "      <td>52</td>\n",
              "      <td>24.8</td>\n",
              "      <td>5</td>\n",
              "      <td>32030000</td>\n",
              "      <td>616000</td>\n",
              "    </tr>\n",
              "    <tr>\n",
              "      <th>5</th>\n",
              "      <td>2018</td>\n",
              "      <td>15</td>\n",
              "      <td>Ceara</td>\n",
              "      <td>10</td>\n",
              "      <td>14</td>\n",
              "      <td>14</td>\n",
              "      <td>32:38</td>\n",
              "      <td>-6</td>\n",
              "      <td>54</td>\n",
              "      <td>26.0</td>\n",
              "      <td>2</td>\n",
              "      <td>26950000</td>\n",
              "      <td>499000</td>\n",
              "    </tr>\n",
              "    <tr>\n",
              "      <th>18</th>\n",
              "      <td>2018</td>\n",
              "      <td>16</td>\n",
              "      <td>Vasco</td>\n",
              "      <td>10</td>\n",
              "      <td>13</td>\n",
              "      <td>15</td>\n",
              "      <td>41:48</td>\n",
              "      <td>-7</td>\n",
              "      <td>55</td>\n",
              "      <td>23.9</td>\n",
              "      <td>7</td>\n",
              "      <td>41580000</td>\n",
              "      <td>756000</td>\n",
              "    </tr>\n",
              "    <tr>\n",
              "      <th>17</th>\n",
              "      <td>2018</td>\n",
              "      <td>17</td>\n",
              "      <td>Sport</td>\n",
              "      <td>11</td>\n",
              "      <td>9</td>\n",
              "      <td>18</td>\n",
              "      <td>35:57</td>\n",
              "      <td>-22</td>\n",
              "      <td>47</td>\n",
              "      <td>24.1</td>\n",
              "      <td>1</td>\n",
              "      <td>30950000</td>\n",
              "      <td>659000</td>\n",
              "    </tr>\n",
              "    <tr>\n",
              "      <th>0</th>\n",
              "      <td>2018</td>\n",
              "      <td>18</td>\n",
              "      <td>America-MG</td>\n",
              "      <td>10</td>\n",
              "      <td>10</td>\n",
              "      <td>18</td>\n",
              "      <td>30:47</td>\n",
              "      <td>-17</td>\n",
              "      <td>51</td>\n",
              "      <td>24.8</td>\n",
              "      <td>0</td>\n",
              "      <td>27350000</td>\n",
              "      <td>536000</td>\n",
              "    </tr>\n",
              "    <tr>\n",
              "      <th>19</th>\n",
              "      <td>2018</td>\n",
              "      <td>19</td>\n",
              "      <td>Vitoria</td>\n",
              "      <td>9</td>\n",
              "      <td>10</td>\n",
              "      <td>19</td>\n",
              "      <td>36:63</td>\n",
              "      <td>-27</td>\n",
              "      <td>61</td>\n",
              "      <td>23.5</td>\n",
              "      <td>6</td>\n",
              "      <td>43900000</td>\n",
              "      <td>720000</td>\n",
              "    </tr>\n",
              "    <tr>\n",
              "      <th>14</th>\n",
              "      <td>2018</td>\n",
              "      <td>20</td>\n",
              "      <td>Parana</td>\n",
              "      <td>4</td>\n",
              "      <td>11</td>\n",
              "      <td>23</td>\n",
              "      <td>18:57</td>\n",
              "      <td>-39</td>\n",
              "      <td>60</td>\n",
              "      <td>22.9</td>\n",
              "      <td>3</td>\n",
              "      <td>18480000</td>\n",
              "      <td>308000</td>\n",
              "    </tr>\n",
              "  </tbody>\n",
              "</table>\n",
              "</div>"
            ],
            "text/plain": [
              "     Ano  Pos.         Clubes  ...  Estrangeiros  Valor_total  Media_Valor\n",
              "13  2018     1      Palmeiras  ...             4     88330000      1840000\n",
              "9   2018     2       Flamengo  ...             7     67380000      1400000\n",
              "12  2018     3  Internacional  ...             7     55750000      1210000\n",
              "11  2018     4         Gremio  ...             2     67600000      1150000\n",
              "16  2018     5      Sao Paulo  ...             5     70880000      1420000\n",
              "2   2018     6    Atletico-MG  ...             6     61350000      1230000\n",
              "1   2018     7   Athletico-PR  ...             3     37650000       724000\n",
              "8   2018     8       Cruzeiro  ...             5     62250000      1220000\n",
              "4   2018     9       Botafogo  ...             4     25550000       568000\n",
              "15  2018    10         Santos  ...             5     68000000      1480000\n",
              "3   2018    11          Bahia  ...             2     34900000       727000\n",
              "10  2018    12     Fluminense  ...             4     30800000       531000\n",
              "7   2018    13    Corinthians  ...             6     61400000      1140000\n",
              "6   2018    14    Chapecoense  ...             5     32030000       616000\n",
              "5   2018    15          Ceara  ...             2     26950000       499000\n",
              "18  2018    16          Vasco  ...             7     41580000       756000\n",
              "17  2018    17          Sport  ...             1     30950000       659000\n",
              "0   2018    18     America-MG  ...             0     27350000       536000\n",
              "19  2018    19        Vitoria  ...             6     43900000       720000\n",
              "14  2018    20         Parana  ...             3     18480000       308000\n",
              "\n",
              "[20 rows x 13 columns]"
            ]
          },
          "metadata": {
            "tags": []
          },
          "execution_count": 5
        }
      ]
    },
    {
      "cell_type": "markdown",
      "metadata": {
        "id": "ry_7F8sCmzwH",
        "colab_type": "text"
      },
      "source": [
        "Informações do Campeonato do ano 2009"
      ]
    },
    {
      "cell_type": "code",
      "metadata": {
        "id": "dlLbcc9jVolS",
        "colab_type": "code",
        "outputId": "3475b370-992b-4b4e-c33a-d18f3ddcfb7b",
        "colab": {
          "base_uri": "https://localhost:8080/",
          "height": 168
        }
      },
      "source": [
        "dados.Qtd_Jogadores.describe()"
      ],
      "execution_count": 0,
      "outputs": [
        {
          "output_type": "execute_result",
          "data": {
            "text/plain": [
              "count    200.00000\n",
              "mean      43.23000\n",
              "std        9.47661\n",
              "min       20.00000\n",
              "25%       36.00000\n",
              "50%       43.00000\n",
              "75%       50.00000\n",
              "max       77.00000\n",
              "Name: Qtd_Jogadores, dtype: float64"
            ]
          },
          "metadata": {
            "tags": []
          },
          "execution_count": 6
        }
      ]
    },
    {
      "cell_type": "markdown",
      "metadata": {
        "id": "oPvqfCyumt4H",
        "colab_type": "text"
      },
      "source": [
        "Informações sobre a quantidade de jogadores"
      ]
    },
    {
      "cell_type": "code",
      "metadata": {
        "id": "9dFCsBQSC1Q-",
        "colab_type": "code",
        "outputId": "83757dd9-1770-489b-93bf-9a7e15055919",
        "colab": {
          "base_uri": "https://localhost:8080/",
          "height": 275
        }
      },
      "source": [
        "dados.plot.hexbin(x='Pos.',y='Qtd_Jogadores',gridsize=10)"
      ],
      "execution_count": 0,
      "outputs": [
        {
          "output_type": "execute_result",
          "data": {
            "text/plain": [
              "<matplotlib.axes._subplots.AxesSubplot at 0x7f5dd492a390>"
            ]
          },
          "metadata": {
            "tags": []
          },
          "execution_count": 7
        },
        {
          "output_type": "display_data",
          "data": {
            "image/png": "[encoded data removed]",
            "text/plain": [
              "<Figure size 432x288 with 2 Axes>"
            ]
          },
          "metadata": {
            "tags": [],
            "needs_background": "light"
          }
        }
      ]
    },
    {
      "cell_type": "markdown",
      "metadata": {
        "id": "kzJQLa5Tjbbl",
        "colab_type": "text"
      },
      "source": [
        "A flexibilidade de alteração na seleção do time devido à quantidade de jogadores não influencia na posição "
      ]
    },
    {
      "cell_type": "code",
      "metadata": {
        "id": "ciWxeEFc9CVg",
        "colab_type": "code",
        "outputId": "daa8824e-993c-4338-82fa-b1520388cc64",
        "colab": {
          "base_uri": "https://localhost:8080/",
          "height": 296
        }
      },
      "source": [
        "indiceAno=dados.set_index('Ano')\n",
        "((3*indiceAno[indiceAno['Pos.'] == 1].Vitorias)+(indiceAno[indiceAno['Pos.'] == 1].Empates)).plot.line()"
      ],
      "execution_count": 0,
      "outputs": [
        {
          "output_type": "execute_result",
          "data": {
            "text/plain": [
              "<matplotlib.axes._subplots.AxesSubplot at 0x7f5dd4833908>"
            ]
          },
          "metadata": {
            "tags": []
          },
          "execution_count": 8
        },
        {
          "output_type": "display_data",
          "data": {
            "image/png": "[encoded data removed]",
            "text/plain": [
              "<Figure size 432x288 with 1 Axes>"
            ]
          },
          "metadata": {
            "tags": [],
            "needs_background": "light"
          }
        }
      ]
    },
    {
      "cell_type": "markdown",
      "metadata": {
        "id": "GUTz3K7mzsym",
        "colab_type": "text"
      },
      "source": [
        "Pontuação do primeiro lugar em cada ano."
      ]
    },
    {
      "cell_type": "code",
      "metadata": {
        "id": "SgXb6sWMQSNd",
        "colab_type": "code",
        "outputId": "88ab0f0a-f533-4482-e2f3-b89e00919c1d",
        "colab": {
          "base_uri": "https://localhost:8080/",
          "height": 34
        }
      },
      "source": [
        "((3*dados[dados['Pos.'] == 1].Vitorias)+(dados[dados['Pos.'] == 1].Empates)).mean()"
      ],
      "execution_count": 0,
      "outputs": [
        {
          "output_type": "execute_result",
          "data": {
            "text/plain": [
              "75.5"
            ]
          },
          "metadata": {
            "tags": []
          },
          "execution_count": 9
        }
      ]
    },
    {
      "cell_type": "markdown",
      "metadata": {
        "id": "bOHGKgEckNhs",
        "colab_type": "text"
      },
      "source": [
        "Média de pontos para a primeira posição"
      ]
    },
    {
      "cell_type": "code",
      "metadata": {
        "id": "ewNC5RHBnUuh",
        "colab_type": "code",
        "outputId": "50d047bb-daa8-4c23-bb53-0f2a7000c8da",
        "colab": {
          "base_uri": "https://localhost:8080/",
          "height": 134
        }
      },
      "source": [
        "dados.Clubes.unique()"
      ],
      "execution_count": 0,
      "outputs": [
        {
          "output_type": "execute_result",
          "data": {
            "text/plain": [
              "array(['America-MG', 'Athletico-PR', 'Atletico-MG', 'Bahia', 'Botafogo',\n",
              "       'Ceara', 'Chapecoense', 'Corinthians', 'Cruzeiro', 'Flamengo',\n",
              "       'Fluminense', 'Gremio', 'Internacional', 'Palmeiras', 'Parana',\n",
              "       'Santos', 'Sao Paulo', 'Sport', 'Vasco', 'Vitoria', 'Atletico-GO',\n",
              "       'Avai', 'Coritiba', 'Ponte Preta', 'Figueirense', 'Santa Cruz',\n",
              "       'Goias', 'Joinville', 'Criciuma', 'Nautico', 'Portuguesa',\n",
              "       'Guarani', 'Prudente', 'Santo Andre'], dtype=object)"
            ]
          },
          "metadata": {
            "tags": []
          },
          "execution_count": 10
        }
      ]
    },
    {
      "cell_type": "markdown",
      "metadata": {
        "id": "Z-8bER84kVov",
        "colab_type": "text"
      },
      "source": [
        "Times que participaram em pelo menos um campeonato do período"
      ]
    },
    {
      "cell_type": "code",
      "metadata": {
        "id": "akCr2itcFLSg",
        "colab_type": "code",
        "outputId": "4ba0cccc-f816-4e79-88a6-19160ff5a6a3",
        "colab": {
          "base_uri": "https://localhost:8080/",
          "height": 118
        }
      },
      "source": [
        "dados[dados[\"Pos.\"]==1].Clubes.value_counts()"
      ],
      "execution_count": 0,
      "outputs": [
        {
          "output_type": "execute_result",
          "data": {
            "text/plain": [
              "Corinthians    3\n",
              "Palmeiras      2\n",
              "Fluminense     2\n",
              "Cruzeiro       2\n",
              "Flamengo       1\n",
              "Name: Clubes, dtype: int64"
            ]
          },
          "metadata": {
            "tags": []
          },
          "execution_count": 11
        }
      ]
    },
    {
      "cell_type": "markdown",
      "metadata": {
        "id": "sFBVC0VUkg5V",
        "colab_type": "text"
      },
      "source": [
        "Campeões juntamente com a quantidade de vezes que ganharam"
      ]
    },
    {
      "cell_type": "code",
      "metadata": {
        "id": "iJQNXU4t4ikv",
        "colab_type": "code",
        "outputId": "6cbaf4d5-657c-4753-b67f-d345277a98bd",
        "colab": {
          "base_uri": "https://localhost:8080/",
          "height": 339
        }
      },
      "source": [
        "(dados.Clubes.value_counts()/(len(dados.Ano.unique()))).plot.bar()"
      ],
      "execution_count": 0,
      "outputs": [
        {
          "output_type": "execute_result",
          "data": {
            "text/plain": [
              "<matplotlib.axes._subplots.AxesSubplot at 0x7f5dd436ee10>"
            ]
          },
          "metadata": {
            "tags": []
          },
          "execution_count": 12
        },
        {
          "output_type": "display_data",
          "data": {
            "image/png": "[encoded data removed]",
            "text/plain": [
              "<Figure size 432x288 with 1 Axes>"
            ]
          },
          "metadata": {
            "tags": [],
            "needs_background": "light"
          }
        }
      ]
    },
    {
      "cell_type": "markdown",
      "metadata": {
        "id": "ZFbQWIqJkpzH",
        "colab_type": "text"
      },
      "source": [
        "Porcentagem de participação de cada time"
      ]
    },
    {
      "cell_type": "code",
      "metadata": {
        "id": "Sa2qY--p-ycO",
        "colab_type": "code",
        "outputId": "6eb6da3c-2cba-440d-9028-4c4dfc0f08d0",
        "colab": {
          "base_uri": "https://localhost:8080/",
          "height": 296
        }
      },
      "source": [
        "dados[dados.Clubes == 'Fluminense'].plot.line(x='Ano',y='Pos.')"
      ],
      "execution_count": 0,
      "outputs": [
        {
          "output_type": "execute_result",
          "data": {
            "text/plain": [
              "<matplotlib.axes._subplots.AxesSubplot at 0x7f5dd4272da0>"
            ]
          },
          "metadata": {
            "tags": []
          },
          "execution_count": 13
        },
        {
          "output_type": "display_data",
          "data": {
            "image/png": "[encoded data removed]",
            "text/plain": [
              "<Figure size 432x288 with 1 Axes>"
            ]
          },
          "metadata": {
            "tags": [],
            "needs_background": "light"
          }
        }
      ]
    },
    {
      "cell_type": "markdown",
      "metadata": {
        "id": "ss560uLrkzLB",
        "colab_type": "text"
      },
      "source": [
        "Linha de rendimento do time conforme os anos"
      ]
    },
    {
      "cell_type": "code",
      "metadata": {
        "id": "Yhy9944zDH5Z",
        "colab_type": "code",
        "outputId": "4ec34acf-672b-4e7a-9d92-e4f5406fd513",
        "colab": {
          "base_uri": "https://localhost:8080/",
          "height": 310
        }
      },
      "source": [
        "dados[dados.Ano == 2018].sort_values('Pos.').plot.bar(x='Pos.',y='Valor_total')"
      ],
      "execution_count": 0,
      "outputs": [
        {
          "output_type": "execute_result",
          "data": {
            "text/plain": [
              "<matplotlib.axes._subplots.AxesSubplot at 0x7f5dd41e3e48>"
            ]
          },
          "metadata": {
            "tags": []
          },
          "execution_count": 14
        },
        {
          "output_type": "display_data",
          "data": {
            "image/png": "[encoded data removed]",
            "text/plain": [
              "<Figure size 432x288 with 1 Axes>"
            ]
          },
          "metadata": {
            "tags": [],
            "needs_background": "light"
          }
        }
      ]
    },
    {
      "cell_type": "markdown",
      "metadata": {
        "id": "9I2BehA3k8A5",
        "colab_type": "text"
      },
      "source": [
        "Dinheiro gasto em relação a posição no campeonato de 2018"
      ]
    },
    {
      "cell_type": "code",
      "metadata": {
        "id": "ZWZ89CdRZgs0",
        "colab_type": "code",
        "outputId": "e80c8b53-fa62-4ea1-8aa1-507516bca3f6",
        "colab": {
          "base_uri": "https://localhost:8080/",
          "height": 282
        }
      },
      "source": [
        "dados.plot.hexbin(x='Pos.',y=\"Valor_total\",gridsize=10)"
      ],
      "execution_count": 0,
      "outputs": [
        {
          "output_type": "execute_result",
          "data": {
            "text/plain": [
              "<matplotlib.axes._subplots.AxesSubplot at 0x7f5dd42b6550>"
            ]
          },
          "metadata": {
            "tags": []
          },
          "execution_count": 15
        },
        {
          "output_type": "display_data",
          "data": {
            "image/png": "[encoded data removed]",
            "text/plain": [
              "<Figure size 432x288 with 2 Axes>"
            ]
          },
          "metadata": {
            "tags": [],
            "needs_background": "light"
          }
        }
      ]
    },
    {
      "cell_type": "markdown",
      "metadata": {
        "id": "71-zfFqMlUwU",
        "colab_type": "text"
      },
      "source": [
        "Quantidade de times por posição baseado no valor total da seleção"
      ]
    },
    {
      "cell_type": "code",
      "metadata": {
        "id": "f6R1KKc963-0",
        "colab_type": "code",
        "outputId": "9c048ed4-62ad-4d99-e0d2-b4ac45383d90",
        "colab": {
          "base_uri": "https://localhost:8080/",
          "height": 295
        }
      },
      "source": [
        "dados.Media_Valor.plot.hist()"
      ],
      "execution_count": 0,
      "outputs": [
        {
          "output_type": "execute_result",
          "data": {
            "text/plain": [
              "<matplotlib.axes._subplots.AxesSubplot at 0x7f5dd422e320>"
            ]
          },
          "metadata": {
            "tags": []
          },
          "execution_count": 16
        },
        {
          "output_type": "display_data",
          "data": {
            "image/png": "[encoded data removed]",
            "text/plain": [
              "<Figure size 432x288 with 1 Axes>"
            ]
          },
          "metadata": {
            "tags": [],
            "needs_background": "light"
          }
        }
      ]
    },
    {
      "cell_type": "markdown",
      "metadata": {
        "id": "_rwe9ni2mF0J",
        "colab_type": "text"
      },
      "source": [
        "Quantidade de times separados pelo valor médio por jogador"
      ]
    },
    {
      "cell_type": "code",
      "metadata": {
        "id": "9jXYiR0-Gb_l",
        "colab_type": "code",
        "outputId": "30fe0013-79cc-41bd-c6cf-3698cea8ad31",
        "colab": {
          "base_uri": "https://localhost:8080/",
          "height": 185
        }
      },
      "source": [
        "dados.Estrangeiros.value_counts().sort_index()"
      ],
      "execution_count": 0,
      "outputs": [
        {
          "output_type": "execute_result",
          "data": {
            "text/plain": [
              "0    30\n",
              "1    32\n",
              "2    27\n",
              "3    32\n",
              "4    34\n",
              "5    22\n",
              "6    13\n",
              "7     9\n",
              "8     1\n",
              "Name: Estrangeiros, dtype: int64"
            ]
          },
          "metadata": {
            "tags": []
          },
          "execution_count": 17
        }
      ]
    },
    {
      "cell_type": "markdown",
      "metadata": {
        "id": "97Q7FxTemaz0",
        "colab_type": "text"
      },
      "source": [
        "Quantidade de jogadores estrangeiros em todos times"
      ]
    }
  ]
}
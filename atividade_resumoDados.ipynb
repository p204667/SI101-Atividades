{
  "nbformat": 4,
  "nbformat_minor": 0,
  "metadata": {
    "colab": {
      "name": "atividade-resumoDados.ipynb",
      "provenance": [],
      "toc_visible": true,
      "mount_file_id": "1KLOsL213asMES7EBiegVBZn76oTUdwmL",
      "authorship_tag": "ABX9TyM4jKWON0MkTMqsn1cmEfxH",
      "include_colab_link": true
    },
    "kernelspec": {
      "name": "python3",
      "display_name": "Python 3"
    }
  },
  "cells": [
    {
      "cell_type": "markdown",
      "metadata": {
        "id": "view-in-github",
        "colab_type": "text"
      },
      "source": [
        "<a href=\"https://colab.research.google.com/github/p204667/SI101-Atividades/blob/master/atividade_resumoDados.ipynb\" target=\"_parent\"><img src=\"https://colab.research.google.com/assets/colab-badge.svg\" alt=\"Open In Colab\"/></a>"
      ]
    },
    {
      "cell_type": "markdown",
      "metadata": {
        "id": "4tJBWce75GQr",
        "colab_type": "text"
      },
      "source": [
        "**Pedro Igor Marques RA:204667**\n",
        "\n",
        "**Guilherme Bonadio de Lima RA:235877**\n",
        "\n",
        "---\n",
        "Dados sobre o **Campeonato Brasileiro de 2009 a 2018**.\n",
        "\n"
      ]
    },
    {
      "cell_type": "code",
      "metadata": {
        "id": "W5qxL33U9I04",
        "colab_type": "code",
        "outputId": "d9531d09-4ca1-44bf-debd-986188443db5",
        "colab": {
          "base_uri": "https://localhost:8080/",
          "height": 70
        }
      },
      "source": [
        "%matplotlib inline\n",
        "import matplotlib.pyplot as plt\n",
        "import pandas as pd\n",
        "import seaborn as sns"
      ],
      "execution_count": 0,
      "outputs": [
        {
          "output_type": "stream",
          "text": [
            "/usr/local/lib/python3.6/dist-packages/statsmodels/tools/_testing.py:19: FutureWarning: pandas.util.testing is deprecated. Use the functions in the public API at pandas.testing instead.\n",
            "  import pandas.util.testing as tm\n"
          ],
          "name": "stderr"
        }
      ]
    },
    {
      "cell_type": "code",
      "metadata": {
        "id": "K01ZInc_49Ul",
        "colab_type": "code",
        "outputId": "b3489469-fa55-45b3-dd59-de604fb9a616",
        "colab": {
          "base_uri": "https://localhost:8080/",
          "height": 77
        }
      },
      "source": [
        "dadosCampeonato=pd.read_csv(\"Tabela_Clubes.csv\",decimal=',')\n",
        "dadosCampeonato.drop(['Unnamed: 13','Unnamed: 14','Unnamed: 15','Unnamed: 16'],axis=1,inplace=True)\n",
        "dadosCampeonato.Ano=dadosCampeonato.Ano.add(1)\n",
        "dadosCampeonato.rename(columns={'Derrotas':'Empates','Empates':'Derrotas'},inplace=True)\n",
        "dadosCampeonato.head(1)"
      ],
      "execution_count": 0,
      "outputs": [
        {
          "output_type": "execute_result",
          "data": {
            "text/html": [
              "<div>\n",
              "<style scoped>\n",
              "    .dataframe tbody tr th:only-of-type {\n",
              "        vertical-align: middle;\n",
              "    }\n",
              "\n",
              "    .dataframe tbody tr th {\n",
              "        vertical-align: top;\n",
              "    }\n",
              "\n",
              "    .dataframe thead th {\n",
              "        text-align: right;\n",
              "    }\n",
              "</style>\n",
              "<table border=\"1\" class=\"dataframe\">\n",
              "  <thead>\n",
              "    <tr style=\"text-align: right;\">\n",
              "      <th></th>\n",
              "      <th>Ano</th>\n",
              "      <th>Pos.</th>\n",
              "      <th>Clubes</th>\n",
              "      <th>Vitorias</th>\n",
              "      <th>Empates</th>\n",
              "      <th>Derrotas</th>\n",
              "      <th>GolsF/S</th>\n",
              "      <th>Saldo</th>\n",
              "      <th>Qtd_Jogadores</th>\n",
              "      <th>Idade_Media</th>\n",
              "      <th>Estrangeiros</th>\n",
              "      <th>Valor_total</th>\n",
              "      <th>Media_Valor</th>\n",
              "    </tr>\n",
              "  </thead>\n",
              "  <tbody>\n",
              "    <tr>\n",
              "      <th>0</th>\n",
              "      <td>2018</td>\n",
              "      <td>18</td>\n",
              "      <td>America-MG</td>\n",
              "      <td>10</td>\n",
              "      <td>10</td>\n",
              "      <td>18</td>\n",
              "      <td>30:47</td>\n",
              "      <td>-17</td>\n",
              "      <td>51</td>\n",
              "      <td>24.8</td>\n",
              "      <td>0</td>\n",
              "      <td>27350000</td>\n",
              "      <td>536000</td>\n",
              "    </tr>\n",
              "  </tbody>\n",
              "</table>\n",
              "</div>"
            ],
            "text/plain": [
              "    Ano  Pos.      Clubes  ...  Estrangeiros  Valor_total  Media_Valor\n",
              "0  2018    18  America-MG  ...             0     27350000       536000\n",
              "\n",
              "[1 rows x 13 columns]"
            ]
          },
          "metadata": {
            "tags": []
          },
          "execution_count": 2
        }
      ]
    },
    {
      "cell_type": "code",
      "metadata": {
        "id": "dlLbcc9jVolS",
        "colab_type": "code",
        "outputId": "ef94bea8-9301-46b5-edc4-d4089d18021e",
        "colab": {
          "base_uri": "https://localhost:8080/",
          "height": 168
        }
      },
      "source": [
        "dadosCampeonato.Qtd_Jogadores.describe()"
      ],
      "execution_count": 0,
      "outputs": [
        {
          "output_type": "execute_result",
          "data": {
            "text/plain": [
              "count    200.00000\n",
              "mean      43.23000\n",
              "std        9.47661\n",
              "min       20.00000\n",
              "25%       36.00000\n",
              "50%       43.00000\n",
              "75%       50.00000\n",
              "max       77.00000\n",
              "Name: Qtd_Jogadores, dtype: float64"
            ]
          },
          "metadata": {
            "tags": []
          },
          "execution_count": 4
        }
      ]
    },
    {
      "cell_type": "markdown",
      "metadata": {
        "id": "oPvqfCyumt4H",
        "colab_type": "text"
      },
      "source": [
        "Informações sobre a quantidade de jogadores"
      ]
    },
    {
      "cell_type": "code",
      "metadata": {
        "id": "9dFCsBQSC1Q-",
        "colab_type": "code",
        "outputId": "50ab0fb0-3d5f-4536-e628-8b17a19af1d3",
        "colab": {
          "base_uri": "https://localhost:8080/",
          "height": 275
        }
      },
      "source": [
        "dadosCampeonato.plot.hexbin(x='Pos.',y='Qtd_Jogadores',gridsize=10)"
      ],
      "execution_count": 0,
      "outputs": [
        {
          "output_type": "execute_result",
          "data": {
            "text/plain": [
              "<matplotlib.axes._subplots.AxesSubplot at 0x7f45859ed048>"
            ]
          },
          "metadata": {
            "tags": []
          },
          "execution_count": 5
        },
        {
          "output_type": "display_data",
          "data": {
            "image/png": "[encoded data removed]",
            "text/plain": [
              "<Figure size 432x288 with 2 Axes>"
            ]
          },
          "metadata": {
            "tags": [],
            "needs_background": "light"
          }
        }
      ]
    },
    {
      "cell_type": "markdown",
      "metadata": {
        "id": "kzJQLa5Tjbbl",
        "colab_type": "text"
      },
      "source": [
        "A flexibilidade de alteração na seleção do time devido à quantidade de jogadores não influencia na posição "
      ]
    },
    {
      "cell_type": "code",
      "metadata": {
        "id": "ciWxeEFc9CVg",
        "colab_type": "code",
        "outputId": "1fb837d5-4908-4e92-b896-6a07de7bdf3d",
        "colab": {
          "base_uri": "https://localhost:8080/",
          "height": 296
        }
      },
      "source": [
        "indiceAno=dadosCampeonato.set_index('Ano')\n",
        "((3*indiceAno[indiceAno['Pos.'] == 1].Vitorias)+(indiceAno[indiceAno['Pos.'] == 1].Empates)).plot.line()"
      ],
      "execution_count": 0,
      "outputs": [
        {
          "output_type": "execute_result",
          "data": {
            "text/plain": [
              "<matplotlib.axes._subplots.AxesSubplot at 0x7f45859038d0>"
            ]
          },
          "metadata": {
            "tags": []
          },
          "execution_count": 6
        },
        {
          "output_type": "display_data",
          "data": {
            "image/png": "[encoded data removed]",
            "text/plain": [
              "<Figure size 432x288 with 1 Axes>"
            ]
          },
          "metadata": {
            "tags": [],
            "needs_background": "light"
          }
        }
      ]
    },
    {
      "cell_type": "markdown",
      "metadata": {
        "id": "GUTz3K7mzsym",
        "colab_type": "text"
      },
      "source": [
        "Pontuação do primeiro lugar em cada ano."
      ]
    },
    {
      "cell_type": "code",
      "metadata": {
        "id": "SgXb6sWMQSNd",
        "colab_type": "code",
        "outputId": "2403be7b-cffa-4f6e-e3ca-f6e8eda11d72",
        "colab": {
          "base_uri": "https://localhost:8080/",
          "height": 34
        }
      },
      "source": [
        "((3*dadosCampeonato[dadosCampeonato['Pos.'] == 1].Vitorias)+(dadosCampeonato[dadosCampeonato['Pos.'] == 1].Empates)).mean()"
      ],
      "execution_count": 0,
      "outputs": [
        {
          "output_type": "execute_result",
          "data": {
            "text/plain": [
              "75.5"
            ]
          },
          "metadata": {
            "tags": []
          },
          "execution_count": 7
        }
      ]
    },
    {
      "cell_type": "markdown",
      "metadata": {
        "id": "bOHGKgEckNhs",
        "colab_type": "text"
      },
      "source": [
        "Média de pontos para a primeira posição"
      ]
    },
    {
      "cell_type": "code",
      "metadata": {
        "id": "ewNC5RHBnUuh",
        "colab_type": "code",
        "outputId": "5c5b5aea-9fcc-46fd-b203-75991c57a0e7",
        "colab": {
          "base_uri": "https://localhost:8080/",
          "height": 134
        }
      },
      "source": [
        "dadosCampeonato.Clubes.unique()"
      ],
      "execution_count": 0,
      "outputs": [
        {
          "output_type": "execute_result",
          "data": {
            "text/plain": [
              "array(['America-MG', 'Athletico-PR', 'Atletico-MG', 'Bahia', 'Botafogo',\n",
              "       'Ceara', 'Chapecoense', 'Corinthians', 'Cruzeiro', 'Flamengo',\n",
              "       'Fluminense', 'Gremio', 'Internacional', 'Palmeiras', 'Parana',\n",
              "       'Santos', 'Sao Paulo', 'Sport', 'Vasco', 'Vitoria', 'Atletico-GO',\n",
              "       'Avai', 'Coritiba', 'Ponte Preta', 'Figueirense', 'Santa Cruz',\n",
              "       'Goias', 'Joinville', 'Criciuma', 'Nautico', 'Portuguesa',\n",
              "       'Guarani', 'Prudente', 'Santo Andre'], dtype=object)"
            ]
          },
          "metadata": {
            "tags": []
          },
          "execution_count": 8
        }
      ]
    },
    {
      "cell_type": "markdown",
      "metadata": {
        "id": "Z-8bER84kVov",
        "colab_type": "text"
      },
      "source": [
        "Times que participaram em pelo menos um campeonato do período"
      ]
    },
    {
      "cell_type": "code",
      "metadata": {
        "id": "akCr2itcFLSg",
        "colab_type": "code",
        "outputId": "c87d88f3-f41a-4bc6-efa7-734c2cd93d54",
        "colab": {
          "base_uri": "https://localhost:8080/",
          "height": 118
        }
      },
      "source": [
        "dadosCampeonato[dadosCampeonato[\"Pos.\"]==1].Clubes.value_counts()"
      ],
      "execution_count": 0,
      "outputs": [
        {
          "output_type": "execute_result",
          "data": {
            "text/plain": [
              "Corinthians    3\n",
              "Palmeiras      2\n",
              "Fluminense     2\n",
              "Cruzeiro       2\n",
              "Flamengo       1\n",
              "Name: Clubes, dtype: int64"
            ]
          },
          "metadata": {
            "tags": []
          },
          "execution_count": 9
        }
      ]
    },
    {
      "cell_type": "markdown",
      "metadata": {
        "id": "sFBVC0VUkg5V",
        "colab_type": "text"
      },
      "source": [
        "Campeões juntamente com a quantidade de vezes que ganharam"
      ]
    },
    {
      "cell_type": "code",
      "metadata": {
        "id": "Yhy9944zDH5Z",
        "colab_type": "code",
        "outputId": "4f0c9aac-13b1-431a-d170-5b3db077da15",
        "colab": {
          "base_uri": "https://localhost:8080/",
          "height": 310
        }
      },
      "source": [
        "dadosCampeonato[dadosCampeonato.Ano == 2018].sort_values('Pos.').plot.bar(x='Pos.',y='Valor_total')"
      ],
      "execution_count": 0,
      "outputs": [
        {
          "output_type": "execute_result",
          "data": {
            "text/plain": [
              "<matplotlib.axes._subplots.AxesSubplot at 0x7f4585437ef0>"
            ]
          },
          "metadata": {
            "tags": []
          },
          "execution_count": 10
        },
        {
          "output_type": "display_data",
          "data": {
            "image/png": "[encoded data removed]",
            "text/plain": [
              "<Figure size 432x288 with 1 Axes>"
            ]
          },
          "metadata": {
            "tags": [],
            "needs_background": "light"
          }
        }
      ]
    },
    {
      "cell_type": "markdown",
      "metadata": {
        "id": "9I2BehA3k8A5",
        "colab_type": "text"
      },
      "source": [
        "Dinheiro gasto em relação a posição no campeonato de 2018"
      ]
    },
    {
      "cell_type": "code",
      "metadata": {
        "id": "ZWZ89CdRZgs0",
        "colab_type": "code",
        "outputId": "cacd8748-cd23-4549-903a-7015d475c2d4",
        "colab": {
          "base_uri": "https://localhost:8080/",
          "height": 282
        }
      },
      "source": [
        "dadosCampeonato.plot.hexbin(x='Pos.',y=\"Valor_total\",gridsize=10)"
      ],
      "execution_count": 0,
      "outputs": [
        {
          "output_type": "execute_result",
          "data": {
            "text/plain": [
              "<matplotlib.axes._subplots.AxesSubplot at 0x7f4586d410b8>"
            ]
          },
          "metadata": {
            "tags": []
          },
          "execution_count": 11
        },
        {
          "output_type": "display_data",
          "data": {
            "image/png": "[encoded data removed]",
            "text/plain": [
              "<Figure size 432x288 with 2 Axes>"
            ]
          },
          "metadata": {
            "tags": [],
            "needs_background": "light"
          }
        }
      ]
    },
    {
      "cell_type": "markdown",
      "metadata": {
        "id": "71-zfFqMlUwU",
        "colab_type": "text"
      },
      "source": [
        "Quantidade de times por posição baseado no valor total da seleção"
      ]
    },
    {
      "cell_type": "code",
      "metadata": {
        "id": "f6R1KKc963-0",
        "colab_type": "code",
        "outputId": "6983f35f-106c-4011-d463-2c282597b52f",
        "colab": {
          "base_uri": "https://localhost:8080/",
          "height": 295
        }
      },
      "source": [
        "dadosCampeonato.Media_Valor.plot.hist()"
      ],
      "execution_count": 0,
      "outputs": [
        {
          "output_type": "execute_result",
          "data": {
            "text/plain": [
              "<matplotlib.axes._subplots.AxesSubplot at 0x7f45852bd048>"
            ]
          },
          "metadata": {
            "tags": []
          },
          "execution_count": 12
        },
        {
          "output_type": "display_data",
          "data": {
            "image/png": "[encoded data removed]",
            "text/plain": [
              "<Figure size 432x288 with 1 Axes>"
            ]
          },
          "metadata": {
            "tags": [],
            "needs_background": "light"
          }
        }
      ]
    },
    {
      "cell_type": "markdown",
      "metadata": {
        "id": "_rwe9ni2mF0J",
        "colab_type": "text"
      },
      "source": [
        "Quantidade de times separados pelo valor médio por jogador"
      ]
    },
    {
      "cell_type": "code",
      "metadata": {
        "id": "9jXYiR0-Gb_l",
        "colab_type": "code",
        "outputId": "1798e234-03a5-429e-87a6-cdc98f8375f5",
        "colab": {
          "base_uri": "https://localhost:8080/",
          "height": 185
        }
      },
      "source": [
        "dadosCampeonato.Estrangeiros.value_counts().sort_index()"
      ],
      "execution_count": 0,
      "outputs": [
        {
          "output_type": "execute_result",
          "data": {
            "text/plain": [
              "0    30\n",
              "1    32\n",
              "2    27\n",
              "3    32\n",
              "4    34\n",
              "5    22\n",
              "6    13\n",
              "7     9\n",
              "8     1\n",
              "Name: Estrangeiros, dtype: int64"
            ]
          },
          "metadata": {
            "tags": []
          },
          "execution_count": 13
        }
      ]
    },
    {
      "cell_type": "markdown",
      "metadata": {
        "id": "97Q7FxTemaz0",
        "colab_type": "text"
      },
      "source": [
        "Quantidade de jogadores estrangeiros em todos times"
      ]
    },
    {
      "cell_type": "markdown",
      "metadata": {
        "id": "r_pRKRTt7yVF",
        "colab_type": "text"
      },
      "source": [
        "#Atividade 2\n"
      ]
    },
    {
      "cell_type": "code",
      "metadata": {
        "id": "cpIgX4H6iZ_w",
        "colab_type": "code",
        "colab": {}
      },
      "source": [
        "dados=dadosCampeonato.drop(range(0,20),axis=0)\n",
        "APrever=dadosCampeonato[dadosCampeonato.Ano == 2018].sort_values('Pos.')"
      ],
      "execution_count": 0,
      "outputs": []
    },
    {
      "cell_type": "markdown",
      "metadata": {
        "id": "pVF5Qd31cRQP",
        "colab_type": "text"
      },
      "source": [
        "* Setor **1** = Abaixo da Média\n",
        "* Setor **2** = Próximo da Média\n",
        "* Setor **3** = Acima da Média"
      ]
    },
    {
      "cell_type": "code",
      "metadata": {
        "id": "TZwAzFpdufHL",
        "colab_type": "code",
        "outputId": "67a65dc0-c5e4-4460-cc9e-7dc10ebfeba4",
        "colab": {
          "base_uri": "https://localhost:8080/",
          "height": 297
        }
      },
      "source": [
        "dados['setor_valor_total']=1\n",
        "dados.loc[dados.Valor_total>=0.25e+08,\"setor_valor_total\"]=2\n",
        "dados.loc[dados.Valor_total>=0.5e+08,\"setor_valor_total\"]=3\n",
        "sns.countplot(x='setor_valor_total',data=dados)"
      ],
      "execution_count": 0,
      "outputs": [
        {
          "output_type": "execute_result",
          "data": {
            "text/plain": [
              "<matplotlib.axes._subplots.AxesSubplot at 0x7f45852266a0>"
            ]
          },
          "metadata": {
            "tags": []
          },
          "execution_count": 15
        },
        {
          "output_type": "display_data",
          "data": {
            "image/png": "[encoded data removed]",
            "text/plain": [
              "<Figure size 432x288 with 1 Axes>"
            ]
          },
          "metadata": {
            "tags": [],
            "needs_background": "light"
          }
        }
      ]
    },
    {
      "cell_type": "markdown",
      "metadata": {
        "id": "5RqaYKahoUWL",
        "colab_type": "text"
      },
      "source": [
        "Times distribuidos de modo equilibrado para que todos os setores tivessem um bom número de referências para fazermos análise do gráfico."
      ]
    },
    {
      "cell_type": "code",
      "metadata": {
        "id": "-Ph8l24pu_1G",
        "colab_type": "code",
        "outputId": "c99c7d8b-5236-4669-8a0d-ed597a5c8331",
        "colab": {
          "base_uri": "https://localhost:8080/",
          "height": 439
        }
      },
      "source": [
        "sns.factorplot(x='Pos.',col='setor_valor_total',kind='count',data=dados)"
      ],
      "execution_count": 0,
      "outputs": [
        {
          "output_type": "stream",
          "text": [
            "/usr/local/lib/python3.6/dist-packages/seaborn/categorical.py:3666: UserWarning: The `factorplot` function has been renamed to `catplot`. The original name will be removed in a future release. Please update your code. Note that the default `kind` in `factorplot` (`'point'`) has changed `'strip'` in `catplot`.\n",
            "  warnings.warn(msg)\n"
          ],
          "name": "stderr"
        },
        {
          "output_type": "execute_result",
          "data": {
            "text/plain": [
              "<seaborn.axisgrid.FacetGrid at 0x7f45852bd3c8>"
            ]
          },
          "metadata": {
            "tags": []
          },
          "execution_count": 16
        },
        {
          "output_type": "display_data",
          "data": {
            "image/png": "[encoded data removed]",
            "text/plain": [
              "<Figure size 1080x360 with 3 Axes>"
            ]
          },
          "metadata": {
            "tags": [],
            "needs_background": "light"
          }
        }
      ]
    },
    {
      "cell_type": "markdown",
      "metadata": {
        "id": "kb1rjg1boXUT",
        "colab_type": "text"
      },
      "source": [
        "Aqui fica visível a diferença nas posições ocupadas no qual os times que investiram mais(**setor 3**) tiveram um melhor resultado"
      ]
    },
    {
      "cell_type": "code",
      "metadata": {
        "id": "6rgBa6Edw6iC",
        "colab_type": "code",
        "outputId": "ea293336-e7f3-4721-c994-481b0705d8a5",
        "colab": {
          "base_uri": "https://localhost:8080/",
          "height": 297
        }
      },
      "source": [
        "dados['setor_valor_medio']=1\n",
        "dados.loc[dados.Media_Valor>=0.6e+06,\"setor_valor_medio\"]=2\n",
        "dados.loc[dados.Media_Valor>=1.2e+06,\"setor_valor_medio\"]=3\n",
        "sns.countplot(x='setor_valor_medio',data=dados)"
      ],
      "execution_count": 0,
      "outputs": [
        {
          "output_type": "execute_result",
          "data": {
            "text/plain": [
              "<matplotlib.axes._subplots.AxesSubplot at 0x7f45827820f0>"
            ]
          },
          "metadata": {
            "tags": []
          },
          "execution_count": 17
        },
        {
          "output_type": "display_data",
          "data": {
            "image/png": "[encoded data removed]",
            "text/plain": [
              "<Figure size 432x288 with 1 Axes>"
            ]
          },
          "metadata": {
            "tags": [],
            "needs_background": "light"
          }
        }
      ]
    },
    {
      "cell_type": "markdown",
      "metadata": {
        "id": "CLlH-2R7o0SE",
        "colab_type": "text"
      },
      "source": [
        "Times distribuidos de modo equilibrado para que todos os setores tivessem um bom número de referências para fazermos análise do gráfico."
      ]
    },
    {
      "cell_type": "code",
      "metadata": {
        "id": "NKp2v10jvrf6",
        "colab_type": "code",
        "outputId": "65397344-2a08-4d83-a54f-57ff1a503ab6",
        "colab": {
          "base_uri": "https://localhost:8080/",
          "height": 439
        }
      },
      "source": [
        "sns.factorplot(x='Pos.',col='setor_valor_medio',kind='count',data=dados)"
      ],
      "execution_count": 0,
      "outputs": [
        {
          "output_type": "stream",
          "text": [
            "/usr/local/lib/python3.6/dist-packages/seaborn/categorical.py:3666: UserWarning: The `factorplot` function has been renamed to `catplot`. The original name will be removed in a future release. Please update your code. Note that the default `kind` in `factorplot` (`'point'`) has changed `'strip'` in `catplot`.\n",
            "  warnings.warn(msg)\n"
          ],
          "name": "stderr"
        },
        {
          "output_type": "execute_result",
          "data": {
            "text/plain": [
              "<seaborn.axisgrid.FacetGrid at 0x7f45827ae6d8>"
            ]
          },
          "metadata": {
            "tags": []
          },
          "execution_count": 18
        },
        {
          "output_type": "display_data",
          "data": {
            "image/png": "[encoded data removed]",
            "text/plain": [
              "<Figure size 1080x360 with 3 Axes>"
            ]
          },
          "metadata": {
            "tags": [],
            "needs_background": "light"
          }
        }
      ]
    },
    {
      "cell_type": "markdown",
      "metadata": {
        "id": "90UH7UF0o6sZ",
        "colab_type": "text"
      },
      "source": [
        "Aqui fica visível a diferença nas posições ocupadas no qual os times que investiram mais por jogador(**setor 3**) tiveram um melhor desempenho."
      ]
    },
    {
      "cell_type": "code",
      "metadata": {
        "id": "oJz0dJMeyQKa",
        "colab_type": "code",
        "outputId": "f3b2e217-4aca-41f9-f267-11b5b429e655",
        "colab": {
          "base_uri": "https://localhost:8080/",
          "height": 297
        }
      },
      "source": [
        "dados['setor_idade_media']='[18,23)'\n",
        "dados.loc[dados.Idade_Media>=23,\"setor_idade_media\"]='[23,24)'\n",
        "dados.loc[dados.Idade_Media>=24,\"setor_idade_media\"]='[24,25)'\n",
        "dados.loc[dados.Idade_Media>=25,\"setor_idade_media\"]='25 ou mais'\n",
        "sns.countplot(x='setor_idade_media',data=dados)"
      ],
      "execution_count": 0,
      "outputs": [
        {
          "output_type": "execute_result",
          "data": {
            "text/plain": [
              "<matplotlib.axes._subplots.AxesSubplot at 0x7f4585110a90>"
            ]
          },
          "metadata": {
            "tags": []
          },
          "execution_count": 19
        },
        {
          "output_type": "display_data",
          "data": {
            "image/png": "[encoded data removed]",
            "text/plain": [
              "<Figure size 432x288 with 1 Axes>"
            ]
          },
          "metadata": {
            "tags": [],
            "needs_background": "light"
          }
        }
      ]
    },
    {
      "cell_type": "markdown",
      "metadata": {
        "id": "gmOkSe5Kpaot",
        "colab_type": "text"
      },
      "source": [
        "Fica evidente que a maioria dos times optam por possuir um time com média de idade de 23 até 25 anos"
      ]
    },
    {
      "cell_type": "code",
      "metadata": {
        "id": "XcgpWB8rv4kF",
        "colab_type": "code",
        "outputId": "6a2a7fe5-81a2-4a05-abca-998803a64875",
        "colab": {
          "base_uri": "https://localhost:8080/",
          "height": 358
        }
      },
      "source": [
        "sns.factorplot(x='Pos.',col='setor_idade_media',kind='count',data=dados)"
      ],
      "execution_count": 0,
      "outputs": [
        {
          "output_type": "stream",
          "text": [
            "/usr/local/lib/python3.6/dist-packages/seaborn/categorical.py:3666: UserWarning: The `factorplot` function has been renamed to `catplot`. The original name will be removed in a future release. Please update your code. Note that the default `kind` in `factorplot` (`'point'`) has changed `'strip'` in `catplot`.\n",
            "  warnings.warn(msg)\n"
          ],
          "name": "stderr"
        },
        {
          "output_type": "execute_result",
          "data": {
            "text/plain": [
              "<seaborn.axisgrid.FacetGrid at 0x7f458520c438>"
            ]
          },
          "metadata": {
            "tags": []
          },
          "execution_count": 20
        },
        {
          "output_type": "display_data",
          "data": {
            "image/png": "[encoded data removed]",
            "text/plain": [
              "<Figure size 1440x360 with 4 Axes>"
            ]
          },
          "metadata": {
            "tags": [],
            "needs_background": "light"
          }
        }
      ]
    },
    {
      "cell_type": "markdown",
      "metadata": {
        "id": "3DjhujGfvIPt",
        "colab_type": "text"
      },
      "source": [
        "É possível ver que os jogadores de 23 a 24 anos possui uma média de rendimento melhor que os outros."
      ]
    },
    {
      "cell_type": "code",
      "metadata": {
        "id": "TACpLYXd1rAN",
        "colab_type": "code",
        "outputId": "fbbf4a9b-9d4d-414e-b663-ee6c200989cb",
        "colab": {
          "base_uri": "https://localhost:8080/",
          "height": 297
        }
      },
      "source": [
        "dados['setor_estrangeiro']='0 ou 1'\n",
        "dados.loc[dados.Estrangeiros>=2,\"setor_estrangeiro\"]='2 ou 3'\n",
        "dados.loc[dados.Estrangeiros>=4,\"setor_estrangeiro\"]=4\n",
        "dados.loc[dados.Estrangeiros>=5,\"setor_estrangeiro\"]='5 ou mais'\n",
        "sns.countplot(x='setor_estrangeiro',data=dados)"
      ],
      "execution_count": 0,
      "outputs": [
        {
          "output_type": "execute_result",
          "data": {
            "text/plain": [
              "<matplotlib.axes._subplots.AxesSubplot at 0x7f45823443c8>"
            ]
          },
          "metadata": {
            "tags": []
          },
          "execution_count": 21
        },
        {
          "output_type": "display_data",
          "data": {
            "image/png": "[encoded data removed]",
            "text/plain": [
              "<Figure size 432x288 with 1 Axes>"
            ]
          },
          "metadata": {
            "tags": [],
            "needs_background": "light"
          }
        }
      ]
    },
    {
      "cell_type": "code",
      "metadata": {
        "id": "G2HjzIl2E0e4",
        "colab_type": "code",
        "outputId": "66ac3afe-d6f6-4e94-d7c4-21e9824b7e20",
        "colab": {
          "base_uri": "https://localhost:8080/",
          "height": 358
        }
      },
      "source": [
        "sns.factorplot(x='Pos.',col='setor_estrangeiro',kind='count',data=dados)"
      ],
      "execution_count": 0,
      "outputs": [
        {
          "output_type": "stream",
          "text": [
            "/usr/local/lib/python3.6/dist-packages/seaborn/categorical.py:3666: UserWarning: The `factorplot` function has been renamed to `catplot`. The original name will be removed in a future release. Please update your code. Note that the default `kind` in `factorplot` (`'point'`) has changed `'strip'` in `catplot`.\n",
            "  warnings.warn(msg)\n"
          ],
          "name": "stderr"
        },
        {
          "output_type": "execute_result",
          "data": {
            "text/plain": [
              "<seaborn.axisgrid.FacetGrid at 0x7f45823a34e0>"
            ]
          },
          "metadata": {
            "tags": []
          },
          "execution_count": 22
        },
        {
          "output_type": "display_data",
          "data": {
            "image/png": "[encoded data removed]",
            "text/plain": [
              "<Figure size 1440x360 with 4 Axes>"
            ]
          },
          "metadata": {
            "tags": [],
            "needs_background": "light"
          }
        }
      ]
    },
    {
      "cell_type": "markdown",
      "metadata": {
        "id": "PgXQuvl-tHNk",
        "colab_type": "text"
      },
      "source": [
        "O melhores times possuem de 2 a 4 jogadores estrangeiros."
      ]
    },
    {
      "cell_type": "markdown",
      "metadata": {
        "id": "VPUtCTiU-BNa",
        "colab_type": "text"
      },
      "source": [
        "Usando os dados de **2018** para verificar validade das análises."
      ]
    },
    {
      "cell_type": "code",
      "metadata": {
        "id": "m5O8v7AA7eh0",
        "colab_type": "code",
        "colab": {}
      },
      "source": [
        "APrever['setor_valor_total']=1\n",
        "APrever.loc[APrever.Valor_total>=0.25e+08,\"setor_valor_total\"]=2\n",
        "APrever.loc[APrever.Valor_total>=0.5e+08,\"setor_valor_total\"]=3\n",
        "APrever['pesos_valor_total']=0\n",
        "APrever.loc[APrever.setor_valor_total==2,\"pesos_valor_total\"]=1\n",
        "APrever.loc[APrever.setor_valor_total==3,\"pesos_valor_total\"]=2"
      ],
      "execution_count": 0,
      "outputs": []
    },
    {
      "cell_type": "code",
      "metadata": {
        "id": "L8S-lfNY8HA9",
        "colab_type": "code",
        "colab": {}
      },
      "source": [
        "APrever['setor_valor_medio']=1\n",
        "APrever.loc[APrever.Media_Valor>=0.6e+06,\"setor_valor_medio\"]=2\n",
        "APrever.loc[APrever.Media_Valor>=1.2e+06,\"setor_valor_medio\"]=3\n",
        "APrever['pesos_valor_medio']=0\n",
        "APrever.loc[APrever.setor_valor_medio==2,\"pesos_valor_medio\"]=1\n",
        "APrever.loc[APrever.setor_valor_medio==3,\"pesos_valor_medio\"]=2"
      ],
      "execution_count": 0,
      "outputs": []
    },
    {
      "cell_type": "code",
      "metadata": {
        "id": "OhHKdpC88blc",
        "colab_type": "code",
        "colab": {}
      },
      "source": [
        "APrever['setor_idade_media']='[18,23)'\n",
        "APrever.loc[APrever.Idade_Media>=23,\"setor_idade_media\"]='[23,24)'\n",
        "APrever.loc[APrever.Idade_Media>=24,\"setor_idade_media\"]='[24,25)'\n",
        "APrever.loc[APrever.Idade_Media>=25,\"setor_idade_media\"]='25 ou mais'\n",
        "APrever['pesos_idade_media']=1\n",
        "APrever.loc[APrever.setor_idade_media=='[23,24)',\"pesos_idade_media\"]=2\n",
        "APrever.loc[APrever.setor_idade_media=='[24,25)',\"pesos_idade_media\"]=1\n",
        "APrever.loc[APrever.setor_idade_media=='25 ou mais',\"pesos_idade_media\"]=0"
      ],
      "execution_count": 0,
      "outputs": []
    },
    {
      "cell_type": "code",
      "metadata": {
        "id": "x_zQKe5i8qP5",
        "colab_type": "code",
        "colab": {}
      },
      "source": [
        "APrever['setor_estrangeiro']=0\n",
        "APrever.loc[APrever.Estrangeiros>=2,\"setor_estrangeiro\"]='2 ou 3'\n",
        "APrever.loc[APrever.Estrangeiros>=4,\"setor_estrangeiro\"]=4\n",
        "APrever.loc[APrever.Estrangeiros>=5,\"setor_estrangeiro\"]='5 ou mais'\n",
        "APrever['pesos_estrangeiro']=0\n",
        "APrever.loc[APrever.setor_estrangeiro=='2 ou 3',\"pesos_estrangeiro\"]=1\n",
        "APrever.loc[APrever.setor_estrangeiro==4,\"pesos_estrangeiro\"]=2\n",
        "APrever.loc[APrever.setor_estrangeiro=='5 ou mais',\"pesos_estrangeiro\"]=0"
      ],
      "execution_count": 0,
      "outputs": []
    },
    {
      "cell_type": "code",
      "metadata": {
        "id": "tjpHuk3u89ZY",
        "colab_type": "code",
        "outputId": "f32cd822-85a6-4796-9d98-959f48dd4555",
        "colab": {
          "base_uri": "https://localhost:8080/",
          "height": 639
        }
      },
      "source": [
        "APrever['pontuaçãogeral']=APrever.pesos_idade_media+APrever.pesos_estrangeiro+APrever.pesos_valor_medio+APrever.pesos_valor_total\n",
        "previsao=APrever.sort_values([\"pontuaçãogeral\",\"pesos_valor_total\",'pesos_valor_medio',\"pesos_idade_media\"],ascending=[False,False,True,False]).loc[:,[\"Clubes\",\"Pos.\",\"pontuaçãogeral\"]].reset_index(drop=True)\n",
        "previsao.index=previsao.index +1\n",
        "previsao['correto']= previsao.index == previsao['Pos.']\n",
        "previsao['diferença']=previsao.index-previsao['Pos.' ]\n",
        "previsao"
      ],
      "execution_count": 0,
      "outputs": [
        {
          "output_type": "execute_result",
          "data": {
            "text/html": [
              "<div>\n",
              "<style scoped>\n",
              "    .dataframe tbody tr th:only-of-type {\n",
              "        vertical-align: middle;\n",
              "    }\n",
              "\n",
              "    .dataframe tbody tr th {\n",
              "        vertical-align: top;\n",
              "    }\n",
              "\n",
              "    .dataframe thead th {\n",
              "        text-align: right;\n",
              "    }\n",
              "</style>\n",
              "<table border=\"1\" class=\"dataframe\">\n",
              "  <thead>\n",
              "    <tr style=\"text-align: right;\">\n",
              "      <th></th>\n",
              "      <th>Clubes</th>\n",
              "      <th>Pos.</th>\n",
              "      <th>pontuaçãogeral</th>\n",
              "      <th>correto</th>\n",
              "      <th>diferença</th>\n",
              "    </tr>\n",
              "  </thead>\n",
              "  <tbody>\n",
              "    <tr>\n",
              "      <th>1</th>\n",
              "      <td>Palmeiras</td>\n",
              "      <td>1</td>\n",
              "      <td>7</td>\n",
              "      <td>True</td>\n",
              "      <td>0</td>\n",
              "    </tr>\n",
              "    <tr>\n",
              "      <th>2</th>\n",
              "      <td>Flamengo</td>\n",
              "      <td>2</td>\n",
              "      <td>6</td>\n",
              "      <td>True</td>\n",
              "      <td>0</td>\n",
              "    </tr>\n",
              "    <tr>\n",
              "      <th>3</th>\n",
              "      <td>Sao Paulo</td>\n",
              "      <td>5</td>\n",
              "      <td>6</td>\n",
              "      <td>False</td>\n",
              "      <td>-2</td>\n",
              "    </tr>\n",
              "    <tr>\n",
              "      <th>4</th>\n",
              "      <td>Atletico-MG</td>\n",
              "      <td>6</td>\n",
              "      <td>6</td>\n",
              "      <td>False</td>\n",
              "      <td>-2</td>\n",
              "    </tr>\n",
              "    <tr>\n",
              "      <th>5</th>\n",
              "      <td>Santos</td>\n",
              "      <td>10</td>\n",
              "      <td>6</td>\n",
              "      <td>False</td>\n",
              "      <td>-5</td>\n",
              "    </tr>\n",
              "    <tr>\n",
              "      <th>6</th>\n",
              "      <td>Gremio</td>\n",
              "      <td>4</td>\n",
              "      <td>5</td>\n",
              "      <td>False</td>\n",
              "      <td>2</td>\n",
              "    </tr>\n",
              "    <tr>\n",
              "      <th>7</th>\n",
              "      <td>Internacional</td>\n",
              "      <td>3</td>\n",
              "      <td>5</td>\n",
              "      <td>False</td>\n",
              "      <td>4</td>\n",
              "    </tr>\n",
              "    <tr>\n",
              "      <th>8</th>\n",
              "      <td>Cruzeiro</td>\n",
              "      <td>8</td>\n",
              "      <td>5</td>\n",
              "      <td>True</td>\n",
              "      <td>0</td>\n",
              "    </tr>\n",
              "    <tr>\n",
              "      <th>9</th>\n",
              "      <td>Botafogo</td>\n",
              "      <td>9</td>\n",
              "      <td>5</td>\n",
              "      <td>True</td>\n",
              "      <td>0</td>\n",
              "    </tr>\n",
              "    <tr>\n",
              "      <th>10</th>\n",
              "      <td>Bahia</td>\n",
              "      <td>11</td>\n",
              "      <td>5</td>\n",
              "      <td>False</td>\n",
              "      <td>-1</td>\n",
              "    </tr>\n",
              "    <tr>\n",
              "      <th>11</th>\n",
              "      <td>Corinthians</td>\n",
              "      <td>13</td>\n",
              "      <td>4</td>\n",
              "      <td>False</td>\n",
              "      <td>-2</td>\n",
              "    </tr>\n",
              "    <tr>\n",
              "      <th>12</th>\n",
              "      <td>Fluminense</td>\n",
              "      <td>12</td>\n",
              "      <td>4</td>\n",
              "      <td>True</td>\n",
              "      <td>0</td>\n",
              "    </tr>\n",
              "    <tr>\n",
              "      <th>13</th>\n",
              "      <td>Vasco</td>\n",
              "      <td>16</td>\n",
              "      <td>4</td>\n",
              "      <td>False</td>\n",
              "      <td>-3</td>\n",
              "    </tr>\n",
              "    <tr>\n",
              "      <th>14</th>\n",
              "      <td>Vitoria</td>\n",
              "      <td>19</td>\n",
              "      <td>4</td>\n",
              "      <td>False</td>\n",
              "      <td>-5</td>\n",
              "    </tr>\n",
              "    <tr>\n",
              "      <th>15</th>\n",
              "      <td>Athletico-PR</td>\n",
              "      <td>7</td>\n",
              "      <td>4</td>\n",
              "      <td>False</td>\n",
              "      <td>8</td>\n",
              "    </tr>\n",
              "    <tr>\n",
              "      <th>16</th>\n",
              "      <td>Chapecoense</td>\n",
              "      <td>14</td>\n",
              "      <td>3</td>\n",
              "      <td>False</td>\n",
              "      <td>2</td>\n",
              "    </tr>\n",
              "    <tr>\n",
              "      <th>17</th>\n",
              "      <td>Sport</td>\n",
              "      <td>17</td>\n",
              "      <td>3</td>\n",
              "      <td>True</td>\n",
              "      <td>0</td>\n",
              "    </tr>\n",
              "    <tr>\n",
              "      <th>18</th>\n",
              "      <td>America-MG</td>\n",
              "      <td>18</td>\n",
              "      <td>2</td>\n",
              "      <td>True</td>\n",
              "      <td>0</td>\n",
              "    </tr>\n",
              "    <tr>\n",
              "      <th>19</th>\n",
              "      <td>Ceara</td>\n",
              "      <td>15</td>\n",
              "      <td>2</td>\n",
              "      <td>False</td>\n",
              "      <td>4</td>\n",
              "    </tr>\n",
              "    <tr>\n",
              "      <th>20</th>\n",
              "      <td>Parana</td>\n",
              "      <td>20</td>\n",
              "      <td>2</td>\n",
              "      <td>True</td>\n",
              "      <td>0</td>\n",
              "    </tr>\n",
              "  </tbody>\n",
              "</table>\n",
              "</div>"
            ],
            "text/plain": [
              "           Clubes  Pos.  pontuaçãogeral  correto  diferença\n",
              "1       Palmeiras     1               7     True          0\n",
              "2        Flamengo     2               6     True          0\n",
              "3       Sao Paulo     5               6    False         -2\n",
              "4     Atletico-MG     6               6    False         -2\n",
              "5          Santos    10               6    False         -5\n",
              "6          Gremio     4               5    False          2\n",
              "7   Internacional     3               5    False          4\n",
              "8        Cruzeiro     8               5     True          0\n",
              "9        Botafogo     9               5     True          0\n",
              "10          Bahia    11               5    False         -1\n",
              "11    Corinthians    13               4    False         -2\n",
              "12     Fluminense    12               4     True          0\n",
              "13          Vasco    16               4    False         -3\n",
              "14        Vitoria    19               4    False         -5\n",
              "15   Athletico-PR     7               4    False          8\n",
              "16    Chapecoense    14               3    False          2\n",
              "17          Sport    17               3     True          0\n",
              "18     America-MG    18               2     True          0\n",
              "19          Ceara    15               2    False          4\n",
              "20         Parana    20               2     True          0"
            ]
          },
          "metadata": {
            "tags": []
          },
          "execution_count": 27
        }
      ]
    },
    {
      "cell_type": "markdown",
      "metadata": {
        "id": "V9Vla2vR-QPF",
        "colab_type": "text"
      },
      "source": [
        "**Resultado previsto** dos dados para o ano de **2018** "
      ]
    },
    {
      "cell_type": "markdown",
      "metadata": {
        "id": "X9Z3RjOg-bxo",
        "colab_type": "text"
      },
      "source": [
        "#trabalho 3"
      ]
    },
    {
      "cell_type": "code",
      "metadata": {
        "id": "ta-SJ8EhkSNm",
        "colab_type": "code",
        "colab": {}
      },
      "source": [
        "#Passo 1:Importando os modelos\n",
        "from sklearn.tree import DecisionTreeClassifier\n",
        "from sklearn.naive_bayes import GaussianNB\n",
        "from sklearn.neighbors import KNeighborsClassifier\n",
        "from sklearn.linear_model import LinearRegression\n",
        "\n",
        "from sklearn.model_selection import cross_val_score\n",
        "from sklearn.model_selection import LeaveOneOut\n",
        "from sklearn.metrics import accuracy_score"
      ],
      "execution_count": 0,
      "outputs": []
    },
    {
      "cell_type": "markdown",
      "metadata": {
        "id": "3Oe6fNqMs8XL",
        "colab_type": "text"
      },
      "source": [
        "#Usando as colunas vitorias, empates e derrotas\n",
        "como sabemos a classificacao é dada por **3*vitorias + empates** "
      ]
    },
    {
      "cell_type": "code",
      "metadata": {
        "id": "BSl3Xj_g6z9L",
        "colab_type": "code",
        "colab": {}
      },
      "source": [
        "Xtest=dados.loc[:,['Vitorias','Derrotas','Empates']]#passo 3\n",
        "ytest=dados['Pos.'] \n",
        "\n",
        "Xprev=APrever.loc[:,['Vitorias','Derrotas','Empates']]#a ser previsto"
      ],
      "execution_count": 0,
      "outputs": []
    },
    {
      "cell_type": "code",
      "metadata": {
        "id": "sgD4-nOYkE6t",
        "colab_type": "code",
        "outputId": "b0eca12a-0359-4ad9-b3be-4fb7e1c30cd2",
        "colab": {
          "base_uri": "https://localhost:8080/",
          "height": 34
        }
      },
      "source": [
        "model=LinearRegression(fit_intercept=True) #passo 2\n",
        "#pontuacao para divisao ideal\n",
        "score=cross_val_score(model,Xtest,ytest,cv=9)\n",
        "score.mean()"
      ],
      "execution_count": 0,
      "outputs": [
        {
          "output_type": "execute_result",
          "data": {
            "text/plain": [
              "0.9167181958634048"
            ]
          },
          "metadata": {
            "tags": []
          },
          "execution_count": 30
        }
      ]
    },
    {
      "cell_type": "code",
      "metadata": {
        "id": "t_TmbxjBnpe1",
        "colab_type": "code",
        "outputId": "612e1244-9655-40bd-c041-16fefd0f6d97",
        "colab": {
          "base_uri": "https://localhost:8080/",
          "height": 34
        }
      },
      "source": [
        "modelTree=DecisionTreeClassifier()\n",
        "scoreTree=cross_val_score(modelTree,Xtest,ytest,cv=9)\n",
        "scoreTree.mean()"
      ],
      "execution_count": 0,
      "outputs": [
        {
          "output_type": "execute_result",
          "data": {
            "text/plain": [
              "0.24444444444444446"
            ]
          },
          "metadata": {
            "tags": []
          },
          "execution_count": 31
        }
      ]
    },
    {
      "cell_type": "code",
      "metadata": {
        "id": "TqMl6T3kl-tQ",
        "colab_type": "code",
        "outputId": "97f74bbb-cf4f-44fd-dafc-e4dbfa6359af",
        "colab": {
          "base_uri": "https://localhost:8080/",
          "height": 34
        }
      },
      "source": [
        "modelKNC=KNeighborsClassifier()\n",
        "scoreKNC=cross_val_score(modelKNC,Xtest,ytest,cv=9)\n",
        "scoreKNC.mean()"
      ],
      "execution_count": 0,
      "outputs": [
        {
          "output_type": "execute_result",
          "data": {
            "text/plain": [
              "0.2277777777777778"
            ]
          },
          "metadata": {
            "tags": []
          },
          "execution_count": 32
        }
      ]
    },
    {
      "cell_type": "code",
      "metadata": {
        "id": "pU8koaUjx1cZ",
        "colab_type": "code",
        "outputId": "f1393ebc-653a-4d3a-df12-74254b2050ee",
        "colab": {
          "base_uri": "https://localhost:8080/",
          "height": 34
        }
      },
      "source": [
        "modelGauss=GaussianNB()\n",
        "scoreGauss=cross_val_score(modelGauss,Xtest,ytest,cv=9)\n",
        "scoreGauss.mean()"
      ],
      "execution_count": 0,
      "outputs": [
        {
          "output_type": "execute_result",
          "data": {
            "text/plain": [
              "0.3277777777777777"
            ]
          },
          "metadata": {
            "tags": []
          },
          "execution_count": 33
        }
      ]
    },
    {
      "cell_type": "markdown",
      "metadata": {
        "id": "F2WKwJ0pr9qf",
        "colab_type": "text"
      },
      "source": [
        "Devido ao que tem maior pontuação, iremos utilizar o modelo de **regressão linear**"
      ]
    },
    {
      "cell_type": "code",
      "metadata": {
        "id": "6WlGCDjg7CwO",
        "colab_type": "code",
        "colab": {}
      },
      "source": [
        "model.fit(Xtest,ytest)#passo 4\n",
        "yPrev=model.predict(Xprev)"
      ],
      "execution_count": 0,
      "outputs": []
    },
    {
      "cell_type": "code",
      "metadata": {
        "id": "cmXnizkWoQ7g",
        "colab_type": "code",
        "outputId": "ed96d931-8990-4bc4-fd42-617d06804127",
        "colab": {
          "base_uri": "https://localhost:8080/",
          "height": 639
        }
      },
      "source": [
        "colocacao=pd.DataFrame({'Clubes':APrever.Clubes,'PosReal':APrever['Pos.'],'ordem':yPrev}) \n",
        "colocacao.sort_values('ordem',inplace=True)\n",
        "colocacao.reset_index(drop=True,inplace=True)\n",
        "colocacao.index=colocacao.index +1\n",
        "colocacao['Correto']=colocacao.index==colocacao.PosReal\n",
        "colocacao"
      ],
      "execution_count": 0,
      "outputs": [
        {
          "output_type": "execute_result",
          "data": {
            "text/html": [
              "<div>\n",
              "<style scoped>\n",
              "    .dataframe tbody tr th:only-of-type {\n",
              "        vertical-align: middle;\n",
              "    }\n",
              "\n",
              "    .dataframe tbody tr th {\n",
              "        vertical-align: top;\n",
              "    }\n",
              "\n",
              "    .dataframe thead th {\n",
              "        text-align: right;\n",
              "    }\n",
              "</style>\n",
              "<table border=\"1\" class=\"dataframe\">\n",
              "  <thead>\n",
              "    <tr style=\"text-align: right;\">\n",
              "      <th></th>\n",
              "      <th>Clubes</th>\n",
              "      <th>PosReal</th>\n",
              "      <th>ordem</th>\n",
              "      <th>Correto</th>\n",
              "    </tr>\n",
              "  </thead>\n",
              "  <tbody>\n",
              "    <tr>\n",
              "      <th>1</th>\n",
              "      <td>Palmeiras</td>\n",
              "      <td>1</td>\n",
              "      <td>-3.145171</td>\n",
              "      <td>True</td>\n",
              "    </tr>\n",
              "    <tr>\n",
              "      <th>2</th>\n",
              "      <td>Flamengo</td>\n",
              "      <td>2</td>\n",
              "      <td>0.639517</td>\n",
              "      <td>True</td>\n",
              "    </tr>\n",
              "    <tr>\n",
              "      <th>3</th>\n",
              "      <td>Internacional</td>\n",
              "      <td>3</td>\n",
              "      <td>2.269723</td>\n",
              "      <td>True</td>\n",
              "    </tr>\n",
              "    <tr>\n",
              "      <th>4</th>\n",
              "      <td>Gremio</td>\n",
              "      <td>4</td>\n",
              "      <td>3.731170</td>\n",
              "      <td>True</td>\n",
              "    </tr>\n",
              "    <tr>\n",
              "      <th>5</th>\n",
              "      <td>Sao Paulo</td>\n",
              "      <td>5</td>\n",
              "      <td>5.361376</td>\n",
              "      <td>True</td>\n",
              "    </tr>\n",
              "    <tr>\n",
              "      <th>6</th>\n",
              "      <td>Atletico-MG</td>\n",
              "      <td>6</td>\n",
              "      <td>6.916205</td>\n",
              "      <td>True</td>\n",
              "    </tr>\n",
              "    <tr>\n",
              "      <th>7</th>\n",
              "      <td>Athletico-PR</td>\n",
              "      <td>7</td>\n",
              "      <td>7.946756</td>\n",
              "      <td>True</td>\n",
              "    </tr>\n",
              "    <tr>\n",
              "      <th>8</th>\n",
              "      <td>Cruzeiro</td>\n",
              "      <td>8</td>\n",
              "      <td>10.007858</td>\n",
              "      <td>True</td>\n",
              "    </tr>\n",
              "    <tr>\n",
              "      <th>9</th>\n",
              "      <td>Botafogo</td>\n",
              "      <td>9</td>\n",
              "      <td>11.038409</td>\n",
              "      <td>True</td>\n",
              "    </tr>\n",
              "    <tr>\n",
              "      <th>10</th>\n",
              "      <td>Santos</td>\n",
              "      <td>10</td>\n",
              "      <td>11.469306</td>\n",
              "      <td>True</td>\n",
              "    </tr>\n",
              "    <tr>\n",
              "      <th>11</th>\n",
              "      <td>Bahia</td>\n",
              "      <td>11</td>\n",
              "      <td>12.499857</td>\n",
              "      <td>True</td>\n",
              "    </tr>\n",
              "    <tr>\n",
              "      <th>12</th>\n",
              "      <td>Fluminense</td>\n",
              "      <td>12</td>\n",
              "      <td>13.792546</td>\n",
              "      <td>True</td>\n",
              "    </tr>\n",
              "    <tr>\n",
              "      <th>13</th>\n",
              "      <td>Corinthians</td>\n",
              "      <td>13</td>\n",
              "      <td>14.392201</td>\n",
              "      <td>True</td>\n",
              "    </tr>\n",
              "    <tr>\n",
              "      <th>14</th>\n",
              "      <td>Chapecoense</td>\n",
              "      <td>14</td>\n",
              "      <td>14.392201</td>\n",
              "      <td>True</td>\n",
              "    </tr>\n",
              "    <tr>\n",
              "      <th>15</th>\n",
              "      <td>Ceara</td>\n",
              "      <td>15</td>\n",
              "      <td>14.560959</td>\n",
              "      <td>True</td>\n",
              "    </tr>\n",
              "    <tr>\n",
              "      <th>16</th>\n",
              "      <td>Vasco</td>\n",
              "      <td>16</td>\n",
              "      <td>14.991855</td>\n",
              "      <td>True</td>\n",
              "    </tr>\n",
              "    <tr>\n",
              "      <th>17</th>\n",
              "      <td>Sport</td>\n",
              "      <td>17</td>\n",
              "      <td>15.253994</td>\n",
              "      <td>True</td>\n",
              "    </tr>\n",
              "    <tr>\n",
              "      <th>18</th>\n",
              "      <td>America-MG</td>\n",
              "      <td>18</td>\n",
              "      <td>16.284545</td>\n",
              "      <td>True</td>\n",
              "    </tr>\n",
              "    <tr>\n",
              "      <th>19</th>\n",
              "      <td>Vitoria</td>\n",
              "      <td>19</td>\n",
              "      <td>17.745993</td>\n",
              "      <td>True</td>\n",
              "    </tr>\n",
              "    <tr>\n",
              "      <th>20</th>\n",
              "      <td>Parana</td>\n",
              "      <td>20</td>\n",
              "      <td>24.622335</td>\n",
              "      <td>True</td>\n",
              "    </tr>\n",
              "  </tbody>\n",
              "</table>\n",
              "</div>"
            ],
            "text/plain": [
              "           Clubes  PosReal      ordem  Correto\n",
              "1       Palmeiras        1  -3.145171     True\n",
              "2        Flamengo        2   0.639517     True\n",
              "3   Internacional        3   2.269723     True\n",
              "4          Gremio        4   3.731170     True\n",
              "5       Sao Paulo        5   5.361376     True\n",
              "6     Atletico-MG        6   6.916205     True\n",
              "7    Athletico-PR        7   7.946756     True\n",
              "8        Cruzeiro        8  10.007858     True\n",
              "9        Botafogo        9  11.038409     True\n",
              "10         Santos       10  11.469306     True\n",
              "11          Bahia       11  12.499857     True\n",
              "12     Fluminense       12  13.792546     True\n",
              "13    Corinthians       13  14.392201     True\n",
              "14    Chapecoense       14  14.392201     True\n",
              "15          Ceara       15  14.560959     True\n",
              "16          Vasco       16  14.991855     True\n",
              "17          Sport       17  15.253994     True\n",
              "18     America-MG       18  16.284545     True\n",
              "19        Vitoria       19  17.745993     True\n",
              "20         Parana       20  24.622335     True"
            ]
          },
          "metadata": {
            "tags": []
          },
          "execution_count": 35
        }
      ]
    },
    {
      "cell_type": "markdown",
      "metadata": {
        "id": "ThrbeyassUOG",
        "colab_type": "text"
      },
      "source": [
        "Uso da **matrix de confusão** para ver local de erro"
      ]
    },
    {
      "cell_type": "code",
      "metadata": {
        "id": "3rLkgMmQ_UPh",
        "colab_type": "code",
        "outputId": "038a177f-0cf6-4d13-90c3-c97a1bc4a323",
        "colab": {
          "base_uri": "https://localhost:8080/",
          "height": 303
        }
      },
      "source": [
        "from sklearn.metrics import confusion_matrix\n",
        "yReal=APrever['Pos.']\n",
        "matrix=confusion_matrix(colocacao.index,colocacao.PosReal)\n",
        "sns.heatmap(matrix,square=True,annot=True)\n",
        "plt.ylabel('valorPrevisto')\n",
        "plt.xlabel('valorReal')"
      ],
      "execution_count": 0,
      "outputs": [
        {
          "output_type": "execute_result",
          "data": {
            "text/plain": [
              "Text(0.5, 15.0, 'valorReal')"
            ]
          },
          "metadata": {
            "tags": []
          },
          "execution_count": 36
        },
        {
          "output_type": "display_data",
          "data": {
            "image/png": "[encoded data removed]",
            "text/plain": [
              "<Figure size 432x288 with 2 Axes>"
            ]
          },
          "metadata": {
            "tags": [],
            "needs_background": "light"
          }
        }
      ]
    },
    {
      "cell_type": "markdown",
      "metadata": {
        "id": "u6Z6L8tvs6ov",
        "colab_type": "text"
      },
      "source": [
        "No caso, aqui não teve nenhum erro porém, as colocações **13** e **14**, no arquivo principal, tiveram a ordem trocada devido ao **empate de pontuação**"
      ]
    },
    {
      "cell_type": "markdown",
      "metadata": {
        "id": "yJ5ZO7WqwiUX",
        "colab_type": "text"
      },
      "source": [
        "#Analise sem a pontuação para tentar prever o resultado"
      ]
    },
    {
      "cell_type": "code",
      "metadata": {
        "id": "x7cg51QFpiZN",
        "colab_type": "code",
        "colab": {}
      },
      "source": [
        "Xdados=dados.loc[:,['Qtd_Jogadores','Idade_Media','Estrangeiros','Valor_total','Media_Valor']]\n",
        "ydados=dados['Pos.'] \n",
        "Xprevisao=APrever.loc[:,['Qtd_Jogadores','Idade_Media','Estrangeiros','Valor_total','Media_Valor']]"
      ],
      "execution_count": 0,
      "outputs": []
    },
    {
      "cell_type": "code",
      "metadata": {
        "id": "8vsMeyGU9xUp",
        "colab_type": "code",
        "outputId": "1df74aa8-4bbb-424a-8de2-fc596e4c6749",
        "colab": {
          "base_uri": "https://localhost:8080/",
          "height": 34
        }
      },
      "source": [
        "modelGauss=GaussianNB()\n",
        "scoreGauss2=cross_val_score(modelGauss,Xdados,ydados,cv=LeaveOneOut())\n",
        "scoreGauss2.mean()"
      ],
      "execution_count": 0,
      "outputs": [
        {
          "output_type": "execute_result",
          "data": {
            "text/plain": [
              "0.07777777777777778"
            ]
          },
          "metadata": {
            "tags": []
          },
          "execution_count": 38
        }
      ]
    },
    {
      "cell_type": "code",
      "metadata": {
        "id": "GGrjxA8B-Ch8",
        "colab_type": "code",
        "outputId": "d367b5a2-b9c4-4dbd-a08d-841305eaae06",
        "colab": {
          "base_uri": "https://localhost:8080/",
          "height": 34
        }
      },
      "source": [
        "modelTree2=DecisionTreeClassifier()\n",
        "scoreTree2=cross_val_score(modelTree2,Xdados,ydados,cv=LeaveOneOut())\n",
        "scoreTree2.mean()"
      ],
      "execution_count": 0,
      "outputs": [
        {
          "output_type": "execute_result",
          "data": {
            "text/plain": [
              "0.03333333333333333"
            ]
          },
          "metadata": {
            "tags": []
          },
          "execution_count": 39
        }
      ]
    },
    {
      "cell_type": "code",
      "metadata": {
        "id": "AvBgeNdf-Xq3",
        "colab_type": "code",
        "outputId": "29b6be64-245b-43ad-bb4f-8ba5792a38ca",
        "colab": {
          "base_uri": "https://localhost:8080/",
          "height": 34
        }
      },
      "source": [
        "modelKNC2=KNeighborsClassifier()\n",
        "scoreKNC2=cross_val_score(modelKNC2,Xdados,ydados,cv=LeaveOneOut())\n",
        "scoreKNC2.mean()"
      ],
      "execution_count": 0,
      "outputs": [
        {
          "output_type": "execute_result",
          "data": {
            "text/plain": [
              "0.05"
            ]
          },
          "metadata": {
            "tags": []
          },
          "execution_count": 40
        }
      ]
    },
    {
      "cell_type": "markdown",
      "metadata": {
        "id": "lfMxFvRFtXmD",
        "colab_type": "text"
      },
      "source": [
        "Devido a precisão muito baixa para esses modelos no caso desses parâmetros, não encontramos um modelo considerável para fazer o teste de previsão"
      ]
    }
  ]
}
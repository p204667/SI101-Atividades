{
  "nbformat": 4,
  "nbformat_minor": 0,
  "metadata": {
    "colab": {
      "name": "trabalho5.ipynb",
      "provenance": [],
      "authorship_tag": "ABX9TyPmjAJjmhd/h21HtnD23fKH",
      "include_colab_link": true
    },
    "kernelspec": {
      "name": "python3",
      "display_name": "Python 3"
    }
  },
  "cells": [
    {
      "cell_type": "markdown",
      "metadata": {
        "id": "view-in-github",
        "colab_type": "text"
      },
      "source": [
        "<a href=\"https://colab.research.google.com/github/p204667/SI101-Atividades/blob/master/trabalho5.ipynb\" target=\"_parent\"><img src=\"https://colab.research.google.com/assets/colab-badge.svg\" alt=\"Open In Colab\"/></a>"
      ]
    },
    {
      "cell_type": "markdown",
      "metadata": {
        "id": "MrMIEHSpb-Gc",
        "colab_type": "text"
      },
      "source": [
        "**Pedro Igor Marques RA:204667**\n",
        "\n",
        " **Guilherme Bonadio de Lima RA:235877**"
      ]
    },
    {
      "cell_type": "markdown",
      "metadata": {
        "id": "wOPb6lzGy684",
        "colab_type": "text"
      },
      "source": [
        "Sobre o banco de dados do **Titanic**."
      ]
    },
    {
      "cell_type": "code",
      "metadata": {
        "id": "39J2Zr9TRQ-2",
        "colab_type": "code",
        "colab": {
          "base_uri": "https://localhost:8080/",
          "height": 77
        },
        "outputId": "c681775e-f758-4e00-e1f7-d26fb811b052"
      },
      "source": [
        "import pandas as pd\n",
        "test=pd.read_csv('test.csv')\n",
        "train=pd.read_csv('train.csv')\n",
        "train.head(1)"
      ],
      "execution_count": null,
      "outputs": [
        {
          "output_type": "execute_result",
          "data": {
            "text/html": [
              "<div>\n",
              "<style scoped>\n",
              "    .dataframe tbody tr th:only-of-type {\n",
              "        vertical-align: middle;\n",
              "    }\n",
              "\n",
              "    .dataframe tbody tr th {\n",
              "        vertical-align: top;\n",
              "    }\n",
              "\n",
              "    .dataframe thead th {\n",
              "        text-align: right;\n",
              "    }\n",
              "</style>\n",
              "<table border=\"1\" class=\"dataframe\">\n",
              "  <thead>\n",
              "    <tr style=\"text-align: right;\">\n",
              "      <th></th>\n",
              "      <th>PassengerId</th>\n",
              "      <th>Survived</th>\n",
              "      <th>Pclass</th>\n",
              "      <th>Name</th>\n",
              "      <th>Sex</th>\n",
              "      <th>Age</th>\n",
              "      <th>SibSp</th>\n",
              "      <th>Parch</th>\n",
              "      <th>Ticket</th>\n",
              "      <th>Fare</th>\n",
              "      <th>Cabin</th>\n",
              "      <th>Embarked</th>\n",
              "    </tr>\n",
              "  </thead>\n",
              "  <tbody>\n",
              "    <tr>\n",
              "      <th>0</th>\n",
              "      <td>1</td>\n",
              "      <td>0</td>\n",
              "      <td>3</td>\n",
              "      <td>Braund, Mr. Owen Harris</td>\n",
              "      <td>male</td>\n",
              "      <td>22.0</td>\n",
              "      <td>1</td>\n",
              "      <td>0</td>\n",
              "      <td>A/5 21171</td>\n",
              "      <td>7.25</td>\n",
              "      <td>NaN</td>\n",
              "      <td>S</td>\n",
              "    </tr>\n",
              "  </tbody>\n",
              "</table>\n",
              "</div>"
            ],
            "text/plain": [
              "   PassengerId  Survived  Pclass  ...  Fare Cabin  Embarked\n",
              "0            1         0       3  ...  7.25   NaN         S\n",
              "\n",
              "[1 rows x 12 columns]"
            ]
          },
          "metadata": {
            "tags": []
          },
          "execution_count": 1
        }
      ]
    },
    {
      "cell_type": "code",
      "metadata": {
        "id": "H0zthZY4Si6A",
        "colab_type": "code",
        "colab": {
          "base_uri": "https://localhost:8080/",
          "height": 70
        },
        "outputId": "7b4fb6db-db53-49d5-f7b6-bf7d12152b4d"
      },
      "source": [
        "import numpy as np\n",
        "import seaborn as sn\n",
        "import matplotlib.pyplot as plt\n",
        "from sklearn.tree import DecisionTreeClassifier\n",
        "from sklearn.preprocessing import StandardScaler\n",
        "from sklearn.pipeline import Pipeline\n",
        "from sklearn.model_selection import GridSearchCV"
      ],
      "execution_count": null,
      "outputs": [
        {
          "output_type": "stream",
          "text": [
            "/usr/local/lib/python3.6/dist-packages/statsmodels/tools/_testing.py:19: FutureWarning: pandas.util.testing is deprecated. Use the functions in the public API at pandas.testing instead.\n",
            "  import pandas.util.testing as tm\n"
          ],
          "name": "stderr"
        }
      ]
    },
    {
      "cell_type": "markdown",
      "metadata": {
        "id": "0Ekz0RVhwgxW",
        "colab_type": "text"
      },
      "source": [
        "#Tratamento dos dados nulos e das strings"
      ]
    },
    {
      "cell_type": "code",
      "metadata": {
        "id": "aWlXwCTxSjVN",
        "colab_type": "code",
        "colab": {}
      },
      "source": [
        "from sklearn.preprocessing import LabelEncoder\n",
        "le = LabelEncoder()\n",
        "#tratamento dos dados nulos e das strings do banco de treino\n",
        "train['HasCabin']=1\n",
        "train.loc[train.Cabin.isnull(),'HasCabin']=0\n",
        "train.loc[train.Age.isnull(),'Age']=train.Age.mean()\n",
        "train.loc[train.Embarked.isnull(),'Embarked']='S'\n",
        "train.loc[train.Fare.isnull(),'Fare']=0\n",
        "train.Sex=le.fit_transform(train.Sex)\n",
        "train.Embarked=le.fit_transform(train.Embarked)\n",
        "#tratamento dos dados nulos e das strings do banco de teste\n",
        "test['HasCabin']=1\n",
        "test.loc[test.Cabin.isnull(),'HasCabin']=0\n",
        "test.loc[test.Age.isnull(),'Age']=test.Age.mean()\n",
        "test.loc[test.Embarked.isnull(),'Embarked']='S'\n",
        "test.loc[test.Fare.isnull(),'Fare']=0\n",
        "test.Sex=le.fit_transform(test.Sex)\n",
        "test.Embarked=le.fit_transform(test.Embarked)"
      ],
      "execution_count": null,
      "outputs": []
    },
    {
      "cell_type": "markdown",
      "metadata": {
        "id": "6ObOpKTlwsS_",
        "colab_type": "text"
      },
      "source": [
        "#Divisão do banco de treino em treino e teste  "
      ]
    },
    {
      "cell_type": "code",
      "metadata": {
        "id": "Ct8owIBDSlT-",
        "colab_type": "code",
        "colab": {}
      },
      "source": [
        "X = train.drop(['Survived','PassengerId','Name','Ticket','Cabin'],axis=1)\n",
        "y = train.Survived\n",
        "\n",
        "from sklearn.model_selection import train_test_split\n",
        "Xtrain, Xtest, ytrain, ytest = train_test_split(X,y,random_state=42)\n",
        "\n",
        "Xprev = test.drop(['Name','PassengerId','Ticket','Cabin'],axis=1)"
      ],
      "execution_count": null,
      "outputs": []
    },
    {
      "cell_type": "markdown",
      "metadata": {
        "id": "Qf_39nfsSl8J",
        "colab_type": "text"
      },
      "source": [
        "#DecisionTreeClassifier com hiperparâmetros padrões e sem GridSearch"
      ]
    },
    {
      "cell_type": "code",
      "metadata": {
        "id": "qn2yKPF6SsDy",
        "colab_type": "code",
        "colab": {}
      },
      "source": [
        "Tree = DecisionTreeClassifier()\n",
        "#normalizando os dados antes\n",
        "standardScalerSem=StandardScaler()\n",
        "treinoNormalizado=standardScalerSem.fit_transform(Xtrain)\n",
        "testeNormalizado=standardScalerSem.transform(Xtest)\n",
        "\n",
        "Tree.fit(treinoNormalizado,ytrain)\n",
        "sem=Tree.predict(testeNormalizado)"
      ],
      "execution_count": null,
      "outputs": []
    },
    {
      "cell_type": "markdown",
      "metadata": {
        "id": "qcr7Yw6yTKKL",
        "colab_type": "text"
      },
      "source": [
        "#DecisionTreeClassifier com GridSearch"
      ]
    },
    {
      "cell_type": "code",
      "metadata": {
        "id": "-0Gw1hfzTKYk",
        "colab_type": "code",
        "colab": {}
      },
      "source": [
        "standardScaler = StandardScaler()\n",
        "DTC=DecisionTreeClassifier(criterion='gini',max_depth=None,min_samples_split=2,min_samples_leaf=1,random_state=42)\n",
        "pipeline=Pipeline([('transformation',standardScaler),('predictor',DTC)])\n",
        "\n",
        "params = dict(\n",
        "    predictor__criterion = ['gini','entropy'],\n",
        "    predictor__max_depth = [None,1,2,3,4,5,10,20],\n",
        "    predictor__min_samples_split = [2,3,4,5,10,20],\n",
        "    predictor__min_samples_leaf = [1,5,10,15,20]\n",
        ")"
      ],
      "execution_count": null,
      "outputs": []
    },
    {
      "cell_type": "code",
      "metadata": {
        "id": "i6RlwHYWz8-0",
        "colab_type": "code",
        "colab": {
          "base_uri": "https://localhost:8080/",
          "height": 454
        },
        "outputId": "669e44a4-6cd3-48b5-bddd-26e5e09b81ad"
      },
      "source": [
        "grid=GridSearchCV(pipeline,param_grid=params,cv=5,scoring=\"accuracy\")\n",
        "grid.fit(Xtrain,ytrain)"
      ],
      "execution_count": null,
      "outputs": [
        {
          "output_type": "execute_result",
          "data": {
            "text/plain": [
              "GridSearchCV(cv=5, error_score=nan,\n",
              "             estimator=Pipeline(memory=None,\n",
              "                                steps=[('transformation',\n",
              "                                        StandardScaler(copy=True,\n",
              "                                                       with_mean=True,\n",
              "                                                       with_std=True)),\n",
              "                                       ('predictor',\n",
              "                                        DecisionTreeClassifier(ccp_alpha=0.0,\n",
              "                                                               class_weight=None,\n",
              "                                                               criterion='gini',\n",
              "                                                               max_depth=None,\n",
              "                                                               max_features=None,\n",
              "                                                               max_leaf_nodes=None,\n",
              "                                                               min_impurity_decrease=0.0,\n",
              "                                                               min_impurity_split=None,\n",
              "                                                               min_samples_leaf...\n",
              "                                                               random_state=42,\n",
              "                                                               splitter='best'))],\n",
              "                                verbose=False),\n",
              "             iid='deprecated', n_jobs=None,\n",
              "             param_grid={'predictor__criterion': ['gini', 'entropy'],\n",
              "                         'predictor__max_depth': [None, 1, 2, 3, 4, 5, 10, 20],\n",
              "                         'predictor__min_samples_leaf': [1, 5, 10, 15, 20],\n",
              "                         'predictor__min_samples_split': [2, 3, 4, 5, 10, 20]},\n",
              "             pre_dispatch='2*n_jobs', refit=True, return_train_score=False,\n",
              "             scoring='accuracy', verbose=0)"
            ]
          },
          "metadata": {
            "tags": []
          },
          "execution_count": 7
        }
      ]
    },
    {
      "cell_type": "code",
      "metadata": {
        "id": "lLC2f5GT425D",
        "colab_type": "code",
        "colab": {
          "base_uri": "https://localhost:8080/",
          "height": 50
        },
        "outputId": "2407e89b-4b31-47b1-d01f-a5a6032c8f07"
      },
      "source": [
        "print(grid.best_score_)\n",
        "print(grid.best_params_)\n",
        "com=grid.predict(Xtest)"
      ],
      "execution_count": null,
      "outputs": [
        {
          "output_type": "stream",
          "text": [
            "0.8233419369318818\n",
            "{'predictor__criterion': 'gini', 'predictor__max_depth': None, 'predictor__min_samples_leaf': 15, 'predictor__min_samples_split': 2}\n"
          ],
          "name": "stdout"
        }
      ]
    },
    {
      "cell_type": "markdown",
      "metadata": {
        "id": "a78rYe3xUNjE",
        "colab_type": "text"
      },
      "source": [
        "#Definindo as funções"
      ]
    },
    {
      "cell_type": "code",
      "metadata": {
        "id": "zq_tDrgyURcF",
        "colab_type": "code",
        "colab": {}
      },
      "source": [
        "from sklearn.metrics import  confusion_matrix"
      ],
      "execution_count": null,
      "outputs": []
    },
    {
      "cell_type": "code",
      "metadata": {
        "id": "gR09ozrlUa4v",
        "colab_type": "code",
        "colab": {}
      },
      "source": [
        "def accuracy(target, prediction):\n",
        "  return (target == prediction).sum()/len(target)\n",
        "\n",
        "def precision(target, prediction) :\n",
        "  matriz = confusion_matrix(target, prediction)\n",
        "  tn, fp, fn, tp = matriz.ravel()\n",
        "  return tp/(tp+fp)\n",
        "\n",
        "def recall(target, prediction) :\n",
        "  matriz = confusion_matrix(target, prediction)\n",
        "  tn, fp, fn, tp = matriz.ravel()\n",
        "  return tp/(tp+fn)\n",
        "\n",
        "def specificity(target, prediction) :\n",
        "  matriz = confusion_matrix(target, prediction)\n",
        "  tn, fp, fn, tp = matriz.ravel()\n",
        "  return tn/(tn+fp)\n",
        "\n",
        "def medida_f(target, prediction) :\n",
        "  rec = recall(target, prediction)\n",
        "  prec = precision(target, prediction)\n",
        "  return 2*rec*prec/(rec+prec)\n",
        "\n",
        "def all_measures(target,predicted):\n",
        "  acur = accuracy(target,predicted)\n",
        "  prec = precision(target,predicted)\n",
        "  rec = recall(target,predicted)\n",
        "  spec = specificity(target,predicted)\n",
        "  f_me = medida_f(target,predicted)\n",
        "  return round(acur,6),round(prec,6),round(rec,6),round(spec,6),round(f_me,6)"
      ],
      "execution_count": null,
      "outputs": []
    },
    {
      "cell_type": "markdown",
      "metadata": {
        "id": "vGOSAg4ZVXlK",
        "colab_type": "text"
      },
      "source": [
        "##Gerando as informações para o sem GridSearch"
      ]
    },
    {
      "cell_type": "code",
      "metadata": {
        "id": "JK0dHIFRVlZO",
        "colab_type": "code",
        "colab": {
          "base_uri": "https://localhost:8080/",
          "height": 279
        },
        "outputId": "21882545-8161-4ee4-b4ba-f9d43463b7db"
      },
      "source": [
        "matrizSem=confusion_matrix(ytest,sem)\n",
        "sn.heatmap(matrizSem.T, annot = True)\n",
        "plt.xlabel('Target')\n",
        "plt.ylabel('Predicted')\n",
        "plt.show()\n",
        "SemGrid=all_measures(ytest,sem)"
      ],
      "execution_count": null,
      "outputs": [
        {
          "output_type": "display_data",
          "data": {
            "image/png": "[encoded data removed]",
            "text/plain": [
              "<Figure size 432x288 with 2 Axes>"
            ]
          },
          "metadata": {
            "tags": [],
            "needs_background": "light"
          }
        }
      ]
    },
    {
      "cell_type": "markdown",
      "metadata": {
        "id": "_KOgGBhcVjMT",
        "colab_type": "text"
      },
      "source": [
        "##Gerando as informações para o com GridSearch"
      ]
    },
    {
      "cell_type": "code",
      "metadata": {
        "id": "FFVBaAK-XYbv",
        "colab_type": "code",
        "colab": {
          "base_uri": "https://localhost:8080/",
          "height": 283
        },
        "outputId": "8c1d4b41-6fef-4394-df46-07448d53f1dd"
      },
      "source": [
        "matrizCom=confusion_matrix(ytest,com)\n",
        "sn.heatmap(matrizCom.T, annot = True)\n",
        "plt.xlabel('Target')\n",
        "plt.ylabel('Predicted')\n",
        "plt.show()\n",
        "ComGrid=all_measures(ytest,com)"
      ],
      "execution_count": null,
      "outputs": [
        {
          "output_type": "display_data",
          "data": {
            "image/png": "[encoded data removed]",
            "text/plain": [
              "<Figure size 432x288 with 2 Axes>"
            ]
          },
          "metadata": {
            "tags": [],
            "needs_background": "light"
          }
        }
      ]
    },
    {
      "cell_type": "markdown",
      "metadata": {
        "id": "Fv28-FOXiXun",
        "colab_type": "text"
      },
      "source": [
        "#Análise"
      ]
    },
    {
      "cell_type": "code",
      "metadata": {
        "id": "AfLOEoWDiaHL",
        "colab_type": "code",
        "colab": {
          "base_uri": "https://localhost:8080/",
          "height": 67
        },
        "outputId": "5df364a9-fcbe-484a-f1ee-83a573340a48"
      },
      "source": [
        "print(\" Accuracy  Precision  Recall Specificity F_measure\")\n",
        "print(\"%s\" % list(SemGrid))\n",
        "print(\"%s\" % list(ComGrid))"
      ],
      "execution_count": null,
      "outputs": [
        {
          "output_type": "stream",
          "text": [
            " Accuracy  Precision  Recall Specificity F_measure\n",
            "[0.730942, 0.662921, 0.662921, 0.776119, 0.662921]\n",
            "[0.784753, 0.730337, 0.730337, 0.820896, 0.730337]\n"
          ],
          "name": "stdout"
        }
      ]
    }
  ]
}
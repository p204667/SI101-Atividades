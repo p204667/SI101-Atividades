{
  "nbformat": 4,
  "nbformat_minor": 0,
  "metadata": {
    "colab": {
      "name": "Atividade3-fut.ipynb",
      "provenance": [],
      "authorship_tag": "ABX9TyPNFj3tG9a6DFpDKt7uhPCl",
      "include_colab_link": true
    },
    "kernelspec": {
      "name": "python3",
      "display_name": "Python 3"
    }
  },
  "cells": [
    {
      "cell_type": "markdown",
      "metadata": {
        "id": "view-in-github",
        "colab_type": "text"
      },
      "source": [
        "<a href=\"https://colab.research.google.com/github/p204667/SI101-Atividades/blob/master/Atividade3_fut.ipynb\" target=\"_parent\"><img src=\"https://colab.research.google.com/assets/colab-badge.svg\" alt=\"Open In Colab\"/></a>"
      ]
    },
    {
      "cell_type": "code",
      "metadata": {
        "id": "ZGRiPmMRjG8v",
        "colab_type": "code",
        "outputId": "4f25a8ba-9ced-4ef0-8c69-fe82989b9c14",
        "colab": {
          "base_uri": "https://localhost:8080/",
          "height": 130
        }
      },
      "source": [
        "import pandas as pd\n",
        "import seaborn as sns\n",
        "import matplotlib.pyplot as plt\n",
        "dadosCampeonato=pd.read_csv(\"Tabela_Clubes.csv\",decimal=',')\n",
        "dadosCampeonato.drop(['Unnamed: 13','Unnamed: 14','Unnamed: 15','Unnamed: 16'],axis=1,inplace=True)\n",
        "dadosCampeonato.Ano=dadosCampeonato.Ano.add(1)\n",
        "dadosCampeonato.rename(columns={'Derrotas':'Empates','Empates':'Derrotas'},inplace=True)\n",
        "dadosCampeonato.head(1)"
      ],
      "execution_count": 0,
      "outputs": [
        {
          "output_type": "stream",
          "text": [
            "/usr/local/lib/python3.6/dist-packages/statsmodels/tools/_testing.py:19: FutureWarning: pandas.util.testing is deprecated. Use the functions in the public API at pandas.testing instead.\n",
            "  import pandas.util.testing as tm\n"
          ],
          "name": "stderr"
        },
        {
          "output_type": "execute_result",
          "data": {
            "text/html": [
              "<div>\n",
              "<style scoped>\n",
              "    .dataframe tbody tr th:only-of-type {\n",
              "        vertical-align: middle;\n",
              "    }\n",
              "\n",
              "    .dataframe tbody tr th {\n",
              "        vertical-align: top;\n",
              "    }\n",
              "\n",
              "    .dataframe thead th {\n",
              "        text-align: right;\n",
              "    }\n",
              "</style>\n",
              "<table border=\"1\" class=\"dataframe\">\n",
              "  <thead>\n",
              "    <tr style=\"text-align: right;\">\n",
              "      <th></th>\n",
              "      <th>Ano</th>\n",
              "      <th>Pos.</th>\n",
              "      <th>Clubes</th>\n",
              "      <th>Vitorias</th>\n",
              "      <th>Empates</th>\n",
              "      <th>Derrotas</th>\n",
              "      <th>GolsF/S</th>\n",
              "      <th>Saldo</th>\n",
              "      <th>Qtd_Jogadores</th>\n",
              "      <th>Idade_Media</th>\n",
              "      <th>Estrangeiros</th>\n",
              "      <th>Valor_total</th>\n",
              "      <th>Media_Valor</th>\n",
              "    </tr>\n",
              "  </thead>\n",
              "  <tbody>\n",
              "    <tr>\n",
              "      <th>0</th>\n",
              "      <td>2018</td>\n",
              "      <td>18</td>\n",
              "      <td>America-MG</td>\n",
              "      <td>10</td>\n",
              "      <td>10</td>\n",
              "      <td>18</td>\n",
              "      <td>30:47</td>\n",
              "      <td>-17</td>\n",
              "      <td>51</td>\n",
              "      <td>24.8</td>\n",
              "      <td>0</td>\n",
              "      <td>27350000</td>\n",
              "      <td>536000</td>\n",
              "    </tr>\n",
              "  </tbody>\n",
              "</table>\n",
              "</div>"
            ],
            "text/plain": [
              "    Ano  Pos.      Clubes  ...  Estrangeiros  Valor_total  Media_Valor\n",
              "0  2018    18  America-MG  ...             0     27350000       536000\n",
              "\n",
              "[1 rows x 13 columns]"
            ]
          },
          "metadata": {
            "tags": []
          },
          "execution_count": 1
        }
      ]
    },
    {
      "cell_type": "code",
      "metadata": {
        "id": "i6s76-XOjmgG",
        "colab_type": "code",
        "colab": {}
      },
      "source": [
        "dados=dadosCampeonato.drop(range(0,20),axis=0)\n",
        "APrever=dadosCampeonato[dadosCampeonato.Ano == 2018]"
      ],
      "execution_count": 0,
      "outputs": []
    },
    {
      "cell_type": "code",
      "metadata": {
        "id": "ta-SJ8EhkSNm",
        "colab_type": "code",
        "colab": {}
      },
      "source": [
        "#Passo 1:Importando os modelos\n",
        "from sklearn.tree import DecisionTreeClassifier\n",
        "from sklearn.naive_bayes import GaussianNB\n",
        "from sklearn.neighbors import KNeighborsClassifier\n",
        "from sklearn.linear_model import LinearRegression\n",
        "\n",
        "from sklearn.model_selection import cross_val_score\n",
        "from sklearn.model_selection import LeaveOneOut\n",
        "from sklearn.metrics import accuracy_score"
      ],
      "execution_count": 0,
      "outputs": []
    },
    {
      "cell_type": "markdown",
      "metadata": {
        "id": "3Oe6fNqMs8XL",
        "colab_type": "text"
      },
      "source": [
        "#Usando as colunas vitorias, empates e derrotas\n",
        "Como sabemos a classificacao é dada por **3*vitorias + empates** "
      ]
    },
    {
      "cell_type": "code",
      "metadata": {
        "id": "BSl3Xj_g6z9L",
        "colab_type": "code",
        "colab": {}
      },
      "source": [
        "Xtest=dados.loc[:,['Vitorias','Derrotas','Empates']]#passo 3\n",
        "ytest=dados['Pos.'] \n",
        "\n",
        "Xprev=APrever.loc[:,['Vitorias','Derrotas','Empates']]#a ser previsto"
      ],
      "execution_count": 0,
      "outputs": []
    },
    {
      "cell_type": "code",
      "metadata": {
        "id": "sgD4-nOYkE6t",
        "colab_type": "code",
        "outputId": "e64590a6-eec9-4198-8b1d-cfa60c5b9157",
        "colab": {
          "base_uri": "https://localhost:8080/",
          "height": 34
        }
      },
      "source": [
        "model=LinearRegression(fit_intercept=True) #passo 2\n",
        "#pontuacao para divisao ideal\n",
        "score=cross_val_score(model,Xtest,ytest,cv=9)\n",
        "score.mean()"
      ],
      "execution_count": 0,
      "outputs": [
        {
          "output_type": "execute_result",
          "data": {
            "text/plain": [
              "0.9167181958634048"
            ]
          },
          "metadata": {
            "tags": []
          },
          "execution_count": 5
        }
      ]
    },
    {
      "cell_type": "code",
      "metadata": {
        "id": "t_TmbxjBnpe1",
        "colab_type": "code",
        "outputId": "9f01f88d-2e70-4d9c-f3ed-02502b73b48d",
        "colab": {
          "base_uri": "https://localhost:8080/",
          "height": 34
        }
      },
      "source": [
        "modelTree=DecisionTreeClassifier()\n",
        "scoreTree=cross_val_score(modelTree,Xtest,ytest,cv=9)\n",
        "scoreTree.mean()"
      ],
      "execution_count": 0,
      "outputs": [
        {
          "output_type": "execute_result",
          "data": {
            "text/plain": [
              "0.23333333333333334"
            ]
          },
          "metadata": {
            "tags": []
          },
          "execution_count": 6
        }
      ]
    },
    {
      "cell_type": "code",
      "metadata": {
        "id": "TqMl6T3kl-tQ",
        "colab_type": "code",
        "outputId": "db47a2bc-6436-49ee-d599-4aa419a3ba9c",
        "colab": {
          "base_uri": "https://localhost:8080/",
          "height": 34
        }
      },
      "source": [
        "modelKNC=KNeighborsClassifier()\n",
        "scoreKNC=cross_val_score(modelKNC,Xtest,ytest,cv=9)\n",
        "scoreKNC.mean()"
      ],
      "execution_count": 0,
      "outputs": [
        {
          "output_type": "execute_result",
          "data": {
            "text/plain": [
              "0.2277777777777778"
            ]
          },
          "metadata": {
            "tags": []
          },
          "execution_count": 7
        }
      ]
    },
    {
      "cell_type": "code",
      "metadata": {
        "id": "pU8koaUjx1cZ",
        "colab_type": "code",
        "outputId": "35e49bd8-e9c7-48cb-ebcf-391132942211",
        "colab": {
          "base_uri": "https://localhost:8080/",
          "height": 34
        }
      },
      "source": [
        "modelGauss=GaussianNB()\n",
        "scoreGauss=cross_val_score(modelGauss,Xtest,ytest,cv=9)\n",
        "scoreGauss.mean()"
      ],
      "execution_count": 0,
      "outputs": [
        {
          "output_type": "execute_result",
          "data": {
            "text/plain": [
              "0.3277777777777777"
            ]
          },
          "metadata": {
            "tags": []
          },
          "execution_count": 8
        }
      ]
    },
    {
      "cell_type": "markdown",
      "metadata": {
        "id": "lvwxPDSSo4xz",
        "colab_type": "text"
      },
      "source": [
        "Devido ao que tem maior pontuação, iremos utilizar o modelo de regressão linear"
      ]
    },
    {
      "cell_type": "code",
      "metadata": {
        "id": "6WlGCDjg7CwO",
        "colab_type": "code",
        "colab": {}
      },
      "source": [
        "model.fit(Xtest,ytest)#passo 4\n",
        "yPrev=model.predict(Xprev)"
      ],
      "execution_count": 0,
      "outputs": []
    },
    {
      "cell_type": "code",
      "metadata": {
        "id": "cmXnizkWoQ7g",
        "colab_type": "code",
        "outputId": "c8d9aa03-7e40-41c4-e89e-b5e07c60adb6",
        "colab": {
          "base_uri": "https://localhost:8080/",
          "height": 195
        }
      },
      "source": [
        "colocacao=pd.DataFrame({'Clubes':APrever.Clubes,'PosReal':APrever['Pos.'],'ordem':yPrev}) \n",
        "colocacao.sort_values('ordem',inplace=True)\n",
        "colocacao.head()"
      ],
      "execution_count": 0,
      "outputs": [
        {
          "output_type": "execute_result",
          "data": {
            "text/html": [
              "<div>\n",
              "<style scoped>\n",
              "    .dataframe tbody tr th:only-of-type {\n",
              "        vertical-align: middle;\n",
              "    }\n",
              "\n",
              "    .dataframe tbody tr th {\n",
              "        vertical-align: top;\n",
              "    }\n",
              "\n",
              "    .dataframe thead th {\n",
              "        text-align: right;\n",
              "    }\n",
              "</style>\n",
              "<table border=\"1\" class=\"dataframe\">\n",
              "  <thead>\n",
              "    <tr style=\"text-align: right;\">\n",
              "      <th></th>\n",
              "      <th>Clubes</th>\n",
              "      <th>PosReal</th>\n",
              "      <th>ordem</th>\n",
              "    </tr>\n",
              "  </thead>\n",
              "  <tbody>\n",
              "    <tr>\n",
              "      <th>13</th>\n",
              "      <td>Palmeiras</td>\n",
              "      <td>1</td>\n",
              "      <td>-3.145171</td>\n",
              "    </tr>\n",
              "    <tr>\n",
              "      <th>9</th>\n",
              "      <td>Flamengo</td>\n",
              "      <td>2</td>\n",
              "      <td>0.639517</td>\n",
              "    </tr>\n",
              "    <tr>\n",
              "      <th>12</th>\n",
              "      <td>Internacional</td>\n",
              "      <td>3</td>\n",
              "      <td>2.269723</td>\n",
              "    </tr>\n",
              "    <tr>\n",
              "      <th>11</th>\n",
              "      <td>Gremio</td>\n",
              "      <td>4</td>\n",
              "      <td>3.731170</td>\n",
              "    </tr>\n",
              "    <tr>\n",
              "      <th>16</th>\n",
              "      <td>Sao Paulo</td>\n",
              "      <td>5</td>\n",
              "      <td>5.361376</td>\n",
              "    </tr>\n",
              "  </tbody>\n",
              "</table>\n",
              "</div>"
            ],
            "text/plain": [
              "           Clubes  PosReal     ordem\n",
              "13      Palmeiras        1 -3.145171\n",
              "9        Flamengo        2  0.639517\n",
              "12  Internacional        3  2.269723\n",
              "11         Gremio        4  3.731170\n",
              "16      Sao Paulo        5  5.361376"
            ]
          },
          "metadata": {
            "tags": []
          },
          "execution_count": 10
        }
      ]
    },
    {
      "cell_type": "code",
      "metadata": {
        "id": "hdQxJBzpoOd1",
        "colab_type": "code",
        "outputId": "5cd71962-5566-4068-ea2d-622a2d01d52a",
        "colab": {
          "base_uri": "https://localhost:8080/",
          "height": 34
        }
      },
      "source": [
        "#para deixar em ordem de numeros inteiros\n",
        "comparacao=pd.DataFrame({'Clubes':colocacao.Clubes,'PosReal':colocacao.PosReal})#pega os times na ordem e a posicao q deveria estar \n",
        "comparacao.reset_index(drop=True,inplace=True)#retira o indice anterior e atualiza com as posicoes do 0 \n",
        "comparacao.index=comparacao.index+1 #para retirar a colocacao 0 da lista\n",
        "comparacao['Correto']=comparacao.index==comparacao.PosReal\n",
        "accuracy_score(comparacao.index,comparacao.PosReal)"
      ],
      "execution_count": 0,
      "outputs": [
        {
          "output_type": "execute_result",
          "data": {
            "text/plain": [
              "0.9"
            ]
          },
          "metadata": {
            "tags": []
          },
          "execution_count": 11
        }
      ]
    },
    {
      "cell_type": "code",
      "metadata": {
        "id": "3rLkgMmQ_UPh",
        "colab_type": "code",
        "outputId": "79deda51-054a-4971-959c-0746f6171738",
        "colab": {
          "base_uri": "https://localhost:8080/",
          "height": 303
        }
      },
      "source": [
        "from sklearn.metrics import confusion_matrix\n",
        "import matplotlib.pyplot as plt\n",
        "import seaborn as sns\n",
        "yReal=APrever['Pos.']\n",
        "matrix=confusion_matrix(comparacao.index,comparacao.PosReal)\n",
        "sns.heatmap(matrix,square=True,annot=True)\n",
        "plt.ylabel('valorPrevisto')\n",
        "plt.xlabel('valorReal')"
      ],
      "execution_count": 0,
      "outputs": [
        {
          "output_type": "execute_result",
          "data": {
            "text/plain": [
              "Text(0.5, 15.0, 'valorReal')"
            ]
          },
          "metadata": {
            "tags": []
          },
          "execution_count": 12
        },
        {
          "output_type": "display_data",
          "data": {
            "image/png": "[encoded data removed]",
            "text/plain": [
              "<Figure size 432x288 with 2 Axes>"
            ]
          },
          "metadata": {
            "tags": [],
            "needs_background": "light"
          }
        }
      ]
    },
    {
      "cell_type": "markdown",
      "metadata": {
        "id": "yJ5ZO7WqwiUX",
        "colab_type": "text"
      },
      "source": [
        "#Analise sem a pontuação para tentar prever o resultado"
      ]
    },
    {
      "cell_type": "code",
      "metadata": {
        "id": "x7cg51QFpiZN",
        "colab_type": "code",
        "colab": {}
      },
      "source": [
        "Xdados=dados.loc[:,['Qtd_Jogadores','Idade_Media','Estrangeiros','Valor_total','Media_Valor']]\n",
        "ydados=dados['Pos.'] \n",
        "Xprevisao=APrever.loc[:,['Qtd_Jogadores','Idade_Media','Estrangeiros','Valor_total','Media_Valor']]"
      ],
      "execution_count": 0,
      "outputs": []
    },
    {
      "cell_type": "code",
      "metadata": {
        "id": "8vsMeyGU9xUp",
        "colab_type": "code",
        "outputId": "b4de5167-0f7d-46c1-fdc6-6bab35d0bf34",
        "colab": {
          "base_uri": "https://localhost:8080/",
          "height": 34
        }
      },
      "source": [
        "modelGauss=GaussianNB()\n",
        "scoreGauss2=cross_val_score(modelGauss,Xdados,ydados,cv=LeaveOneOut())\n",
        "scoreGauss2.mean()"
      ],
      "execution_count": 0,
      "outputs": [
        {
          "output_type": "execute_result",
          "data": {
            "text/plain": [
              "0.07777777777777778"
            ]
          },
          "metadata": {
            "tags": []
          },
          "execution_count": 14
        }
      ]
    },
    {
      "cell_type": "code",
      "metadata": {
        "id": "GGrjxA8B-Ch8",
        "colab_type": "code",
        "outputId": "b20c6424-7105-4087-bd9d-0eb0d35bf7c5",
        "colab": {
          "base_uri": "https://localhost:8080/",
          "height": 34
        }
      },
      "source": [
        "modelTree2=DecisionTreeClassifier()\n",
        "scoreTree2=cross_val_score(modelTree2,Xdados,ydados,cv=LeaveOneOut())\n",
        "scoreTree2.mean()"
      ],
      "execution_count": 0,
      "outputs": [
        {
          "output_type": "execute_result",
          "data": {
            "text/plain": [
              "0.027777777777777776"
            ]
          },
          "metadata": {
            "tags": []
          },
          "execution_count": 15
        }
      ]
    },
    {
      "cell_type": "code",
      "metadata": {
        "id": "AvBgeNdf-Xq3",
        "colab_type": "code",
        "outputId": "bd83e803-79fd-40e8-f450-b09c5da00ee1",
        "colab": {
          "base_uri": "https://localhost:8080/",
          "height": 34
        }
      },
      "source": [
        "modelKNC2=KNeighborsClassifier()\n",
        "scoreKNC2=cross_val_score(modelKNC2,Xdados,ydados,cv=LeaveOneOut())\n",
        "scoreKNC2.mean()"
      ],
      "execution_count": 0,
      "outputs": [
        {
          "output_type": "execute_result",
          "data": {
            "text/plain": [
              "0.05"
            ]
          },
          "metadata": {
            "tags": []
          },
          "execution_count": 16
        }
      ]
    },
    {
      "cell_type": "markdown",
      "metadata": {
        "id": "hpbTaTkVpfnI",
        "colab_type": "text"
      },
      "source": [
        "Precisão muito baixa para esses modelos dado esses parâmetros"
      ]
    }
  ]
}
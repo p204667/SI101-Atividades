{
  "nbformat": 4,
  "nbformat_minor": 0,
  "metadata": {
    "colab": {
      "name": "atividade4-fut",
      "provenance": [],
      "authorship_tag": "ABX9TyM7GWpcna20qdwxftVX7iUV",
      "include_colab_link": true
    },
    "kernelspec": {
      "name": "python3",
      "display_name": "Python 3"
    }
  },
  "cells": [
    {
      "cell_type": "markdown",
      "metadata": {
        "id": "view-in-github",
        "colab_type": "text"
      },
      "source": [
        "<a href=\"https://colab.research.google.com/github/p204667/SI101-Atividades/blob/master/atividade4_fut.ipynb\" target=\"_parent\"><img src=\"https://colab.research.google.com/assets/colab-badge.svg\" alt=\"Open In Colab\"/></a>"
      ]
    },
    {
      "cell_type": "markdown",
      "metadata": {
        "id": "MrMIEHSpb-Gc",
        "colab_type": "text"
      },
      "source": [
        "**Pedro Igor Marques RA:204667**\n",
        "\n",
        " **Guilherme Bonadio de Lima RA:235877**"
      ]
    },
    {
      "cell_type": "markdown",
      "metadata": {
        "id": "wOPb6lzGy684",
        "colab_type": "text"
      },
      "source": [
        "Dados sobre o **Campeonato Brasileiro de 2009 a 2018**."
      ]
    },
    {
      "cell_type": "code",
      "metadata": {
        "id": "zRCGAONuv2Qh",
        "colab_type": "code",
        "colab": {
          "base_uri": "https://localhost:8080/",
          "height": 76
        },
        "outputId": "a1c389f3-aaf3-4d61-c1d9-6b7ab69ccfe6"
      },
      "source": [
        "import pandas as pd\n",
        "dadosCampeonato=pd.read_csv(\"Tabela_Clubes.csv\",decimal=',')\n",
        "dadosCampeonato.drop(['Unnamed: 13','Unnamed: 14','Unnamed: 15','Unnamed: 16'],axis=1,inplace=True)\n",
        "dadosCampeonato.Ano=dadosCampeonato.Ano.add(1)\n",
        "dadosCampeonato.rename(columns={'Derrotas':'Empates','Empates':'Derrotas'},inplace=True)\n",
        "dadosCampeonato.head(1)"
      ],
      "execution_count": null,
      "outputs": [
        {
          "output_type": "execute_result",
          "data": {
            "text/html": [
              "<div>\n",
              "<style scoped>\n",
              "    .dataframe tbody tr th:only-of-type {\n",
              "        vertical-align: middle;\n",
              "    }\n",
              "\n",
              "    .dataframe tbody tr th {\n",
              "        vertical-align: top;\n",
              "    }\n",
              "\n",
              "    .dataframe thead th {\n",
              "        text-align: right;\n",
              "    }\n",
              "</style>\n",
              "<table border=\"1\" class=\"dataframe\">\n",
              "  <thead>\n",
              "    <tr style=\"text-align: right;\">\n",
              "      <th></th>\n",
              "      <th>Ano</th>\n",
              "      <th>Pos.</th>\n",
              "      <th>Clubes</th>\n",
              "      <th>Vitorias</th>\n",
              "      <th>Empates</th>\n",
              "      <th>Derrotas</th>\n",
              "      <th>GolsF/S</th>\n",
              "      <th>Saldo</th>\n",
              "      <th>Qtd_Jogadores</th>\n",
              "      <th>Idade_Media</th>\n",
              "      <th>Estrangeiros</th>\n",
              "      <th>Valor_total</th>\n",
              "      <th>Media_Valor</th>\n",
              "    </tr>\n",
              "  </thead>\n",
              "  <tbody>\n",
              "    <tr>\n",
              "      <th>0</th>\n",
              "      <td>2018</td>\n",
              "      <td>18</td>\n",
              "      <td>America-MG</td>\n",
              "      <td>10</td>\n",
              "      <td>10</td>\n",
              "      <td>18</td>\n",
              "      <td>30:47</td>\n",
              "      <td>-17</td>\n",
              "      <td>51</td>\n",
              "      <td>24.8</td>\n",
              "      <td>0</td>\n",
              "      <td>27350000</td>\n",
              "      <td>536000</td>\n",
              "    </tr>\n",
              "  </tbody>\n",
              "</table>\n",
              "</div>"
            ],
            "text/plain": [
              "    Ano  Pos.      Clubes  ...  Estrangeiros  Valor_total  Media_Valor\n",
              "0  2018    18  America-MG  ...             0     27350000       536000\n",
              "\n",
              "[1 rows x 13 columns]"
            ]
          },
          "metadata": {
            "tags": []
          },
          "execution_count": 1
        }
      ]
    },
    {
      "cell_type": "code",
      "metadata": {
        "id": "RdKUfzDJ1i2_",
        "colab_type": "code",
        "colab": {}
      },
      "source": [
        "dados=dadosCampeonato.drop(range(0,20),axis=0)\n",
        "\n",
        "X=dados.loc[:,['Qtd_Jogadores','Idade_Media','Estrangeiros','Valor_total','Media_Valor']]\n",
        "y=dados['Pos.'] "
      ],
      "execution_count": null,
      "outputs": []
    },
    {
      "cell_type": "code",
      "metadata": {
        "id": "VQ95X29Wx26A",
        "colab_type": "code",
        "colab": {}
      },
      "source": [
        "from sklearn.svm import SVC\n",
        "import numpy as np\n",
        "from sklearn.preprocessing import StandardScaler\n",
        "from sklearn.pipeline import Pipeline\n",
        "from sklearn.model_selection import GridSearchCV\n",
        "from sklearn.model_selection import RandomizedSearchCV"
      ],
      "execution_count": null,
      "outputs": []
    },
    {
      "cell_type": "markdown",
      "metadata": {
        "id": "I9w-i-XPE6Z4",
        "colab_type": "text"
      },
      "source": [
        "#DecisionTree\n",
        "No trabalho anterior tinhamos obtido **0.039** por ele"
      ]
    },
    {
      "cell_type": "code",
      "metadata": {
        "id": "qiE8tJEEFCBb",
        "colab_type": "code",
        "colab": {}
      },
      "source": [
        "from sklearn.tree import DecisionTreeClassifier"
      ],
      "execution_count": null,
      "outputs": []
    },
    {
      "cell_type": "code",
      "metadata": {
        "colab_type": "code",
        "id": "gBcQPPK-FXLd",
        "colab": {}
      },
      "source": [
        "standardScaler = StandardScaler()\n",
        "decisionTree=DecisionTreeClassifier(criterion='gini',max_depth=None,min_samples_split=2,min_samples_leaf=1,class_weight='balanced',random_state=2020)\n",
        "\n",
        "pipeline1=Pipeline([('transformation',standardScaler),('predictor',decisionTree)])\n",
        "paramsTree = dict(\n",
        "    predictor__criterion = ['gini','entropy'],\n",
        "    predictor__max_depth = [None,1,3,5,8,10],\n",
        "    predictor__min_samples_split = [2,10,20,30,40],\n",
        "    predictor__min_samples_leaf = [1,5,10,15,20],\n",
        "    predictor__class_weight = ['balanced',{1:6,2:5,3:4,4:3,5:2,6:1,7:1,8:1,9:1,10:1,11:1,12:1,13:1,14:1,15:1,16:1,17:1,18:1,19:1,20:1}]\n",
        ")"
      ],
      "execution_count": null,
      "outputs": []
    },
    {
      "cell_type": "code",
      "metadata": {
        "colab_type": "code",
        "id": "GJ9G59HMFXLf",
        "colab": {
          "base_uri": "https://localhost:8080/",
          "height": 515
        },
        "outputId": "61e21a89-6c11-47de-b711-b0e667577bcd"
      },
      "source": [
        "grid1=GridSearchCV(pipeline1,param_grid=paramsTree,scoring='accuracy',cv=9)\n",
        "grid1.fit(X,y)"
      ],
      "execution_count": null,
      "outputs": [
        {
          "output_type": "execute_result",
          "data": {
            "text/plain": [
              "GridSearchCV(cv=9, error_score=nan,\n",
              "             estimator=Pipeline(memory=None,\n",
              "                                steps=[('transformation',\n",
              "                                        StandardScaler(copy=True,\n",
              "                                                       with_mean=True,\n",
              "                                                       with_std=True)),\n",
              "                                       ('predictor',\n",
              "                                        DecisionTreeClassifier(ccp_alpha=0.0,\n",
              "                                                               class_weight='balanced',\n",
              "                                                               criterion='gini',\n",
              "                                                               max_depth=None,\n",
              "                                                               max_features=None,\n",
              "                                                               max_leaf_nodes=None,\n",
              "                                                               min_impurity_decrease=0.0,\n",
              "                                                               min_impurity_split=None,\n",
              "                                                               min_sample...\n",
              "                                                     {1: 6, 2: 5, 3: 4, 4: 3,\n",
              "                                                      5: 2, 6: 1, 7: 1, 8: 1,\n",
              "                                                      9: 1, 10: 1, 11: 1, 12: 1,\n",
              "                                                      13: 1, 14: 1, 15: 1,\n",
              "                                                      16: 1, 17: 1, 18: 1,\n",
              "                                                      19: 1, 20: 1}],\n",
              "                         'predictor__criterion': ['gini', 'entropy'],\n",
              "                         'predictor__max_depth': [None, 1, 3, 5, 8, 10],\n",
              "                         'predictor__min_samples_leaf': [1, 5, 10, 15, 20],\n",
              "                         'predictor__min_samples_split': [2, 10, 20, 30, 40]},\n",
              "             pre_dispatch='2*n_jobs', refit=True, return_train_score=False,\n",
              "             scoring='accuracy', verbose=0)"
            ]
          },
          "metadata": {
            "tags": []
          },
          "execution_count": 6
        }
      ]
    },
    {
      "cell_type": "code",
      "metadata": {
        "colab_type": "code",
        "id": "Xp1vd6-TFXLh",
        "colab": {
          "base_uri": "https://localhost:8080/",
          "height": 72
        },
        "outputId": "977ed47f-e23a-4b97-89cd-6ea8d9e01a0e"
      },
      "source": [
        "print(grid1.best_score_)\n",
        "print(grid1.best_params_)"
      ],
      "execution_count": null,
      "outputs": [
        {
          "output_type": "stream",
          "text": [
            "0.12222222222222223\n",
            "{'predictor__class_weight': {1: 6, 2: 5, 3: 4, 4: 3, 5: 2, 6: 1, 7: 1, 8: 1, 9: 1, 10: 1, 11: 1, 12: 1, 13: 1, 14: 1, 15: 1, 16: 1, 17: 1, 18: 1, 19: 1, 20: 1}, 'predictor__criterion': 'gini', 'predictor__max_depth': None, 'predictor__min_samples_leaf': 15, 'predictor__min_samples_split': 40}\n"
          ],
          "name": "stdout"
        }
      ]
    },
    {
      "cell_type": "markdown",
      "metadata": {
        "id": "H88rfAL7bF6S",
        "colab_type": "text"
      },
      "source": [
        "Conseguimos alcançar **0.122** com o **gridSearch**"
      ]
    },
    {
      "cell_type": "code",
      "metadata": {
        "colab_type": "code",
        "id": "MbB9Qr12FXLk",
        "colab": {
          "base_uri": "https://localhost:8080/",
          "height": 746
        },
        "outputId": "392fbfb8-509a-4899-82e2-9d471b616be1"
      },
      "source": [
        "rand1=RandomizedSearchCV(pipeline1,paramsTree,cv=5,n_iter = 10, random_state=42, scoring='accuracy')\n",
        "rand1.fit(X,y)"
      ],
      "execution_count": null,
      "outputs": [
        {
          "output_type": "execute_result",
          "data": {
            "text/plain": [
              "RandomizedSearchCV(cv=5, error_score=nan,\n",
              "                   estimator=Pipeline(memory=None,\n",
              "                                      steps=[('transformation',\n",
              "                                              StandardScaler(copy=True,\n",
              "                                                             with_mean=True,\n",
              "                                                             with_std=True)),\n",
              "                                             ('predictor',\n",
              "                                              DecisionTreeClassifier(ccp_alpha=0.0,\n",
              "                                                                     class_weight='balanced',\n",
              "                                                                     criterion='gini',\n",
              "                                                                     max_depth=None,\n",
              "                                                                     max_features=None,\n",
              "                                                                     max_leaf_nodes=None,\n",
              "                                                                     min_impurity_decrease=0.0,\n",
              "                                                                     min_impurity_split=None,\n",
              "                                                                     min_...\n",
              "                                                                     7: 1, 8: 1,\n",
              "                                                                     9: 1,\n",
              "                                                                     10: 1,\n",
              "                                                                     11: 1,\n",
              "                                                                     12: 1,\n",
              "                                                                     13: 1,\n",
              "                                                                     14: 1,\n",
              "                                                                     15: 1,\n",
              "                                                                     16: 1,\n",
              "                                                                     17: 1,\n",
              "                                                                     18: 1,\n",
              "                                                                     19: 1,\n",
              "                                                                     20: 1}],\n",
              "                                        'predictor__criterion': ['gini',\n",
              "                                                                 'entropy'],\n",
              "                                        'predictor__max_depth': [None, 1, 3, 5,\n",
              "                                                                 8, 10],\n",
              "                                        'predictor__min_samples_leaf': [1, 5,\n",
              "                                                                        10, 15,\n",
              "                                                                        20],\n",
              "                                        'predictor__min_samples_split': [2, 10,\n",
              "                                                                         20, 30,\n",
              "                                                                         40]},\n",
              "                   pre_dispatch='2*n_jobs', random_state=42, refit=True,\n",
              "                   return_train_score=False, scoring='accuracy', verbose=0)"
            ]
          },
          "metadata": {
            "tags": []
          },
          "execution_count": 8
        }
      ]
    },
    {
      "cell_type": "code",
      "metadata": {
        "colab_type": "code",
        "id": "C0clvhVsFXLm",
        "colab": {
          "base_uri": "https://localhost:8080/",
          "height": 72
        },
        "outputId": "b84cf5f0-6d9f-4bd6-926e-2a6c9f125f24"
      },
      "source": [
        "print(rand1.best_score_)\n",
        "print(rand1.best_params_)"
      ],
      "execution_count": null,
      "outputs": [
        {
          "output_type": "stream",
          "text": [
            "0.10555555555555556\n",
            "{'predictor__min_samples_split': 40, 'predictor__min_samples_leaf': 15, 'predictor__max_depth': None, 'predictor__criterion': 'entropy', 'predictor__class_weight': {1: 6, 2: 5, 3: 4, 4: 3, 5: 2, 6: 1, 7: 1, 8: 1, 9: 1, 10: 1, 11: 1, 12: 1, 13: 1, 14: 1, 15: 1, 16: 1, 17: 1, 18: 1, 19: 1, 20: 1}}\n"
          ],
          "name": "stdout"
        }
      ]
    },
    {
      "cell_type": "markdown",
      "metadata": {
        "id": "WIxmawigbUQT",
        "colab_type": "text"
      },
      "source": [
        "Conseguimos alcançar **0.106** com o **RandomizedSearch**"
      ]
    },
    {
      "cell_type": "markdown",
      "metadata": {
        "id": "ddAQc2beAyjD",
        "colab_type": "text"
      },
      "source": [
        "#SVM"
      ]
    },
    {
      "cell_type": "code",
      "metadata": {
        "id": "pbw51722yZyZ",
        "colab_type": "code",
        "colab": {}
      },
      "source": [
        "standardScaler = StandardScaler()\n",
        "svm = SVC(kernel='rbf',C=0.1,gamma=0.1)\n",
        "pipeline2=Pipeline([('transformation',standardScaler),('predictor',svm)])\n",
        "params = dict(\n",
        "    predictor__gamma = np.logspace(-4,4,9),\n",
        "    predictor__C = np.logspace(-4,4,9)\n",
        ")"
      ],
      "execution_count": null,
      "outputs": []
    },
    {
      "cell_type": "code",
      "metadata": {
        "id": "i6RlwHYWz8-0",
        "colab_type": "code",
        "colab": {
          "base_uri": "https://localhost:8080/",
          "height": 426
        },
        "outputId": "115d7cae-655e-4b05-cdde-99d3107c6015"
      },
      "source": [
        "grid2=GridSearchCV(pipeline2,param_grid=params,scoring='accuracy',cv=9)\n",
        "grid2.fit(X,y)"
      ],
      "execution_count": null,
      "outputs": [
        {
          "output_type": "execute_result",
          "data": {
            "text/plain": [
              "GridSearchCV(cv=9, error_score=nan,\n",
              "             estimator=Pipeline(memory=None,\n",
              "                                steps=[('transformation',\n",
              "                                        StandardScaler(copy=True,\n",
              "                                                       with_mean=True,\n",
              "                                                       with_std=True)),\n",
              "                                       ('predictor',\n",
              "                                        SVC(C=0.1, break_ties=False,\n",
              "                                            cache_size=200, class_weight=None,\n",
              "                                            coef0=0.0,\n",
              "                                            decision_function_shape='ovr',\n",
              "                                            degree=3, gamma=0.1, kernel='rbf',\n",
              "                                            max_iter=-1, probability=False,\n",
              "                                            random_state=None, shrinking=T...\n",
              "                                            tol=0.001, verbose=False))],\n",
              "                                verbose=False),\n",
              "             iid='deprecated', n_jobs=None,\n",
              "             param_grid={'predictor__C': array([1.e-04, 1.e-03, 1.e-02, 1.e-01, 1.e+00, 1.e+01, 1.e+02, 1.e+03,\n",
              "       1.e+04]),\n",
              "                         'predictor__gamma': array([1.e-04, 1.e-03, 1.e-02, 1.e-01, 1.e+00, 1.e+01, 1.e+02, 1.e+03,\n",
              "       1.e+04])},\n",
              "             pre_dispatch='2*n_jobs', refit=True, return_train_score=False,\n",
              "             scoring='accuracy', verbose=0)"
            ]
          },
          "metadata": {
            "tags": []
          },
          "execution_count": 11
        }
      ]
    },
    {
      "cell_type": "code",
      "metadata": {
        "id": "J1ENECDt32Z9",
        "colab_type": "code",
        "colab": {
          "base_uri": "https://localhost:8080/",
          "height": 319
        },
        "outputId": "be38974d-e9c1-47fa-e5c0-597a9df33ca9"
      },
      "source": [
        "grid2.cv_results_[\"mean_test_score\"]"
      ],
      "execution_count": null,
      "outputs": [
        {
          "output_type": "execute_result",
          "data": {
            "text/plain": [
              "array([0.07222222, 0.07222222, 0.07777778, 0.07777778, 0.06666667,\n",
              "       0.05555556, 0.04444444, 0.04444444, 0.04444444, 0.07222222,\n",
              "       0.07222222, 0.07777778, 0.07777778, 0.06666667, 0.05555556,\n",
              "       0.04444444, 0.04444444, 0.04444444, 0.07222222, 0.07222222,\n",
              "       0.07777778, 0.07777778, 0.06666667, 0.05555556, 0.04444444,\n",
              "       0.04444444, 0.04444444, 0.07222222, 0.07222222, 0.07777778,\n",
              "       0.07777778, 0.06666667, 0.05555556, 0.04444444, 0.04444444,\n",
              "       0.04444444, 0.07222222, 0.07222222, 0.07777778, 0.07222222,\n",
              "       0.07777778, 0.05555556, 0.05      , 0.04444444, 0.04444444,\n",
              "       0.07222222, 0.07222222, 0.06666667, 0.06666667, 0.06111111,\n",
              "       0.05555556, 0.03333333, 0.05      , 0.04444444, 0.07222222,\n",
              "       0.06666667, 0.07222222, 0.06111111, 0.05555556, 0.05555556,\n",
              "       0.03333333, 0.05      , 0.04444444, 0.07222222, 0.07222222,\n",
              "       0.1       , 0.05      , 0.05555556, 0.05555556, 0.03333333,\n",
              "       0.05      , 0.04444444, 0.08333333, 0.06666667, 0.05555556,\n",
              "       0.05      , 0.05555556, 0.05555556, 0.03333333, 0.05      ,\n",
              "       0.04444444])"
            ]
          },
          "metadata": {
            "tags": []
          },
          "execution_count": 12
        }
      ]
    },
    {
      "cell_type": "code",
      "metadata": {
        "id": "lLC2f5GT425D",
        "colab_type": "code",
        "colab": {
          "base_uri": "https://localhost:8080/",
          "height": 52
        },
        "outputId": "9465fb51-1c8c-41c7-9acc-20bc2038d1dd"
      },
      "source": [
        "print(grid2.best_score_)\n",
        "print(grid2.best_params_)"
      ],
      "execution_count": null,
      "outputs": [
        {
          "output_type": "stream",
          "text": [
            "0.1\n",
            "{'predictor__C': 1000.0, 'predictor__gamma': 0.01}\n"
          ],
          "name": "stdout"
        }
      ]
    },
    {
      "cell_type": "markdown",
      "metadata": {
        "id": "7Aw4Gj0Ob9wG",
        "colab_type": "text"
      },
      "source": [
        "O melhor resultado foi **0.1** para o **GridSearch**"
      ]
    },
    {
      "cell_type": "code",
      "metadata": {
        "id": "efMKOCjx5lPd",
        "colab_type": "code",
        "colab": {
          "base_uri": "https://localhost:8080/",
          "height": 444
        },
        "outputId": "6cba3a94-192d-40a6-b170-2ee56dac21a7"
      },
      "source": [
        "rand2=RandomizedSearchCV(pipeline2,params,cv=5,n_iter = 10, random_state=2020, scoring='accuracy')\n",
        "rand2.fit(X,y)"
      ],
      "execution_count": null,
      "outputs": [
        {
          "output_type": "execute_result",
          "data": {
            "text/plain": [
              "RandomizedSearchCV(cv=5, error_score=nan,\n",
              "                   estimator=Pipeline(memory=None,\n",
              "                                      steps=[('transformation',\n",
              "                                              StandardScaler(copy=True,\n",
              "                                                             with_mean=True,\n",
              "                                                             with_std=True)),\n",
              "                                             ('predictor',\n",
              "                                              SVC(C=0.1, break_ties=False,\n",
              "                                                  cache_size=200,\n",
              "                                                  class_weight=None, coef0=0.0,\n",
              "                                                  decision_function_shape='ovr',\n",
              "                                                  degree=3, gamma=0.1,\n",
              "                                                  kernel='rbf', max_iter=-1,\n",
              "                                                  probability=False,\n",
              "                                                  random_state=None,\n",
              "                                                  shrin...\n",
              "                                      verbose=False),\n",
              "                   iid='deprecated', n_iter=10, n_jobs=None,\n",
              "                   param_distributions={'predictor__C': array([1.e-04, 1.e-03, 1.e-02, 1.e-01, 1.e+00, 1.e+01, 1.e+02, 1.e+03,\n",
              "       1.e+04]),\n",
              "                                        'predictor__gamma': array([1.e-04, 1.e-03, 1.e-02, 1.e-01, 1.e+00, 1.e+01, 1.e+02, 1.e+03,\n",
              "       1.e+04])},\n",
              "                   pre_dispatch='2*n_jobs', random_state=2020, refit=True,\n",
              "                   return_train_score=False, scoring='accuracy', verbose=0)"
            ]
          },
          "metadata": {
            "tags": []
          },
          "execution_count": 14
        }
      ]
    },
    {
      "cell_type": "code",
      "metadata": {
        "id": "jsEZH1u-5xYA",
        "colab_type": "code",
        "colab": {
          "base_uri": "https://localhost:8080/",
          "height": 52
        },
        "outputId": "b4c14c92-d8fd-4af7-fc7d-f1ee4994940e"
      },
      "source": [
        "print(rand2.best_score_)\n",
        "print(rand2.best_params_)"
      ],
      "execution_count": null,
      "outputs": [
        {
          "output_type": "stream",
          "text": [
            "0.07777777777777779\n",
            "{'predictor__gamma': 0.01, 'predictor__C': 1000.0}\n"
          ],
          "name": "stdout"
        }
      ]
    },
    {
      "cell_type": "markdown",
      "metadata": {
        "id": "yXCFqkaacFf_",
        "colab_type": "text"
      },
      "source": [
        "O melhor resultado foi **0.078** para o **RandomizedSearch**"
      ]
    }
  ]
}
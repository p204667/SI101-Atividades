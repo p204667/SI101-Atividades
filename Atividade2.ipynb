{
  "nbformat": 4,
  "nbformat_minor": 0,
  "metadata": {
    "colab": {
      "name": "Atividade2.ipynb",
      "provenance": [],
      "collapsed_sections": [],
      "authorship_tag": "ABX9TyN0SLRpPfGp+afH9aGuv325",
      "include_colab_link": true
    },
    "kernelspec": {
      "name": "python3",
      "display_name": "Python 3"
    }
  },
  "cells": [
    {
      "cell_type": "markdown",
      "metadata": {
        "id": "view-in-github",
        "colab_type": "text"
      },
      "source": [
        "<a href=\"https://colab.research.google.com/github/p204667/SI101-Atividades/blob/master/Atividade2.ipynb\" target=\"_parent\"><img src=\"https://colab.research.google.com/assets/colab-badge.svg\" alt=\"Open In Colab\"/></a>"
      ]
    },
    {
      "cell_type": "markdown",
      "metadata": {
        "id": "BV7p5tPzxBoy",
        "colab_type": "text"
      },
      "source": [
        "**Pedro Igor Marques RA:204667**\n",
        "\n",
        "**Guilherme Bonadio de Lima RA:235877**\n"
      ]
    },
    {
      "cell_type": "markdown",
      "metadata": {
        "id": "wOPb6lzGy684",
        "colab_type": "text"
      },
      "source": [
        "Dados sobre o **Campeonato Brasileiro de 2009 a 2018**."
      ]
    },
    {
      "cell_type": "code",
      "metadata": {
        "id": "OM1YQw5uCaQX",
        "colab_type": "code",
        "outputId": "c65b9d04-cf09-48e5-e560-a895fcfd20d0",
        "colab": {
          "base_uri": "https://localhost:8080/",
          "height": 130
        }
      },
      "source": [
        "import pandas as pd\n",
        "import seaborn as sns\n",
        "import matplotlib.pyplot as plt\n",
        "dadosCampeonato=pd.read_csv(\"Tabela_Clubes.csv\")\n",
        "dadosCampeonato.drop(['Unnamed: 13','Unnamed: 14','Unnamed: 15','Unnamed: 16'],axis=1,inplace=True)\n",
        "dadosCampeonato.Ano=dadosCampeonato.Ano.add(1)\n",
        "dadosCampeonato.rename(columns={'Derrotas':'Empates','Empates':'Derrotas'},inplace=True)\n",
        "dadosCampeonato.head(1)"
      ],
      "execution_count": 0,
      "outputs": [
        {
          "output_type": "stream",
          "text": [
            "/usr/local/lib/python3.6/dist-packages/statsmodels/tools/_testing.py:19: FutureWarning: pandas.util.testing is deprecated. Use the functions in the public API at pandas.testing instead.\n",
            "  import pandas.util.testing as tm\n"
          ],
          "name": "stderr"
        },
        {
          "output_type": "execute_result",
          "data": {
            "text/html": [
              "<div>\n",
              "<style scoped>\n",
              "    .dataframe tbody tr th:only-of-type {\n",
              "        vertical-align: middle;\n",
              "    }\n",
              "\n",
              "    .dataframe tbody tr th {\n",
              "        vertical-align: top;\n",
              "    }\n",
              "\n",
              "    .dataframe thead th {\n",
              "        text-align: right;\n",
              "    }\n",
              "</style>\n",
              "<table border=\"1\" class=\"dataframe\">\n",
              "  <thead>\n",
              "    <tr style=\"text-align: right;\">\n",
              "      <th></th>\n",
              "      <th>Ano</th>\n",
              "      <th>Pos.</th>\n",
              "      <th>Clubes</th>\n",
              "      <th>Vitorias</th>\n",
              "      <th>Empates</th>\n",
              "      <th>Derrotas</th>\n",
              "      <th>GolsF/S</th>\n",
              "      <th>Saldo</th>\n",
              "      <th>Qtd_Jogadores</th>\n",
              "      <th>Idade_Media</th>\n",
              "      <th>Estrangeiros</th>\n",
              "      <th>Valor_total</th>\n",
              "      <th>Media_Valor</th>\n",
              "    </tr>\n",
              "  </thead>\n",
              "  <tbody>\n",
              "    <tr>\n",
              "      <th>0</th>\n",
              "      <td>2018</td>\n",
              "      <td>18</td>\n",
              "      <td>America-MG</td>\n",
              "      <td>10</td>\n",
              "      <td>10</td>\n",
              "      <td>18</td>\n",
              "      <td>30:47</td>\n",
              "      <td>-17</td>\n",
              "      <td>51</td>\n",
              "      <td>24.8</td>\n",
              "      <td>0</td>\n",
              "      <td>27350000</td>\n",
              "      <td>536000</td>\n",
              "    </tr>\n",
              "  </tbody>\n",
              "</table>\n",
              "</div>"
            ],
            "text/plain": [
              "    Ano  Pos.      Clubes  ...  Estrangeiros  Valor_total  Media_Valor\n",
              "0  2018    18  America-MG  ...             0     27350000       536000\n",
              "\n",
              "[1 rows x 13 columns]"
            ]
          },
          "metadata": {
            "tags": []
          },
          "execution_count": 1
        }
      ]
    },
    {
      "cell_type": "code",
      "metadata": {
        "id": "cpIgX4H6iZ_w",
        "colab_type": "code",
        "outputId": "7e2b5654-bd0d-4ec7-82c6-a3490db974b8",
        "colab": {
          "base_uri": "https://localhost:8080/",
          "height": 639
        }
      },
      "source": [
        "dados=dadosCampeonato.drop(range(0,20),axis=0)\n",
        "APrever=dadosCampeonato[dadosCampeonato.Ano == 2018].sort_values('Pos.')\n",
        "APrever"
      ],
      "execution_count": 0,
      "outputs": [
        {
          "output_type": "execute_result",
          "data": {
            "text/html": [
              "<div>\n",
              "<style scoped>\n",
              "    .dataframe tbody tr th:only-of-type {\n",
              "        vertical-align: middle;\n",
              "    }\n",
              "\n",
              "    .dataframe tbody tr th {\n",
              "        vertical-align: top;\n",
              "    }\n",
              "\n",
              "    .dataframe thead th {\n",
              "        text-align: right;\n",
              "    }\n",
              "</style>\n",
              "<table border=\"1\" class=\"dataframe\">\n",
              "  <thead>\n",
              "    <tr style=\"text-align: right;\">\n",
              "      <th></th>\n",
              "      <th>Ano</th>\n",
              "      <th>Pos.</th>\n",
              "      <th>Clubes</th>\n",
              "      <th>Vitorias</th>\n",
              "      <th>Empates</th>\n",
              "      <th>Derrotas</th>\n",
              "      <th>GolsF/S</th>\n",
              "      <th>Saldo</th>\n",
              "      <th>Qtd_Jogadores</th>\n",
              "      <th>Idade_Media</th>\n",
              "      <th>Estrangeiros</th>\n",
              "      <th>Valor_total</th>\n",
              "      <th>Media_Valor</th>\n",
              "    </tr>\n",
              "  </thead>\n",
              "  <tbody>\n",
              "    <tr>\n",
              "      <th>13</th>\n",
              "      <td>2018</td>\n",
              "      <td>1</td>\n",
              "      <td>Palmeiras</td>\n",
              "      <td>23</td>\n",
              "      <td>11</td>\n",
              "      <td>4</td>\n",
              "      <td>64:26</td>\n",
              "      <td>38</td>\n",
              "      <td>48</td>\n",
              "      <td>24.8</td>\n",
              "      <td>4</td>\n",
              "      <td>88330000</td>\n",
              "      <td>1840000</td>\n",
              "    </tr>\n",
              "    <tr>\n",
              "      <th>9</th>\n",
              "      <td>2018</td>\n",
              "      <td>2</td>\n",
              "      <td>Flamengo</td>\n",
              "      <td>21</td>\n",
              "      <td>9</td>\n",
              "      <td>8</td>\n",
              "      <td>59:29</td>\n",
              "      <td>30</td>\n",
              "      <td>48</td>\n",
              "      <td>23.8</td>\n",
              "      <td>7</td>\n",
              "      <td>67380000</td>\n",
              "      <td>1400000</td>\n",
              "    </tr>\n",
              "    <tr>\n",
              "      <th>12</th>\n",
              "      <td>2018</td>\n",
              "      <td>3</td>\n",
              "      <td>Internacional</td>\n",
              "      <td>19</td>\n",
              "      <td>12</td>\n",
              "      <td>7</td>\n",
              "      <td>51:29</td>\n",
              "      <td>22</td>\n",
              "      <td>46</td>\n",
              "      <td>24.2</td>\n",
              "      <td>7</td>\n",
              "      <td>55750000</td>\n",
              "      <td>1210000</td>\n",
              "    </tr>\n",
              "    <tr>\n",
              "      <th>11</th>\n",
              "      <td>2018</td>\n",
              "      <td>4</td>\n",
              "      <td>Gremio</td>\n",
              "      <td>18</td>\n",
              "      <td>12</td>\n",
              "      <td>8</td>\n",
              "      <td>48:27</td>\n",
              "      <td>21</td>\n",
              "      <td>59</td>\n",
              "      <td>24.5</td>\n",
              "      <td>2</td>\n",
              "      <td>67600000</td>\n",
              "      <td>1150000</td>\n",
              "    </tr>\n",
              "    <tr>\n",
              "      <th>16</th>\n",
              "      <td>2018</td>\n",
              "      <td>5</td>\n",
              "      <td>Sao Paulo</td>\n",
              "      <td>16</td>\n",
              "      <td>15</td>\n",
              "      <td>7</td>\n",
              "      <td>46:34</td>\n",
              "      <td>12</td>\n",
              "      <td>50</td>\n",
              "      <td>23.0</td>\n",
              "      <td>5</td>\n",
              "      <td>70880000</td>\n",
              "      <td>1420000</td>\n",
              "    </tr>\n",
              "    <tr>\n",
              "      <th>2</th>\n",
              "      <td>2018</td>\n",
              "      <td>6</td>\n",
              "      <td>Atletico-MG</td>\n",
              "      <td>17</td>\n",
              "      <td>8</td>\n",
              "      <td>13</td>\n",
              "      <td>56:43</td>\n",
              "      <td>13</td>\n",
              "      <td>50</td>\n",
              "      <td>23.4</td>\n",
              "      <td>6</td>\n",
              "      <td>61350000</td>\n",
              "      <td>1230000</td>\n",
              "    </tr>\n",
              "    <tr>\n",
              "      <th>1</th>\n",
              "      <td>2018</td>\n",
              "      <td>7</td>\n",
              "      <td>Athletico-PR</td>\n",
              "      <td>16</td>\n",
              "      <td>9</td>\n",
              "      <td>13</td>\n",
              "      <td>54:37</td>\n",
              "      <td>17</td>\n",
              "      <td>52</td>\n",
              "      <td>24.0</td>\n",
              "      <td>3</td>\n",
              "      <td>37650000</td>\n",
              "      <td>724000</td>\n",
              "    </tr>\n",
              "    <tr>\n",
              "      <th>8</th>\n",
              "      <td>2018</td>\n",
              "      <td>8</td>\n",
              "      <td>Cruzeiro</td>\n",
              "      <td>14</td>\n",
              "      <td>11</td>\n",
              "      <td>13</td>\n",
              "      <td>34:34</td>\n",
              "      <td>0</td>\n",
              "      <td>51</td>\n",
              "      <td>24.0</td>\n",
              "      <td>5</td>\n",
              "      <td>62250000</td>\n",
              "      <td>1220000</td>\n",
              "    </tr>\n",
              "    <tr>\n",
              "      <th>4</th>\n",
              "      <td>2018</td>\n",
              "      <td>9</td>\n",
              "      <td>Botafogo</td>\n",
              "      <td>13</td>\n",
              "      <td>12</td>\n",
              "      <td>13</td>\n",
              "      <td>38:46</td>\n",
              "      <td>-8</td>\n",
              "      <td>45</td>\n",
              "      <td>23.1</td>\n",
              "      <td>4</td>\n",
              "      <td>25550000</td>\n",
              "      <td>568000</td>\n",
              "    </tr>\n",
              "    <tr>\n",
              "      <th>15</th>\n",
              "      <td>2018</td>\n",
              "      <td>10</td>\n",
              "      <td>Santos</td>\n",
              "      <td>13</td>\n",
              "      <td>11</td>\n",
              "      <td>14</td>\n",
              "      <td>46:40</td>\n",
              "      <td>6</td>\n",
              "      <td>46</td>\n",
              "      <td>23.0</td>\n",
              "      <td>5</td>\n",
              "      <td>68000000</td>\n",
              "      <td>1480000</td>\n",
              "    </tr>\n",
              "    <tr>\n",
              "      <th>3</th>\n",
              "      <td>2018</td>\n",
              "      <td>11</td>\n",
              "      <td>Bahia</td>\n",
              "      <td>12</td>\n",
              "      <td>12</td>\n",
              "      <td>14</td>\n",
              "      <td>39:41</td>\n",
              "      <td>-2</td>\n",
              "      <td>48</td>\n",
              "      <td>23.2</td>\n",
              "      <td>2</td>\n",
              "      <td>34900000</td>\n",
              "      <td>727000</td>\n",
              "    </tr>\n",
              "    <tr>\n",
              "      <th>10</th>\n",
              "      <td>2018</td>\n",
              "      <td>12</td>\n",
              "      <td>Fluminense</td>\n",
              "      <td>12</td>\n",
              "      <td>9</td>\n",
              "      <td>17</td>\n",
              "      <td>32:46</td>\n",
              "      <td>-14</td>\n",
              "      <td>58</td>\n",
              "      <td>22.5</td>\n",
              "      <td>4</td>\n",
              "      <td>30800000</td>\n",
              "      <td>531000</td>\n",
              "    </tr>\n",
              "    <tr>\n",
              "      <th>7</th>\n",
              "      <td>2018</td>\n",
              "      <td>13</td>\n",
              "      <td>Corinthians</td>\n",
              "      <td>11</td>\n",
              "      <td>11</td>\n",
              "      <td>16</td>\n",
              "      <td>34:35</td>\n",
              "      <td>-1</td>\n",
              "      <td>54</td>\n",
              "      <td>24.3</td>\n",
              "      <td>6</td>\n",
              "      <td>61400000</td>\n",
              "      <td>1140000</td>\n",
              "    </tr>\n",
              "    <tr>\n",
              "      <th>6</th>\n",
              "      <td>2018</td>\n",
              "      <td>14</td>\n",
              "      <td>Chapecoense</td>\n",
              "      <td>11</td>\n",
              "      <td>11</td>\n",
              "      <td>16</td>\n",
              "      <td>34:50</td>\n",
              "      <td>-16</td>\n",
              "      <td>52</td>\n",
              "      <td>24.8</td>\n",
              "      <td>5</td>\n",
              "      <td>32030000</td>\n",
              "      <td>616000</td>\n",
              "    </tr>\n",
              "    <tr>\n",
              "      <th>5</th>\n",
              "      <td>2018</td>\n",
              "      <td>15</td>\n",
              "      <td>Ceara</td>\n",
              "      <td>10</td>\n",
              "      <td>14</td>\n",
              "      <td>14</td>\n",
              "      <td>32:38</td>\n",
              "      <td>-6</td>\n",
              "      <td>54</td>\n",
              "      <td>26.0</td>\n",
              "      <td>2</td>\n",
              "      <td>26950000</td>\n",
              "      <td>499000</td>\n",
              "    </tr>\n",
              "    <tr>\n",
              "      <th>18</th>\n",
              "      <td>2018</td>\n",
              "      <td>16</td>\n",
              "      <td>Vasco</td>\n",
              "      <td>10</td>\n",
              "      <td>13</td>\n",
              "      <td>15</td>\n",
              "      <td>41:48</td>\n",
              "      <td>-7</td>\n",
              "      <td>55</td>\n",
              "      <td>23.9</td>\n",
              "      <td>7</td>\n",
              "      <td>41580000</td>\n",
              "      <td>756000</td>\n",
              "    </tr>\n",
              "    <tr>\n",
              "      <th>17</th>\n",
              "      <td>2018</td>\n",
              "      <td>17</td>\n",
              "      <td>Sport</td>\n",
              "      <td>11</td>\n",
              "      <td>9</td>\n",
              "      <td>18</td>\n",
              "      <td>35:57</td>\n",
              "      <td>-22</td>\n",
              "      <td>47</td>\n",
              "      <td>24.1</td>\n",
              "      <td>1</td>\n",
              "      <td>30950000</td>\n",
              "      <td>659000</td>\n",
              "    </tr>\n",
              "    <tr>\n",
              "      <th>0</th>\n",
              "      <td>2018</td>\n",
              "      <td>18</td>\n",
              "      <td>America-MG</td>\n",
              "      <td>10</td>\n",
              "      <td>10</td>\n",
              "      <td>18</td>\n",
              "      <td>30:47</td>\n",
              "      <td>-17</td>\n",
              "      <td>51</td>\n",
              "      <td>24.8</td>\n",
              "      <td>0</td>\n",
              "      <td>27350000</td>\n",
              "      <td>536000</td>\n",
              "    </tr>\n",
              "    <tr>\n",
              "      <th>19</th>\n",
              "      <td>2018</td>\n",
              "      <td>19</td>\n",
              "      <td>Vitoria</td>\n",
              "      <td>9</td>\n",
              "      <td>10</td>\n",
              "      <td>19</td>\n",
              "      <td>36:63</td>\n",
              "      <td>-27</td>\n",
              "      <td>61</td>\n",
              "      <td>23.5</td>\n",
              "      <td>6</td>\n",
              "      <td>43900000</td>\n",
              "      <td>720000</td>\n",
              "    </tr>\n",
              "    <tr>\n",
              "      <th>14</th>\n",
              "      <td>2018</td>\n",
              "      <td>20</td>\n",
              "      <td>Parana</td>\n",
              "      <td>4</td>\n",
              "      <td>11</td>\n",
              "      <td>23</td>\n",
              "      <td>18:57</td>\n",
              "      <td>-39</td>\n",
              "      <td>60</td>\n",
              "      <td>22.9</td>\n",
              "      <td>3</td>\n",
              "      <td>18480000</td>\n",
              "      <td>308000</td>\n",
              "    </tr>\n",
              "  </tbody>\n",
              "</table>\n",
              "</div>"
            ],
            "text/plain": [
              "     Ano  Pos.         Clubes  ...  Estrangeiros  Valor_total  Media_Valor\n",
              "13  2018     1      Palmeiras  ...             4     88330000      1840000\n",
              "9   2018     2       Flamengo  ...             7     67380000      1400000\n",
              "12  2018     3  Internacional  ...             7     55750000      1210000\n",
              "11  2018     4         Gremio  ...             2     67600000      1150000\n",
              "16  2018     5      Sao Paulo  ...             5     70880000      1420000\n",
              "2   2018     6    Atletico-MG  ...             6     61350000      1230000\n",
              "1   2018     7   Athletico-PR  ...             3     37650000       724000\n",
              "8   2018     8       Cruzeiro  ...             5     62250000      1220000\n",
              "4   2018     9       Botafogo  ...             4     25550000       568000\n",
              "15  2018    10         Santos  ...             5     68000000      1480000\n",
              "3   2018    11          Bahia  ...             2     34900000       727000\n",
              "10  2018    12     Fluminense  ...             4     30800000       531000\n",
              "7   2018    13    Corinthians  ...             6     61400000      1140000\n",
              "6   2018    14    Chapecoense  ...             5     32030000       616000\n",
              "5   2018    15          Ceara  ...             2     26950000       499000\n",
              "18  2018    16          Vasco  ...             7     41580000       756000\n",
              "17  2018    17          Sport  ...             1     30950000       659000\n",
              "0   2018    18     America-MG  ...             0     27350000       536000\n",
              "19  2018    19        Vitoria  ...             6     43900000       720000\n",
              "14  2018    20         Parana  ...             3     18480000       308000\n",
              "\n",
              "[20 rows x 13 columns]"
            ]
          },
          "metadata": {
            "tags": []
          },
          "execution_count": 2
        }
      ]
    },
    {
      "cell_type": "markdown",
      "metadata": {
        "id": "pVF5Qd31cRQP",
        "colab_type": "text"
      },
      "source": [
        "* Setor **1** = Abaixo da Média\n",
        "* Setor **2** = Próximo da Média\n",
        "* Setor **3** = Acima da Média"
      ]
    },
    {
      "cell_type": "code",
      "metadata": {
        "id": "NideP8VEpWpL",
        "colab_type": "code",
        "outputId": "fd49a9d7-b7d6-47ae-effc-228ab1878068",
        "colab": {
          "base_uri": "https://localhost:8080/",
          "height": 297
        }
      },
      "source": [
        "dados['setor_qtd_jogadores']=1\n",
        "dados.loc[dados.Qtd_Jogadores>=40,\"setor_qtd_jogadores\"]=2\n",
        "dados.loc[dados.Qtd_Jogadores>=50,\"setor_qtd_jogadores\"]=3\n",
        "sns.countplot(x='setor_qtd_jogadores',data=dados)"
      ],
      "execution_count": 0,
      "outputs": [
        {
          "output_type": "execute_result",
          "data": {
            "text/plain": [
              "<matplotlib.axes._subplots.AxesSubplot at 0x7fecc80fa828>"
            ]
          },
          "metadata": {
            "tags": []
          },
          "execution_count": 3
        },
        {
          "output_type": "display_data",
          "data": {
            "image/png": "[encoded data removed]",
            "text/plain": [
              "<Figure size 432x288 with 1 Axes>"
            ]
          },
          "metadata": {
            "tags": [],
            "needs_background": "light"
          }
        }
      ]
    },
    {
      "cell_type": "markdown",
      "metadata": {
        "id": "1MbLA9X8nF8U",
        "colab_type": "text"
      },
      "source": [
        "Times distribuidos de modo equilibrado para que todos os setores tivessem um bom número de referências para fazermos análise do gráfico. "
      ]
    },
    {
      "cell_type": "code",
      "metadata": {
        "id": "5nOvDshqukqb",
        "colab_type": "code",
        "outputId": "cf0f87d5-b0dc-45c3-d789-7ffd0be9b5c7",
        "colab": {
          "base_uri": "https://localhost:8080/",
          "height": 439
        }
      },
      "source": [
        "sns.factorplot(x='Pos.',col='setor_qtd_jogadores',kind='count',data=dados)"
      ],
      "execution_count": 0,
      "outputs": [
        {
          "output_type": "stream",
          "text": [
            "/usr/local/lib/python3.6/dist-packages/seaborn/categorical.py:3666: UserWarning: The `factorplot` function has been renamed to `catplot`. The original name will be removed in a future release. Please update your code. Note that the default `kind` in `factorplot` (`'point'`) has changed `'strip'` in `catplot`.\n",
            "  warnings.warn(msg)\n"
          ],
          "name": "stderr"
        },
        {
          "output_type": "execute_result",
          "data": {
            "text/plain": [
              "<seaborn.axisgrid.FacetGrid at 0x7fecf1208550>"
            ]
          },
          "metadata": {
            "tags": []
          },
          "execution_count": 4
        },
        {
          "output_type": "display_data",
          "data": {
            "image/png": "[encoded data removed]",
            "text/plain": [
              "<Figure size 1080x360 with 3 Axes>"
            ]
          },
          "metadata": {
            "tags": [],
            "needs_background": "light"
          }
        }
      ]
    },
    {
      "cell_type": "markdown",
      "metadata": {
        "id": "0NzACgC4oHoy",
        "colab_type": "text"
      },
      "source": [
        "A quantidade de jogadores não revelou nenhuma tendencia."
      ]
    },
    {
      "cell_type": "code",
      "metadata": {
        "id": "TZwAzFpdufHL",
        "colab_type": "code",
        "outputId": "08178e78-1a8f-4e66-dded-a285d86fb5a5",
        "colab": {
          "base_uri": "https://localhost:8080/",
          "height": 297
        }
      },
      "source": [
        "dados['setor_valor_total']=1\n",
        "dados.loc[dados.Valor_total>=0.25e+08,\"setor_valor_total\"]=2\n",
        "dados.loc[dados.Valor_total>=0.5e+08,\"setor_valor_total\"]=3\n",
        "sns.countplot(x='setor_valor_total',data=dados)"
      ],
      "execution_count": 0,
      "outputs": [
        {
          "output_type": "execute_result",
          "data": {
            "text/plain": [
              "<matplotlib.axes._subplots.AxesSubplot at 0x7fecc5191198>"
            ]
          },
          "metadata": {
            "tags": []
          },
          "execution_count": 5
        },
        {
          "output_type": "display_data",
          "data": {
            "image/png": "[encoded data removed]",
            "text/plain": [
              "<Figure size 432x288 with 1 Axes>"
            ]
          },
          "metadata": {
            "tags": [],
            "needs_background": "light"
          }
        }
      ]
    },
    {
      "cell_type": "markdown",
      "metadata": {
        "id": "5RqaYKahoUWL",
        "colab_type": "text"
      },
      "source": [
        "Times distribuidos de modo equilibrado para que todos os setores tivessem um bom número de referências para fazermos análise do gráfico."
      ]
    },
    {
      "cell_type": "code",
      "metadata": {
        "id": "-Ph8l24pu_1G",
        "colab_type": "code",
        "outputId": "796a0917-e3de-4f00-d30f-d87366728938",
        "colab": {
          "base_uri": "https://localhost:8080/",
          "height": 439
        }
      },
      "source": [
        "sns.factorplot(x='Pos.',col='setor_valor_total',kind='count',data=dados)"
      ],
      "execution_count": 0,
      "outputs": [
        {
          "output_type": "stream",
          "text": [
            "/usr/local/lib/python3.6/dist-packages/seaborn/categorical.py:3666: UserWarning: The `factorplot` function has been renamed to `catplot`. The original name will be removed in a future release. Please update your code. Note that the default `kind` in `factorplot` (`'point'`) has changed `'strip'` in `catplot`.\n",
            "  warnings.warn(msg)\n"
          ],
          "name": "stderr"
        },
        {
          "output_type": "execute_result",
          "data": {
            "text/plain": [
              "<seaborn.axisgrid.FacetGrid at 0x7fecc7aa58d0>"
            ]
          },
          "metadata": {
            "tags": []
          },
          "execution_count": 6
        },
        {
          "output_type": "display_data",
          "data": {
            "image/png": "[encoded data removed]",
            "text/plain": [
              "<Figure size 1080x360 with 3 Axes>"
            ]
          },
          "metadata": {
            "tags": [],
            "needs_background": "light"
          }
        }
      ]
    },
    {
      "cell_type": "markdown",
      "metadata": {
        "id": "kb1rjg1boXUT",
        "colab_type": "text"
      },
      "source": [
        "Aqui fica visível a diferença nas posições ocupadas no qual os times que investiram mais(**setor 3**) tiveram um melhor resultado"
      ]
    },
    {
      "cell_type": "code",
      "metadata": {
        "id": "vKgC8UGS1mNi",
        "colab_type": "code",
        "colab": {}
      },
      "source": [
        "dados['pesos_valor_total']=0\n",
        "dados.loc[dados.setor_valor_total==2,\"pesos_valor_total\"]=1\n",
        "dados.loc[dados.setor_valor_total==3,\"pesos_valor_total\"]=2"
      ],
      "execution_count": 0,
      "outputs": []
    },
    {
      "cell_type": "markdown",
      "metadata": {
        "id": "tHxbTyj9ycX9",
        "colab_type": "text"
      },
      "source": [
        "Pesos de acordo com o setor."
      ]
    },
    {
      "cell_type": "code",
      "metadata": {
        "id": "6rgBa6Edw6iC",
        "colab_type": "code",
        "outputId": "367eed1b-ac1f-47e4-cf8a-216f968c697d",
        "colab": {
          "base_uri": "https://localhost:8080/",
          "height": 297
        }
      },
      "source": [
        "dados['setor_valor_medio']=1\n",
        "dados.loc[dados.Media_Valor>=0.6e+06,\"setor_valor_medio\"]=2\n",
        "dados.loc[dados.Media_Valor>=1.2e+06,\"setor_valor_medio\"]=3\n",
        "sns.countplot(x='setor_valor_medio',data=dados)"
      ],
      "execution_count": 0,
      "outputs": [
        {
          "output_type": "execute_result",
          "data": {
            "text/plain": [
              "<matplotlib.axes._subplots.AxesSubplot at 0x7fecd45c6550>"
            ]
          },
          "metadata": {
            "tags": []
          },
          "execution_count": 8
        },
        {
          "output_type": "display_data",
          "data": {
            "image/png": "[encoded data removed]",
            "text/plain": [
              "<Figure size 432x288 with 1 Axes>"
            ]
          },
          "metadata": {
            "tags": [],
            "needs_background": "light"
          }
        }
      ]
    },
    {
      "cell_type": "markdown",
      "metadata": {
        "id": "CLlH-2R7o0SE",
        "colab_type": "text"
      },
      "source": [
        "Times distribuidos de modo equilibrado para que todos os setores tivessem um bom número de referências para fazermos análise do gráfico."
      ]
    },
    {
      "cell_type": "code",
      "metadata": {
        "id": "NKp2v10jvrf6",
        "colab_type": "code",
        "outputId": "413383bb-beb3-4fb9-8f7e-2a32f60f6e24",
        "colab": {
          "base_uri": "https://localhost:8080/",
          "height": 439
        }
      },
      "source": [
        "sns.factorplot(x='Pos.',col='setor_valor_medio',kind='count',data=dados)"
      ],
      "execution_count": 0,
      "outputs": [
        {
          "output_type": "stream",
          "text": [
            "/usr/local/lib/python3.6/dist-packages/seaborn/categorical.py:3666: UserWarning: The `factorplot` function has been renamed to `catplot`. The original name will be removed in a future release. Please update your code. Note that the default `kind` in `factorplot` (`'point'`) has changed `'strip'` in `catplot`.\n",
            "  warnings.warn(msg)\n"
          ],
          "name": "stderr"
        },
        {
          "output_type": "execute_result",
          "data": {
            "text/plain": [
              "<seaborn.axisgrid.FacetGrid at 0x7fecc5287ba8>"
            ]
          },
          "metadata": {
            "tags": []
          },
          "execution_count": 9
        },
        {
          "output_type": "display_data",
          "data": {
            "image/png": "[encoded data removed]",
            "text/plain": [
              "<Figure size 1080x360 with 3 Axes>"
            ]
          },
          "metadata": {
            "tags": [],
            "needs_background": "light"
          }
        }
      ]
    },
    {
      "cell_type": "markdown",
      "metadata": {
        "id": "90UH7UF0o6sZ",
        "colab_type": "text"
      },
      "source": [
        "Aqui fica visível a diferença nas posições ocupadas no qual os times que investiram mais por jogador(**setor 3**) tiveram um melhor desempenho."
      ]
    },
    {
      "cell_type": "code",
      "metadata": {
        "id": "Q7zTRQJb3EcD",
        "colab_type": "code",
        "colab": {}
      },
      "source": [
        "dados['pesos_valor_medio']=0\n",
        "dados.loc[dados.setor_valor_medio==2,\"pesos_valor_medio\"]=1\n",
        "dados.loc[dados.setor_valor_medio==3,\"pesos_valor_medio\"]=2"
      ],
      "execution_count": 0,
      "outputs": []
    },
    {
      "cell_type": "markdown",
      "metadata": {
        "id": "a6id_ViZy2m0",
        "colab_type": "text"
      },
      "source": [
        "Pesos de acordo com o setor."
      ]
    },
    {
      "cell_type": "code",
      "metadata": {
        "id": "oJz0dJMeyQKa",
        "colab_type": "code",
        "outputId": "706f6838-499c-4da5-f65c-cfe2c5a94592",
        "colab": {
          "base_uri": "https://localhost:8080/",
          "height": 297
        }
      },
      "source": [
        "dados['setor_idade_media']='[18,23)'\n",
        "dados.loc[dados.Idade_Media>=23,\"setor_idade_media\"]='[23,24)'\n",
        "dados.loc[dados.Idade_Media>=24,\"setor_idade_media\"]='[24,25)'\n",
        "dados.loc[dados.Idade_Media>=25,\"setor_idade_media\"]='25 ou mais'\n",
        "sns.countplot(x='setor_idade_media',data=dados)"
      ],
      "execution_count": 0,
      "outputs": [
        {
          "output_type": "execute_result",
          "data": {
            "text/plain": [
              "<matplotlib.axes._subplots.AxesSubplot at 0x7fecc80468d0>"
            ]
          },
          "metadata": {
            "tags": []
          },
          "execution_count": 11
        },
        {
          "output_type": "display_data",
          "data": {
            "image/png": "[encoded data removed]",
            "text/plain": [
              "<Figure size 432x288 with 1 Axes>"
            ]
          },
          "metadata": {
            "tags": [],
            "needs_background": "light"
          }
        }
      ]
    },
    {
      "cell_type": "markdown",
      "metadata": {
        "id": "gmOkSe5Kpaot",
        "colab_type": "text"
      },
      "source": [
        "Fica evidente que a maioria dos times optam por possuir um time com média de idade de 23 até 25 anos"
      ]
    },
    {
      "cell_type": "code",
      "metadata": {
        "id": "XcgpWB8rv4kF",
        "colab_type": "code",
        "outputId": "0f84e352-9b20-400c-9e2f-9e36e1260b7c",
        "colab": {
          "base_uri": "https://localhost:8080/",
          "height": 358
        }
      },
      "source": [
        "sns.factorplot(x='Pos.',col='setor_idade_media',kind='count',data=dados)"
      ],
      "execution_count": 0,
      "outputs": [
        {
          "output_type": "stream",
          "text": [
            "/usr/local/lib/python3.6/dist-packages/seaborn/categorical.py:3666: UserWarning: The `factorplot` function has been renamed to `catplot`. The original name will be removed in a future release. Please update your code. Note that the default `kind` in `factorplot` (`'point'`) has changed `'strip'` in `catplot`.\n",
            "  warnings.warn(msg)\n"
          ],
          "name": "stderr"
        },
        {
          "output_type": "execute_result",
          "data": {
            "text/plain": [
              "<seaborn.axisgrid.FacetGrid at 0x7fecc4d9cc50>"
            ]
          },
          "metadata": {
            "tags": []
          },
          "execution_count": 12
        },
        {
          "output_type": "display_data",
          "data": {
            "image/png": "[encoded data removed]",
            "text/plain": [
              "<Figure size 1440x360 with 4 Axes>"
            ]
          },
          "metadata": {
            "tags": [],
            "needs_background": "light"
          }
        }
      ]
    },
    {
      "cell_type": "markdown",
      "metadata": {
        "id": "3DjhujGfvIPt",
        "colab_type": "text"
      },
      "source": [
        "É possível ver que os jogadores de 23 a 24 anos possui uma média de rendimento melhor que os outros."
      ]
    },
    {
      "cell_type": "code",
      "metadata": {
        "id": "r8tYyONQzXPG",
        "colab_type": "code",
        "colab": {}
      },
      "source": [
        "dados['pesos_idade_media']=1\n",
        "dados.loc[dados.setor_idade_media=='[23,24)',\"pesos_idade_media\"]=2\n",
        "dados.loc[dados.setor_idade_media=='[24,25)',\"pesos_idade_media\"]=1\n",
        "dados.loc[dados.setor_idade_media=='25 ou mais',\"pesos_idade_media\"]=0"
      ],
      "execution_count": 0,
      "outputs": []
    },
    {
      "cell_type": "markdown",
      "metadata": {
        "id": "XafB6MCNzkZ6",
        "colab_type": "text"
      },
      "source": [
        "Dando os respectivos pesos."
      ]
    },
    {
      "cell_type": "code",
      "metadata": {
        "id": "TACpLYXd1rAN",
        "colab_type": "code",
        "outputId": "53f39809-94e5-41d5-e1d5-2cd2f297292a",
        "colab": {
          "base_uri": "https://localhost:8080/",
          "height": 297
        }
      },
      "source": [
        "dados['setor_estrangeiro']='0 ou 1'\n",
        "dados.loc[dados.Estrangeiros>=2,\"setor_estrangeiro\"]='2 ou 3'\n",
        "dados.loc[dados.Estrangeiros>=4,\"setor_estrangeiro\"]=4\n",
        "dados.loc[dados.Estrangeiros>=5,\"setor_estrangeiro\"]='5 ou mais'\n",
        "sns.countplot(x='setor_estrangeiro',data=dados)"
      ],
      "execution_count": 0,
      "outputs": [
        {
          "output_type": "execute_result",
          "data": {
            "text/plain": [
              "<matplotlib.axes._subplots.AxesSubplot at 0x7fecc491d6a0>"
            ]
          },
          "metadata": {
            "tags": []
          },
          "execution_count": 14
        },
        {
          "output_type": "display_data",
          "data": {
            "image/png": "[encoded data removed]",
            "text/plain": [
              "<Figure size 432x288 with 1 Axes>"
            ]
          },
          "metadata": {
            "tags": [],
            "needs_background": "light"
          }
        }
      ]
    },
    {
      "cell_type": "code",
      "metadata": {
        "id": "G2HjzIl2E0e4",
        "colab_type": "code",
        "outputId": "55d789a5-ea8e-4f03-8271-0a8d715edfb1",
        "colab": {
          "base_uri": "https://localhost:8080/",
          "height": 358
        }
      },
      "source": [
        "sns.factorplot(x='Pos.',col='setor_estrangeiro',kind='count',data=dados)"
      ],
      "execution_count": 0,
      "outputs": [
        {
          "output_type": "stream",
          "text": [
            "/usr/local/lib/python3.6/dist-packages/seaborn/categorical.py:3666: UserWarning: The `factorplot` function has been renamed to `catplot`. The original name will be removed in a future release. Please update your code. Note that the default `kind` in `factorplot` (`'point'`) has changed `'strip'` in `catplot`.\n",
            "  warnings.warn(msg)\n"
          ],
          "name": "stderr"
        },
        {
          "output_type": "execute_result",
          "data": {
            "text/plain": [
              "<seaborn.axisgrid.FacetGrid at 0x7fecc4fd96d8>"
            ]
          },
          "metadata": {
            "tags": []
          },
          "execution_count": 15
        },
        {
          "output_type": "display_data",
          "data": {
            "image/png": "[encoded data removed]",
            "text/plain": [
              "<Figure size 1440x360 with 4 Axes>"
            ]
          },
          "metadata": {
            "tags": [],
            "needs_background": "light"
          }
        }
      ]
    },
    {
      "cell_type": "markdown",
      "metadata": {
        "id": "PgXQuvl-tHNk",
        "colab_type": "text"
      },
      "source": [
        "O melhores times possuem de 2 a 4 jogadores estrangeiros."
      ]
    },
    {
      "cell_type": "code",
      "metadata": {
        "id": "nB_cmtXPzuD5",
        "colab_type": "code",
        "colab": {}
      },
      "source": [
        "dados['pesos_estrangeiro']=0\n",
        "dados.loc[dados.setor_estrangeiro=='2 ou 3',\"pesos_estrangeiro\"]=1\n",
        "dados.loc[dados.setor_estrangeiro==4,\"pesos_estrangeiro\"]=2\n",
        "dados.loc[dados.setor_estrangeiro=='5 ou mais',\"pesos_estrangeiro\"]=0"
      ],
      "execution_count": 0,
      "outputs": []
    },
    {
      "cell_type": "markdown",
      "metadata": {
        "id": "1pnquKLiX8Jg",
        "colab_type": "text"
      },
      "source": [
        "Pesos de acordo com o setor."
      ]
    },
    {
      "cell_type": "code",
      "metadata": {
        "id": "16KNm4o20KBM",
        "colab_type": "code",
        "outputId": "90b2b3df-0687-447f-8b4e-0b11d427561f",
        "colab": {
          "base_uri": "https://localhost:8080/",
          "height": 34
        }
      },
      "source": [
        "dados['pontuaçãogeral']=dados.pesos_idade_media+dados.pesos_estrangeiro+dados.pesos_valor_medio+dados.pesos_valor_total\n",
        "teste=dados.sort_values([\"pontuaçãogeral\",\"pesos_valor_total\",'pesos_valor_medio',\"setor_idade_media\"],ascending=[False,False,True,False]).loc[:,[\"Clubes\",\"Pos.\",\"pontuaçãogeral\"]].reset_index(drop=True)\n",
        "teste['diferença']= ((teste.index//9 )+ 1) - teste['Pos.']\n",
        "teste.diferença.std()"
      ],
      "execution_count": 0,
      "outputs": [
        {
          "output_type": "execute_result",
          "data": {
            "text/plain": [
              "5.756706072440148"
            ]
          },
          "metadata": {
            "tags": []
          },
          "execution_count": 17
        }
      ]
    },
    {
      "cell_type": "markdown",
      "metadata": {
        "id": "mJntWFM8XyYA",
        "colab_type": "text"
      },
      "source": [
        "Buscamos o menor desvio de resultados."
      ]
    },
    {
      "cell_type": "markdown",
      "metadata": {
        "id": "VPUtCTiU-BNa",
        "colab_type": "text"
      },
      "source": [
        "Usando os dados de **2018** para verificar validade das análises."
      ]
    },
    {
      "cell_type": "code",
      "metadata": {
        "id": "m5O8v7AA7eh0",
        "colab_type": "code",
        "colab": {}
      },
      "source": [
        "APrever['setor_valor_total']=1\n",
        "APrever.loc[APrever.Valor_total>=0.25e+08,\"setor_valor_total\"]=2\n",
        "APrever.loc[APrever.Valor_total>=0.5e+08,\"setor_valor_total\"]=3\n",
        "APrever['pesos_valor_total']=0\n",
        "APrever.loc[APrever.setor_valor_total==2,\"pesos_valor_total\"]=1\n",
        "APrever.loc[APrever.setor_valor_total==3,\"pesos_valor_total\"]=2"
      ],
      "execution_count": 0,
      "outputs": []
    },
    {
      "cell_type": "code",
      "metadata": {
        "id": "L8S-lfNY8HA9",
        "colab_type": "code",
        "colab": {}
      },
      "source": [
        "APrever['setor_valor_medio']=1\n",
        "APrever.loc[APrever.Media_Valor>=0.6e+06,\"setor_valor_medio\"]=2\n",
        "APrever.loc[APrever.Media_Valor>=1.2e+06,\"setor_valor_medio\"]=3\n",
        "APrever['pesos_valor_medio']=0\n",
        "APrever.loc[APrever.setor_valor_medio==2,\"pesos_valor_medio\"]=1\n",
        "APrever.loc[APrever.setor_valor_medio==3,\"pesos_valor_medio\"]=2"
      ],
      "execution_count": 0,
      "outputs": []
    },
    {
      "cell_type": "code",
      "metadata": {
        "id": "OhHKdpC88blc",
        "colab_type": "code",
        "colab": {}
      },
      "source": [
        "APrever['setor_idade_media']='[18,23)'\n",
        "APrever.loc[APrever.Idade_Media>=23,\"setor_idade_media\"]='[23,24)'\n",
        "APrever.loc[APrever.Idade_Media>=24,\"setor_idade_media\"]='[24,25)'\n",
        "APrever.loc[APrever.Idade_Media>=25,\"setor_idade_media\"]='25 ou mais'\n",
        "APrever['pesos_idade_media']=1\n",
        "APrever.loc[APrever.setor_idade_media=='[23,24)',\"pesos_idade_media\"]=2\n",
        "APrever.loc[APrever.setor_idade_media=='[24,25)',\"pesos_idade_media\"]=1\n",
        "APrever.loc[APrever.setor_idade_media=='25 ou mais',\"pesos_idade_media\"]=0"
      ],
      "execution_count": 0,
      "outputs": []
    },
    {
      "cell_type": "code",
      "metadata": {
        "id": "x_zQKe5i8qP5",
        "colab_type": "code",
        "colab": {}
      },
      "source": [
        "APrever['setor_estrangeiro']=0\n",
        "APrever.loc[APrever.Estrangeiros>=2,\"setor_estrangeiro\"]='2 ou 3'\n",
        "APrever.loc[APrever.Estrangeiros>=4,\"setor_estrangeiro\"]=4\n",
        "APrever.loc[APrever.Estrangeiros>=5,\"setor_estrangeiro\"]='5 ou mais'\n",
        "APrever['pesos_estrangeiro']=0\n",
        "APrever.loc[APrever.setor_estrangeiro=='2 ou 3',\"pesos_estrangeiro\"]=1\n",
        "APrever.loc[APrever.setor_estrangeiro==4,\"pesos_estrangeiro\"]=2\n",
        "APrever.loc[APrever.setor_estrangeiro=='5 ou mais',\"pesos_estrangeiro\"]=0"
      ],
      "execution_count": 0,
      "outputs": []
    },
    {
      "cell_type": "code",
      "metadata": {
        "id": "wXydTIZHMlzL",
        "colab_type": "code",
        "outputId": "486ef8d9-d8b4-48df-852d-8a858111ed54",
        "colab": {
          "base_uri": "https://localhost:8080/",
          "height": 97
        }
      },
      "source": [
        "APrever.head(1)"
      ],
      "execution_count": 0,
      "outputs": [
        {
          "output_type": "execute_result",
          "data": {
            "text/html": [
              "<div>\n",
              "<style scoped>\n",
              "    .dataframe tbody tr th:only-of-type {\n",
              "        vertical-align: middle;\n",
              "    }\n",
              "\n",
              "    .dataframe tbody tr th {\n",
              "        vertical-align: top;\n",
              "    }\n",
              "\n",
              "    .dataframe thead th {\n",
              "        text-align: right;\n",
              "    }\n",
              "</style>\n",
              "<table border=\"1\" class=\"dataframe\">\n",
              "  <thead>\n",
              "    <tr style=\"text-align: right;\">\n",
              "      <th></th>\n",
              "      <th>Ano</th>\n",
              "      <th>Pos.</th>\n",
              "      <th>Clubes</th>\n",
              "      <th>Vitorias</th>\n",
              "      <th>Empates</th>\n",
              "      <th>Derrotas</th>\n",
              "      <th>GolsF/S</th>\n",
              "      <th>Saldo</th>\n",
              "      <th>Qtd_Jogadores</th>\n",
              "      <th>Idade_Media</th>\n",
              "      <th>Estrangeiros</th>\n",
              "      <th>Valor_total</th>\n",
              "      <th>Media_Valor</th>\n",
              "      <th>setor_valor_total</th>\n",
              "      <th>pesos_valor_total</th>\n",
              "      <th>setor_valor_medio</th>\n",
              "      <th>pesos_valor_medio</th>\n",
              "      <th>setor_idade_media</th>\n",
              "      <th>pesos_idade_media</th>\n",
              "      <th>setor_estrangeiro</th>\n",
              "      <th>pesos_estrangeiro</th>\n",
              "    </tr>\n",
              "  </thead>\n",
              "  <tbody>\n",
              "    <tr>\n",
              "      <th>13</th>\n",
              "      <td>2018</td>\n",
              "      <td>1</td>\n",
              "      <td>Palmeiras</td>\n",
              "      <td>23</td>\n",
              "      <td>11</td>\n",
              "      <td>4</td>\n",
              "      <td>64:26</td>\n",
              "      <td>38</td>\n",
              "      <td>48</td>\n",
              "      <td>24.8</td>\n",
              "      <td>4</td>\n",
              "      <td>88330000</td>\n",
              "      <td>1840000</td>\n",
              "      <td>3</td>\n",
              "      <td>2</td>\n",
              "      <td>3</td>\n",
              "      <td>2</td>\n",
              "      <td>[24,25)</td>\n",
              "      <td>1</td>\n",
              "      <td>4</td>\n",
              "      <td>2</td>\n",
              "    </tr>\n",
              "  </tbody>\n",
              "</table>\n",
              "</div>"
            ],
            "text/plain": [
              "     Ano  Pos.  ... setor_estrangeiro  pesos_estrangeiro\n",
              "13  2018     1  ...                 4                  2\n",
              "\n",
              "[1 rows x 21 columns]"
            ]
          },
          "metadata": {
            "tags": []
          },
          "execution_count": 22
        }
      ]
    },
    {
      "cell_type": "code",
      "metadata": {
        "id": "tjpHuk3u89ZY",
        "colab_type": "code",
        "outputId": "c9a8517e-b521-452d-c798-d64b7829cf84",
        "colab": {
          "base_uri": "https://localhost:8080/",
          "height": 639
        }
      },
      "source": [
        "APrever['pontuaçãogeral']=APrever.pesos_idade_media+APrever.pesos_estrangeiro+APrever.pesos_valor_medio+APrever.pesos_valor_total\n",
        "previsao=APrever.sort_values([\"pontuaçãogeral\",\"pesos_valor_total\",'pesos_valor_medio',\"pesos_idade_media\"],ascending=[False,False,True,False]).loc[:,[\"Clubes\",\"Pos.\",\"pontuaçãogeral\"]].reset_index(drop=True)\n",
        "previsao.index=previsao.index +1\n",
        "previsao['correto']= previsao.index == previsao['Pos.']\n",
        "previsao['diferença']=previsao.index-previsao['Pos.' ]\n",
        "previsao"
      ],
      "execution_count": 0,
      "outputs": [
        {
          "output_type": "execute_result",
          "data": {
            "text/html": [
              "<div>\n",
              "<style scoped>\n",
              "    .dataframe tbody tr th:only-of-type {\n",
              "        vertical-align: middle;\n",
              "    }\n",
              "\n",
              "    .dataframe tbody tr th {\n",
              "        vertical-align: top;\n",
              "    }\n",
              "\n",
              "    .dataframe thead th {\n",
              "        text-align: right;\n",
              "    }\n",
              "</style>\n",
              "<table border=\"1\" class=\"dataframe\">\n",
              "  <thead>\n",
              "    <tr style=\"text-align: right;\">\n",
              "      <th></th>\n",
              "      <th>Clubes</th>\n",
              "      <th>Pos.</th>\n",
              "      <th>pontuaçãogeral</th>\n",
              "      <th>correto</th>\n",
              "      <th>diferença</th>\n",
              "    </tr>\n",
              "  </thead>\n",
              "  <tbody>\n",
              "    <tr>\n",
              "      <th>1</th>\n",
              "      <td>Palmeiras</td>\n",
              "      <td>1</td>\n",
              "      <td>7</td>\n",
              "      <td>True</td>\n",
              "      <td>0</td>\n",
              "    </tr>\n",
              "    <tr>\n",
              "      <th>2</th>\n",
              "      <td>Flamengo</td>\n",
              "      <td>2</td>\n",
              "      <td>6</td>\n",
              "      <td>True</td>\n",
              "      <td>0</td>\n",
              "    </tr>\n",
              "    <tr>\n",
              "      <th>3</th>\n",
              "      <td>Sao Paulo</td>\n",
              "      <td>5</td>\n",
              "      <td>6</td>\n",
              "      <td>False</td>\n",
              "      <td>-2</td>\n",
              "    </tr>\n",
              "    <tr>\n",
              "      <th>4</th>\n",
              "      <td>Atletico-MG</td>\n",
              "      <td>6</td>\n",
              "      <td>6</td>\n",
              "      <td>False</td>\n",
              "      <td>-2</td>\n",
              "    </tr>\n",
              "    <tr>\n",
              "      <th>5</th>\n",
              "      <td>Santos</td>\n",
              "      <td>10</td>\n",
              "      <td>6</td>\n",
              "      <td>False</td>\n",
              "      <td>-5</td>\n",
              "    </tr>\n",
              "    <tr>\n",
              "      <th>6</th>\n",
              "      <td>Gremio</td>\n",
              "      <td>4</td>\n",
              "      <td>5</td>\n",
              "      <td>False</td>\n",
              "      <td>2</td>\n",
              "    </tr>\n",
              "    <tr>\n",
              "      <th>7</th>\n",
              "      <td>Internacional</td>\n",
              "      <td>3</td>\n",
              "      <td>5</td>\n",
              "      <td>False</td>\n",
              "      <td>4</td>\n",
              "    </tr>\n",
              "    <tr>\n",
              "      <th>8</th>\n",
              "      <td>Cruzeiro</td>\n",
              "      <td>8</td>\n",
              "      <td>5</td>\n",
              "      <td>True</td>\n",
              "      <td>0</td>\n",
              "    </tr>\n",
              "    <tr>\n",
              "      <th>9</th>\n",
              "      <td>Botafogo</td>\n",
              "      <td>9</td>\n",
              "      <td>5</td>\n",
              "      <td>True</td>\n",
              "      <td>0</td>\n",
              "    </tr>\n",
              "    <tr>\n",
              "      <th>10</th>\n",
              "      <td>Bahia</td>\n",
              "      <td>11</td>\n",
              "      <td>5</td>\n",
              "      <td>False</td>\n",
              "      <td>-1</td>\n",
              "    </tr>\n",
              "    <tr>\n",
              "      <th>11</th>\n",
              "      <td>Corinthians</td>\n",
              "      <td>13</td>\n",
              "      <td>4</td>\n",
              "      <td>False</td>\n",
              "      <td>-2</td>\n",
              "    </tr>\n",
              "    <tr>\n",
              "      <th>12</th>\n",
              "      <td>Fluminense</td>\n",
              "      <td>12</td>\n",
              "      <td>4</td>\n",
              "      <td>True</td>\n",
              "      <td>0</td>\n",
              "    </tr>\n",
              "    <tr>\n",
              "      <th>13</th>\n",
              "      <td>Vasco</td>\n",
              "      <td>16</td>\n",
              "      <td>4</td>\n",
              "      <td>False</td>\n",
              "      <td>-3</td>\n",
              "    </tr>\n",
              "    <tr>\n",
              "      <th>14</th>\n",
              "      <td>Vitoria</td>\n",
              "      <td>19</td>\n",
              "      <td>4</td>\n",
              "      <td>False</td>\n",
              "      <td>-5</td>\n",
              "    </tr>\n",
              "    <tr>\n",
              "      <th>15</th>\n",
              "      <td>Athletico-PR</td>\n",
              "      <td>7</td>\n",
              "      <td>4</td>\n",
              "      <td>False</td>\n",
              "      <td>8</td>\n",
              "    </tr>\n",
              "    <tr>\n",
              "      <th>16</th>\n",
              "      <td>Chapecoense</td>\n",
              "      <td>14</td>\n",
              "      <td>3</td>\n",
              "      <td>False</td>\n",
              "      <td>2</td>\n",
              "    </tr>\n",
              "    <tr>\n",
              "      <th>17</th>\n",
              "      <td>Sport</td>\n",
              "      <td>17</td>\n",
              "      <td>3</td>\n",
              "      <td>True</td>\n",
              "      <td>0</td>\n",
              "    </tr>\n",
              "    <tr>\n",
              "      <th>18</th>\n",
              "      <td>America-MG</td>\n",
              "      <td>18</td>\n",
              "      <td>2</td>\n",
              "      <td>True</td>\n",
              "      <td>0</td>\n",
              "    </tr>\n",
              "    <tr>\n",
              "      <th>19</th>\n",
              "      <td>Ceara</td>\n",
              "      <td>15</td>\n",
              "      <td>2</td>\n",
              "      <td>False</td>\n",
              "      <td>4</td>\n",
              "    </tr>\n",
              "    <tr>\n",
              "      <th>20</th>\n",
              "      <td>Parana</td>\n",
              "      <td>20</td>\n",
              "      <td>2</td>\n",
              "      <td>True</td>\n",
              "      <td>0</td>\n",
              "    </tr>\n",
              "  </tbody>\n",
              "</table>\n",
              "</div>"
            ],
            "text/plain": [
              "           Clubes  Pos.  pontuaçãogeral  correto  diferença\n",
              "1       Palmeiras     1               7     True          0\n",
              "2        Flamengo     2               6     True          0\n",
              "3       Sao Paulo     5               6    False         -2\n",
              "4     Atletico-MG     6               6    False         -2\n",
              "5          Santos    10               6    False         -5\n",
              "6          Gremio     4               5    False          2\n",
              "7   Internacional     3               5    False          4\n",
              "8        Cruzeiro     8               5     True          0\n",
              "9        Botafogo     9               5     True          0\n",
              "10          Bahia    11               5    False         -1\n",
              "11    Corinthians    13               4    False         -2\n",
              "12     Fluminense    12               4     True          0\n",
              "13          Vasco    16               4    False         -3\n",
              "14        Vitoria    19               4    False         -5\n",
              "15   Athletico-PR     7               4    False          8\n",
              "16    Chapecoense    14               3    False          2\n",
              "17          Sport    17               3     True          0\n",
              "18     America-MG    18               2     True          0\n",
              "19          Ceara    15               2    False          4\n",
              "20         Parana    20               2     True          0"
            ]
          },
          "metadata": {
            "tags": []
          },
          "execution_count": 23
        }
      ]
    },
    {
      "cell_type": "markdown",
      "metadata": {
        "id": "V9Vla2vR-QPF",
        "colab_type": "text"
      },
      "source": [
        "**Resultado previsto** dos dados para o ano de **2018** "
      ]
    },
    {
      "cell_type": "markdown",
      "metadata": {
        "id": "ZIH6XRedO_1i",
        "colab_type": "text"
      },
      "source": [
        "Xtest=dados.loc[:,['Vitorias','Derrotas','Empates']]\n",
        "ytest=dados['Pos.']\n",
        "model=LinearRegression(fit_intercept=True) \n",
        "model.fit(Xtest,ytest)\n",
        "\n",
        "Xprev=APrever.loc[:,['Vitorias','Derrotas','Empates']]\n",
        "#yReal=APrever['Pos.'].index\n",
        "yPrev=model.predict(Xprev)\n",
        "\n",
        "from sklearn.metrics import accuracy_score\n",
        "from sklearn.model_selection import cross_val_score\n",
        "from sklearn.model_selection import LeaveOneOut\n",
        "score=cross_val_score(model,Xtest,ytest,cv=9)\n",
        "\n",
        "sobreviventes=pd.DataFrame({'Clubes':APrever.Clubes,'ordem':yPrev})\n",
        "sobreviventes.sort_values('ordem',inplace=True)\n",
        "\n",
        "\n",
        "classificacao=pd.DataFrame({'Clubes':sobreviventes.Clubes})\n",
        "classificacao.reset_index(drop=True,inplace=True)\n",
        "classificacao.index=classificacao.index+1\n",
        "classificacao['OrdemCorreta']=APrever.Clubes\n",
        "\n",
        "classificacao"
      ]
    },
    {
      "cell_type": "code",
      "metadata": {
        "id": "lb4nDzLasQLU",
        "colab_type": "code",
        "colab": {}
      },
      "source": [
        ""
      ],
      "execution_count": 0,
      "outputs": []
    }
  ]
}